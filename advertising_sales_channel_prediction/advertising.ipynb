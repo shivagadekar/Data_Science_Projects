{
 "cells": [
  {
   "cell_type": "markdown",
   "id": "379c345e",
   "metadata": {},
   "source": [
    "# Importing Libraries"
   ]
  },
  {
   "cell_type": "code",
   "execution_count": 1,
   "id": "6a609f52",
   "metadata": {},
   "outputs": [],
   "source": [
    "import numpy as np\n",
    "import pandas as pd\n",
    "import scipy\n",
    "import sklearn\n",
    "import seaborn as sns\n",
    "import matplotlib.pyplot as plt\n",
    "import warnings\n",
    "from pylab import rcParams  # for plotting box plot, to check outliers\n",
    "warnings.filterwarnings('ignore')\n",
    "from sklearn.preprocessing import LabelEncoder\n",
    "from sklearn.preprocessing import StandardScaler  # for scaling"
   ]
  },
  {
   "cell_type": "code",
   "execution_count": 2,
   "id": "fc7da512",
   "metadata": {},
   "outputs": [],
   "source": [
    "# For handling outliers\n",
    "# importing required libraries\n",
    "from scipy import stats\n",
    "import statsmodels.api as sm\n",
    "from statsmodels.stats.outliers_influence import variance_inflation_factor\n",
    "from scipy.stats import zscore"
   ]
  },
  {
   "cell_type": "code",
   "execution_count": 3,
   "id": "eac1b191",
   "metadata": {},
   "outputs": [],
   "source": [
    "# For machine learning and finding \n",
    "from sklearn.linear_model import LinearRegression\n",
    "from sklearn.metrics import mean_squared_error, mean_absolute_error,r2_score\n",
    "from sklearn.model_selection import train_test_split\n",
    "from sklearn.model_selection import cross_val_score"
   ]
  },
  {
   "cell_type": "markdown",
   "id": "4d1d9c9a",
   "metadata": {},
   "source": [
    "# Reading data frame and understanding data"
   ]
  },
  {
   "cell_type": "code",
   "execution_count": 4,
   "id": "d5f6f6bd",
   "metadata": {},
   "outputs": [],
   "source": [
    "df = pd.read_csv('Advertising.csv')"
   ]
  },
  {
   "cell_type": "code",
   "execution_count": 5,
   "id": "4d5855ff",
   "metadata": {},
   "outputs": [
    {
     "data": {
      "text/html": [
       "<div>\n",
       "<style scoped>\n",
       "    .dataframe tbody tr th:only-of-type {\n",
       "        vertical-align: middle;\n",
       "    }\n",
       "\n",
       "    .dataframe tbody tr th {\n",
       "        vertical-align: top;\n",
       "    }\n",
       "\n",
       "    .dataframe thead th {\n",
       "        text-align: right;\n",
       "    }\n",
       "</style>\n",
       "<table border=\"1\" class=\"dataframe\">\n",
       "  <thead>\n",
       "    <tr style=\"text-align: right;\">\n",
       "      <th></th>\n",
       "      <th>Unnamed: 0</th>\n",
       "      <th>TV</th>\n",
       "      <th>radio</th>\n",
       "      <th>newspaper</th>\n",
       "      <th>sales</th>\n",
       "    </tr>\n",
       "  </thead>\n",
       "  <tbody>\n",
       "    <tr>\n",
       "      <th>0</th>\n",
       "      <td>1</td>\n",
       "      <td>230.1</td>\n",
       "      <td>37.8</td>\n",
       "      <td>69.2</td>\n",
       "      <td>22.1</td>\n",
       "    </tr>\n",
       "    <tr>\n",
       "      <th>1</th>\n",
       "      <td>2</td>\n",
       "      <td>44.5</td>\n",
       "      <td>39.3</td>\n",
       "      <td>45.1</td>\n",
       "      <td>10.4</td>\n",
       "    </tr>\n",
       "    <tr>\n",
       "      <th>2</th>\n",
       "      <td>3</td>\n",
       "      <td>17.2</td>\n",
       "      <td>45.9</td>\n",
       "      <td>69.3</td>\n",
       "      <td>9.3</td>\n",
       "    </tr>\n",
       "    <tr>\n",
       "      <th>3</th>\n",
       "      <td>4</td>\n",
       "      <td>151.5</td>\n",
       "      <td>41.3</td>\n",
       "      <td>58.5</td>\n",
       "      <td>18.5</td>\n",
       "    </tr>\n",
       "    <tr>\n",
       "      <th>4</th>\n",
       "      <td>5</td>\n",
       "      <td>180.8</td>\n",
       "      <td>10.8</td>\n",
       "      <td>58.4</td>\n",
       "      <td>12.9</td>\n",
       "    </tr>\n",
       "  </tbody>\n",
       "</table>\n",
       "</div>"
      ],
      "text/plain": [
       "   Unnamed: 0     TV  radio  newspaper  sales\n",
       "0           1  230.1   37.8       69.2   22.1\n",
       "1           2   44.5   39.3       45.1   10.4\n",
       "2           3   17.2   45.9       69.3    9.3\n",
       "3           4  151.5   41.3       58.5   18.5\n",
       "4           5  180.8   10.8       58.4   12.9"
      ]
     },
     "execution_count": 5,
     "metadata": {},
     "output_type": "execute_result"
    }
   ],
   "source": [
    "df.head()"
   ]
  },
  {
   "cell_type": "code",
   "execution_count": 6,
   "id": "b82a84c6",
   "metadata": {},
   "outputs": [],
   "source": [
    "df.drop(['Unnamed: 0'], axis=1, inplace=True)  # Dropping, Unnamed: 0 column"
   ]
  },
  {
   "cell_type": "code",
   "execution_count": 7,
   "id": "30f8d4e5",
   "metadata": {
    "scrolled": true
   },
   "outputs": [
    {
     "data": {
      "text/html": [
       "<div>\n",
       "<style scoped>\n",
       "    .dataframe tbody tr th:only-of-type {\n",
       "        vertical-align: middle;\n",
       "    }\n",
       "\n",
       "    .dataframe tbody tr th {\n",
       "        vertical-align: top;\n",
       "    }\n",
       "\n",
       "    .dataframe thead th {\n",
       "        text-align: right;\n",
       "    }\n",
       "</style>\n",
       "<table border=\"1\" class=\"dataframe\">\n",
       "  <thead>\n",
       "    <tr style=\"text-align: right;\">\n",
       "      <th></th>\n",
       "      <th>TV</th>\n",
       "      <th>radio</th>\n",
       "      <th>newspaper</th>\n",
       "      <th>sales</th>\n",
       "    </tr>\n",
       "  </thead>\n",
       "  <tbody>\n",
       "    <tr>\n",
       "      <th>195</th>\n",
       "      <td>38.2</td>\n",
       "      <td>3.7</td>\n",
       "      <td>13.8</td>\n",
       "      <td>7.6</td>\n",
       "    </tr>\n",
       "    <tr>\n",
       "      <th>196</th>\n",
       "      <td>94.2</td>\n",
       "      <td>4.9</td>\n",
       "      <td>8.1</td>\n",
       "      <td>9.7</td>\n",
       "    </tr>\n",
       "    <tr>\n",
       "      <th>197</th>\n",
       "      <td>177.0</td>\n",
       "      <td>9.3</td>\n",
       "      <td>6.4</td>\n",
       "      <td>12.8</td>\n",
       "    </tr>\n",
       "    <tr>\n",
       "      <th>198</th>\n",
       "      <td>283.6</td>\n",
       "      <td>42.0</td>\n",
       "      <td>66.2</td>\n",
       "      <td>25.5</td>\n",
       "    </tr>\n",
       "    <tr>\n",
       "      <th>199</th>\n",
       "      <td>232.1</td>\n",
       "      <td>8.6</td>\n",
       "      <td>8.7</td>\n",
       "      <td>13.4</td>\n",
       "    </tr>\n",
       "  </tbody>\n",
       "</table>\n",
       "</div>"
      ],
      "text/plain": [
       "        TV  radio  newspaper  sales\n",
       "195   38.2    3.7       13.8    7.6\n",
       "196   94.2    4.9        8.1    9.7\n",
       "197  177.0    9.3        6.4   12.8\n",
       "198  283.6   42.0       66.2   25.5\n",
       "199  232.1    8.6        8.7   13.4"
      ]
     },
     "execution_count": 7,
     "metadata": {},
     "output_type": "execute_result"
    }
   ],
   "source": [
    "df.tail()"
   ]
  },
  {
   "cell_type": "code",
   "execution_count": 8,
   "id": "17116cf5",
   "metadata": {},
   "outputs": [
    {
     "data": {
      "text/html": [
       "<div>\n",
       "<style scoped>\n",
       "    .dataframe tbody tr th:only-of-type {\n",
       "        vertical-align: middle;\n",
       "    }\n",
       "\n",
       "    .dataframe tbody tr th {\n",
       "        vertical-align: top;\n",
       "    }\n",
       "\n",
       "    .dataframe thead th {\n",
       "        text-align: right;\n",
       "    }\n",
       "</style>\n",
       "<table border=\"1\" class=\"dataframe\">\n",
       "  <thead>\n",
       "    <tr style=\"text-align: right;\">\n",
       "      <th></th>\n",
       "      <th>TV</th>\n",
       "      <th>radio</th>\n",
       "      <th>newspaper</th>\n",
       "      <th>sales</th>\n",
       "    </tr>\n",
       "  </thead>\n",
       "  <tbody>\n",
       "    <tr>\n",
       "      <th>65</th>\n",
       "      <td>69.0</td>\n",
       "      <td>9.3</td>\n",
       "      <td>0.9</td>\n",
       "      <td>9.3</td>\n",
       "    </tr>\n",
       "    <tr>\n",
       "      <th>130</th>\n",
       "      <td>0.7</td>\n",
       "      <td>39.6</td>\n",
       "      <td>8.7</td>\n",
       "      <td>1.6</td>\n",
       "    </tr>\n",
       "    <tr>\n",
       "      <th>183</th>\n",
       "      <td>287.6</td>\n",
       "      <td>43.0</td>\n",
       "      <td>71.8</td>\n",
       "      <td>26.2</td>\n",
       "    </tr>\n",
       "    <tr>\n",
       "      <th>28</th>\n",
       "      <td>248.8</td>\n",
       "      <td>27.1</td>\n",
       "      <td>22.9</td>\n",
       "      <td>18.9</td>\n",
       "    </tr>\n",
       "    <tr>\n",
       "      <th>6</th>\n",
       "      <td>57.5</td>\n",
       "      <td>32.8</td>\n",
       "      <td>23.5</td>\n",
       "      <td>11.8</td>\n",
       "    </tr>\n",
       "    <tr>\n",
       "      <th>38</th>\n",
       "      <td>43.1</td>\n",
       "      <td>26.7</td>\n",
       "      <td>35.1</td>\n",
       "      <td>10.1</td>\n",
       "    </tr>\n",
       "    <tr>\n",
       "      <th>199</th>\n",
       "      <td>232.1</td>\n",
       "      <td>8.6</td>\n",
       "      <td>8.7</td>\n",
       "      <td>13.4</td>\n",
       "    </tr>\n",
       "    <tr>\n",
       "      <th>54</th>\n",
       "      <td>262.7</td>\n",
       "      <td>28.8</td>\n",
       "      <td>15.9</td>\n",
       "      <td>20.2</td>\n",
       "    </tr>\n",
       "    <tr>\n",
       "      <th>86</th>\n",
       "      <td>76.3</td>\n",
       "      <td>27.5</td>\n",
       "      <td>16.0</td>\n",
       "      <td>12.0</td>\n",
       "    </tr>\n",
       "    <tr>\n",
       "      <th>84</th>\n",
       "      <td>213.5</td>\n",
       "      <td>43.0</td>\n",
       "      <td>33.8</td>\n",
       "      <td>21.7</td>\n",
       "    </tr>\n",
       "  </tbody>\n",
       "</table>\n",
       "</div>"
      ],
      "text/plain": [
       "        TV  radio  newspaper  sales\n",
       "65    69.0    9.3        0.9    9.3\n",
       "130    0.7   39.6        8.7    1.6\n",
       "183  287.6   43.0       71.8   26.2\n",
       "28   248.8   27.1       22.9   18.9\n",
       "6     57.5   32.8       23.5   11.8\n",
       "38    43.1   26.7       35.1   10.1\n",
       "199  232.1    8.6        8.7   13.4\n",
       "54   262.7   28.8       15.9   20.2\n",
       "86    76.3   27.5       16.0   12.0\n",
       "84   213.5   43.0       33.8   21.7"
      ]
     },
     "execution_count": 8,
     "metadata": {},
     "output_type": "execute_result"
    }
   ],
   "source": [
    "df.sample(10)"
   ]
  },
  {
   "cell_type": "code",
   "execution_count": 9,
   "id": "7e486a50",
   "metadata": {},
   "outputs": [
    {
     "data": {
      "text/plain": [
       "TV           float64\n",
       "radio        float64\n",
       "newspaper    float64\n",
       "sales        float64\n",
       "dtype: object"
      ]
     },
     "execution_count": 9,
     "metadata": {},
     "output_type": "execute_result"
    }
   ],
   "source": [
    "df.dtypes"
   ]
  },
  {
   "cell_type": "markdown",
   "id": "250e315a",
   "metadata": {},
   "source": [
    "As per problem statement, output variable in continuous number. So it is regression problem."
   ]
  },
  {
   "cell_type": "markdown",
   "id": "2f088749",
   "metadata": {},
   "source": [
    "# Exploring five number summery of data"
   ]
  },
  {
   "cell_type": "code",
   "execution_count": 10,
   "id": "1555240c",
   "metadata": {},
   "outputs": [
    {
     "data": {
      "text/html": [
       "<div>\n",
       "<style scoped>\n",
       "    .dataframe tbody tr th:only-of-type {\n",
       "        vertical-align: middle;\n",
       "    }\n",
       "\n",
       "    .dataframe tbody tr th {\n",
       "        vertical-align: top;\n",
       "    }\n",
       "\n",
       "    .dataframe thead th {\n",
       "        text-align: right;\n",
       "    }\n",
       "</style>\n",
       "<table border=\"1\" class=\"dataframe\">\n",
       "  <thead>\n",
       "    <tr style=\"text-align: right;\">\n",
       "      <th></th>\n",
       "      <th>TV</th>\n",
       "      <th>radio</th>\n",
       "      <th>newspaper</th>\n",
       "      <th>sales</th>\n",
       "    </tr>\n",
       "  </thead>\n",
       "  <tbody>\n",
       "    <tr>\n",
       "      <th>count</th>\n",
       "      <td>200.000000</td>\n",
       "      <td>200.000000</td>\n",
       "      <td>200.000000</td>\n",
       "      <td>200.000000</td>\n",
       "    </tr>\n",
       "    <tr>\n",
       "      <th>mean</th>\n",
       "      <td>147.042500</td>\n",
       "      <td>23.264000</td>\n",
       "      <td>30.554000</td>\n",
       "      <td>14.022500</td>\n",
       "    </tr>\n",
       "    <tr>\n",
       "      <th>std</th>\n",
       "      <td>85.854236</td>\n",
       "      <td>14.846809</td>\n",
       "      <td>21.778621</td>\n",
       "      <td>5.217457</td>\n",
       "    </tr>\n",
       "    <tr>\n",
       "      <th>min</th>\n",
       "      <td>0.700000</td>\n",
       "      <td>0.000000</td>\n",
       "      <td>0.300000</td>\n",
       "      <td>1.600000</td>\n",
       "    </tr>\n",
       "    <tr>\n",
       "      <th>25%</th>\n",
       "      <td>74.375000</td>\n",
       "      <td>9.975000</td>\n",
       "      <td>12.750000</td>\n",
       "      <td>10.375000</td>\n",
       "    </tr>\n",
       "    <tr>\n",
       "      <th>50%</th>\n",
       "      <td>149.750000</td>\n",
       "      <td>22.900000</td>\n",
       "      <td>25.750000</td>\n",
       "      <td>12.900000</td>\n",
       "    </tr>\n",
       "    <tr>\n",
       "      <th>75%</th>\n",
       "      <td>218.825000</td>\n",
       "      <td>36.525000</td>\n",
       "      <td>45.100000</td>\n",
       "      <td>17.400000</td>\n",
       "    </tr>\n",
       "    <tr>\n",
       "      <th>max</th>\n",
       "      <td>296.400000</td>\n",
       "      <td>49.600000</td>\n",
       "      <td>114.000000</td>\n",
       "      <td>27.000000</td>\n",
       "    </tr>\n",
       "  </tbody>\n",
       "</table>\n",
       "</div>"
      ],
      "text/plain": [
       "               TV       radio   newspaper       sales\n",
       "count  200.000000  200.000000  200.000000  200.000000\n",
       "mean   147.042500   23.264000   30.554000   14.022500\n",
       "std     85.854236   14.846809   21.778621    5.217457\n",
       "min      0.700000    0.000000    0.300000    1.600000\n",
       "25%     74.375000    9.975000   12.750000   10.375000\n",
       "50%    149.750000   22.900000   25.750000   12.900000\n",
       "75%    218.825000   36.525000   45.100000   17.400000\n",
       "max    296.400000   49.600000  114.000000   27.000000"
      ]
     },
     "execution_count": 10,
     "metadata": {},
     "output_type": "execute_result"
    }
   ],
   "source": [
    "df.describe()"
   ]
  },
  {
   "cell_type": "code",
   "execution_count": 11,
   "id": "c5fb2a28",
   "metadata": {},
   "outputs": [
    {
     "data": {
      "text/plain": [
       "(200, 4)"
      ]
     },
     "execution_count": 11,
     "metadata": {},
     "output_type": "execute_result"
    }
   ],
   "source": [
    "df.shape"
   ]
  },
  {
   "cell_type": "code",
   "execution_count": 161,
   "id": "7bc91813",
   "metadata": {},
   "outputs": [],
   "source": [
    "df.drop_duplicates(inplace=True)"
   ]
  },
  {
   "cell_type": "markdown",
   "id": "d2f1bd59",
   "metadata": {},
   "source": [
    "# EDA"
   ]
  },
  {
   "cell_type": "markdown",
   "id": "7d083617",
   "metadata": {},
   "source": [
    "## Scatterplot "
   ]
  },
  {
   "cell_type": "code",
   "execution_count": 12,
   "id": "f6472b8b",
   "metadata": {},
   "outputs": [
    {
     "data": {
      "text/plain": [
       "<seaborn.axisgrid.PairGrid at 0x2aa255c3eb0>"
      ]
     },
     "execution_count": 12,
     "metadata": {},
     "output_type": "execute_result"
    },
    {
     "data": {
      "image/png": "[encoded data removed]",
      "text/plain": [
       "<Figure size 720x720 with 20 Axes>"
      ]
     },
     "metadata": {
      "needs_background": "light"
     },
     "output_type": "display_data"
    }
   ],
   "source": [
    "sns.pairplot(df)"
   ]
  },
  {
   "cell_type": "markdown",
   "id": "f43517d6",
   "metadata": {},
   "source": [
    "## Observations:\n",
    "\n",
    "### From above results it is clear that all the independant variables have someehat positive relationship with sales/target feature"
   ]
  },
  {
   "cell_type": "code",
   "execution_count": 13,
   "id": "427d84be",
   "metadata": {
    "scrolled": true
   },
   "outputs": [
    {
     "data": {
      "text/plain": [
       "<seaborn.axisgrid.PairGrid at 0x2aa26a706a0>"
      ]
     },
     "execution_count": 13,
     "metadata": {},
     "output_type": "execute_result"
    },
    {
     "data": {
      "image/png": "[encoded data removed]",
      "text/plain": [
       "<Figure size 540x180 with 3 Axes>"
      ]
     },
     "metadata": {
      "needs_background": "light"
     },
     "output_type": "display_data"
    }
   ],
   "source": [
    "sns.pairplot(df,x_vars=['TV','radio','newspaper'],y_vars='sales',aspect=1, kind='reg')"
   ]
  },
  {
   "cell_type": "code",
   "execution_count": 18,
   "id": "eeabb5c4",
   "metadata": {},
   "outputs": [
    {
     "data": {
      "text/plain": [
       "<AxesSubplot:xlabel='TV', ylabel='sales'>"
      ]
     },
     "execution_count": 18,
     "metadata": {},
     "output_type": "execute_result"
    },
    {
     "data": {
      "image/png": "[encoded data removed]",
      "text/plain": [
       "<Figure size 432x288 with 1 Axes>"
      ]
     },
     "metadata": {
      "needs_background": "light"
     },
     "output_type": "display_data"
    }
   ],
   "source": [
    "# This function will regress y on x and then draw a scatterplot of the residuals.\n",
    "\n",
    "sns.residplot(x = df['TV'], y = df[\"sales\"], lowess = True)"
   ]
  },
  {
   "cell_type": "code",
   "execution_count": 14,
   "id": "6cdcf64c",
   "metadata": {
    "scrolled": true
   },
   "outputs": [
    {
     "name": "stdout",
     "output_type": "stream",
     "text": [
      "Total Number of missing values in data set are 0\n"
     ]
    }
   ],
   "source": [
    "# checking null values\n",
    "print('Total Number of missing values in data set are', df.isnull().sum().sum())"
   ]
  },
  {
   "cell_type": "code",
   "execution_count": 15,
   "id": "f8b0eed8",
   "metadata": {},
   "outputs": [
    {
     "data": {
      "text/html": [
       "<div>\n",
       "<style scoped>\n",
       "    .dataframe tbody tr th:only-of-type {\n",
       "        vertical-align: middle;\n",
       "    }\n",
       "\n",
       "    .dataframe tbody tr th {\n",
       "        vertical-align: top;\n",
       "    }\n",
       "\n",
       "    .dataframe thead th {\n",
       "        text-align: right;\n",
       "    }\n",
       "</style>\n",
       "<table border=\"1\" class=\"dataframe\">\n",
       "  <thead>\n",
       "    <tr style=\"text-align: right;\">\n",
       "      <th></th>\n",
       "      <th>count</th>\n",
       "      <th>mean</th>\n",
       "      <th>std</th>\n",
       "      <th>min</th>\n",
       "      <th>25%</th>\n",
       "      <th>50%</th>\n",
       "      <th>75%</th>\n",
       "      <th>max</th>\n",
       "    </tr>\n",
       "  </thead>\n",
       "  <tbody>\n",
       "    <tr>\n",
       "      <th>TV</th>\n",
       "      <td>200.0</td>\n",
       "      <td>147.0425</td>\n",
       "      <td>85.854236</td>\n",
       "      <td>0.7</td>\n",
       "      <td>74.375</td>\n",
       "      <td>149.75</td>\n",
       "      <td>218.825</td>\n",
       "      <td>296.4</td>\n",
       "    </tr>\n",
       "    <tr>\n",
       "      <th>radio</th>\n",
       "      <td>200.0</td>\n",
       "      <td>23.2640</td>\n",
       "      <td>14.846809</td>\n",
       "      <td>0.0</td>\n",
       "      <td>9.975</td>\n",
       "      <td>22.90</td>\n",
       "      <td>36.525</td>\n",
       "      <td>49.6</td>\n",
       "    </tr>\n",
       "    <tr>\n",
       "      <th>newspaper</th>\n",
       "      <td>200.0</td>\n",
       "      <td>30.5540</td>\n",
       "      <td>21.778621</td>\n",
       "      <td>0.3</td>\n",
       "      <td>12.750</td>\n",
       "      <td>25.75</td>\n",
       "      <td>45.100</td>\n",
       "      <td>114.0</td>\n",
       "    </tr>\n",
       "    <tr>\n",
       "      <th>sales</th>\n",
       "      <td>200.0</td>\n",
       "      <td>14.0225</td>\n",
       "      <td>5.217457</td>\n",
       "      <td>1.6</td>\n",
       "      <td>10.375</td>\n",
       "      <td>12.90</td>\n",
       "      <td>17.400</td>\n",
       "      <td>27.0</td>\n",
       "    </tr>\n",
       "  </tbody>\n",
       "</table>\n",
       "</div>"
      ],
      "text/plain": [
       "           count      mean        std  min     25%     50%      75%    max\n",
       "TV         200.0  147.0425  85.854236  0.7  74.375  149.75  218.825  296.4\n",
       "radio      200.0   23.2640  14.846809  0.0   9.975   22.90   36.525   49.6\n",
       "newspaper  200.0   30.5540  21.778621  0.3  12.750   25.75   45.100  114.0\n",
       "sales      200.0   14.0225   5.217457  1.6  10.375   12.90   17.400   27.0"
      ]
     },
     "execution_count": 15,
     "metadata": {},
     "output_type": "execute_result"
    }
   ],
   "source": [
    "df.describe().T"
   ]
  },
  {
   "cell_type": "markdown",
   "id": "a72829e4",
   "metadata": {},
   "source": [
    "# Checking correlation"
   ]
  },
  {
   "cell_type": "code",
   "execution_count": 16,
   "id": "f2e9f407",
   "metadata": {
    "scrolled": true
   },
   "outputs": [
    {
     "data": {
      "text/plain": [
       "<AxesSubplot:>"
      ]
     },
     "execution_count": 16,
     "metadata": {},
     "output_type": "execute_result"
    },
    {
     "data": {
      "image/png": "[encoded data removed]",
      "text/plain": [
       "<Figure size 432x288 with 2 Axes>"
      ]
     },
     "metadata": {
      "needs_background": "light"
     },
     "output_type": "display_data"
    }
   ],
   "source": [
    "sns.heatmap(df.corr(), annot=True)"
   ]
  },
  {
   "cell_type": "markdown",
   "id": "b49b4fc9",
   "metadata": {},
   "source": [
    "### Observations:\n",
    "1. It is clear that there is relation between TV and Sales.\n",
    "2. Individually Less relation between newspaper and radio"
   ]
  },
  {
   "cell_type": "code",
   "execution_count": 89,
   "id": "c1b8ea79",
   "metadata": {},
   "outputs": [
    {
     "data": {
      "text/plain": [
       "newspaper    0.228299\n",
       "radio        0.576223\n",
       "TV           0.782224\n",
       "sales        1.000000\n",
       "Name: sales, dtype: float64"
      ]
     },
     "execution_count": 89,
     "metadata": {},
     "output_type": "execute_result"
    }
   ],
   "source": [
    "df.corr()[\"sales\"].sort_values()"
   ]
  },
  {
   "cell_type": "markdown",
   "id": "2aec148d",
   "metadata": {},
   "source": [
    "## Observations:\n",
    "\n",
    "### TV showing high positive correlation with the sales/target variable apart from 'TV'.\n",
    "\n",
    "### It looks like the features column is showing multi collinearity between newspaper and radio. We will use VIF method to check multi collinearity"
   ]
  },
  {
   "cell_type": "markdown",
   "id": "d4209ce3",
   "metadata": {},
   "source": [
    "# Checking Outliers"
   ]
  },
  {
   "cell_type": "code",
   "execution_count": 90,
   "id": "7635a8d1",
   "metadata": {},
   "outputs": [
    {
     "data": {
      "text/plain": [
       "<AxesSubplot:>"
      ]
     },
     "execution_count": 90,
     "metadata": {},
     "output_type": "execute_result"
    },
    {
     "data": {
      "image/png": "[encoded data removed]",
      "text/plain": [
       "<Figure size 1440x720 with 1 Axes>"
      ]
     },
     "metadata": {
      "needs_background": "light"
     },
     "output_type": "display_data"
    }
   ],
   "source": [
    "rcParams['figure.figsize'] = 20, 10\n",
    "sns.boxplot(data = df)"
   ]
  },
  {
   "cell_type": "markdown",
   "id": "affc5216",
   "metadata": {},
   "source": [
    "## Observation\n",
    "### Only 2 Outliers present in data set, and should be processed before modelling"
   ]
  },
  {
   "cell_type": "code",
   "execution_count": 91,
   "id": "549af895",
   "metadata": {
    "scrolled": false
   },
   "outputs": [
    {
     "data": {
      "text/plain": [
       "TV              AxesSubplot(0.125,0.657941;0.168478x0.222059)\n",
       "radio        AxesSubplot(0.327174,0.657941;0.168478x0.222059)\n",
       "newspaper    AxesSubplot(0.529348,0.657941;0.168478x0.222059)\n",
       "sales        AxesSubplot(0.731522,0.657941;0.168478x0.222059)\n",
       "dtype: object"
      ]
     },
     "execution_count": 91,
     "metadata": {},
     "output_type": "execute_result"
    },
    {
     "data": {
      "image/png": "[encoded data removed]",
      "text/plain": [
       "<Figure size 1080x1800 with 12 Axes>"
      ]
     },
     "metadata": {
      "needs_background": "light"
     },
     "output_type": "display_data"
    }
   ],
   "source": [
    "df.plot(kind='box',subplots=True,layout=(3,4),figsize=(15,25))\n",
    "# plotting individual graph for better understanding of graph"
   ]
  },
  {
   "cell_type": "markdown",
   "id": "36fe5e21",
   "metadata": {},
   "source": [
    "## observations:\n",
    "### In feature \"sale\" outliers are present. Rest of the data has no outliers"
   ]
  },
  {
   "cell_type": "markdown",
   "id": "fd49e6b8",
   "metadata": {},
   "source": [
    "# Skewness Checking"
   ]
  },
  {
   "cell_type": "code",
   "execution_count": 92,
   "id": "e8429a69",
   "metadata": {},
   "outputs": [
    {
     "data": {
      "text/plain": [
       "<AxesSubplot:xlabel='TV', ylabel='Density'>"
      ]
     },
     "execution_count": 92,
     "metadata": {},
     "output_type": "execute_result"
    },
    {
     "data": {
      "image/png": "[encoded data removed]",
      "text/plain": [
       "<Figure size 1440x720 with 1 Axes>"
      ]
     },
     "metadata": {
      "needs_background": "light"
     },
     "output_type": "display_data"
    }
   ],
   "source": [
    "sns.distplot(df['TV'])"
   ]
  },
  {
   "cell_type": "code",
   "execution_count": 93,
   "id": "d2048fe7",
   "metadata": {},
   "outputs": [
    {
     "data": {
      "text/plain": [
       "<AxesSubplot:xlabel='radio', ylabel='Density'>"
      ]
     },
     "execution_count": 93,
     "metadata": {},
     "output_type": "execute_result"
    },
    {
     "data": {
      "image/png": "[encoded data removed]",
      "text/plain": [
       "<Figure size 1440x720 with 1 Axes>"
      ]
     },
     "metadata": {
      "needs_background": "light"
     },
     "output_type": "display_data"
    }
   ],
   "source": [
    "sns.distplot(df['radio'])"
   ]
  },
  {
   "cell_type": "markdown",
   "id": "a9c21b45",
   "metadata": {},
   "source": [
    "Data is left skewed"
   ]
  },
  {
   "cell_type": "code",
   "execution_count": 94,
   "id": "cb1b2506",
   "metadata": {},
   "outputs": [
    {
     "data": {
      "text/plain": [
       "<AxesSubplot:xlabel='sales', ylabel='Density'>"
      ]
     },
     "execution_count": 94,
     "metadata": {},
     "output_type": "execute_result"
    },
    {
     "data": {
      "image/png": "[encoded data removed]",
      "text/plain": [
       "<Figure size 1440x720 with 1 Axes>"
      ]
     },
     "metadata": {
      "needs_background": "light"
     },
     "output_type": "display_data"
    }
   ],
   "source": [
    "sns.distplot(df['sales'])"
   ]
  },
  {
   "cell_type": "markdown",
   "id": "8ad93fc7",
   "metadata": {},
   "source": [
    "Data is left skewed"
   ]
  },
  {
   "cell_type": "code",
   "execution_count": 95,
   "id": "67cc6263",
   "metadata": {
    "scrolled": false
   },
   "outputs": [
    {
     "data": {
      "image/png": "[encoded data removed]",
      "text/plain": [
       "<Figure size 2000x2000 with 4 Axes>"
      ]
     },
     "metadata": {
      "needs_background": "light"
     },
     "output_type": "display_data"
    }
   ],
   "source": [
    "plt.figure(figsize=(10,10),dpi=200)\n",
    "for i in enumerate(df[df.columns]):\n",
    "    plt.subplot(3,4,i[0]+1)\n",
    "    sns.distplot(df[i[1]],color='r')"
   ]
  },
  {
   "cell_type": "markdown",
   "id": "175b8b4c",
   "metadata": {},
   "source": [
    "# Histograms"
   ]
  },
  {
   "cell_type": "code",
   "execution_count": 96,
   "id": "8b2f3ed2",
   "metadata": {},
   "outputs": [
    {
     "data": {
      "image/png": "[encoded data removed]",
      "text/plain": [
       "<Figure size 1080x1080 with 4 Axes>"
      ]
     },
     "metadata": {
      "needs_background": "light"
     },
     "output_type": "display_data"
    }
   ],
   "source": [
    "plt.rcParams['figure.figsize'] = (15,15)\n",
    "df.hist(bins = 30, density = 'True', label = 'Value',histtype = 'stepfilled', grid=False)\n",
    "plt.tight_layout()\n",
    "plt.show()"
   ]
  },
  {
   "cell_type": "markdown",
   "id": "6db676f1",
   "metadata": {},
   "source": [
    "### In histogram we can see if any section is empty such as in Rings 15 number there was not enough data collected also we can see the skewness."
   ]
  },
  {
   "cell_type": "code",
   "execution_count": 97,
   "id": "d895b5a1",
   "metadata": {},
   "outputs": [
    {
     "data": {
      "text/plain": [
       "TV          -0.069853\n",
       "radio        0.094175\n",
       "sales        0.407571\n",
       "newspaper    0.894720\n",
       "dtype: float64"
      ]
     },
     "execution_count": 97,
     "metadata": {},
     "output_type": "execute_result"
    }
   ],
   "source": [
    "df.skew().sort_values()"
   ]
  },
  {
   "cell_type": "markdown",
   "id": "4c4c2622",
   "metadata": {},
   "source": [
    "Observations:\n",
    "\n",
    "Skewness threshold usually taken as -0.5 to 0.5\n",
    "\n",
    "referring the above distplot and histogram graphs and values we can use this model for further processing."
   ]
  },
  {
   "cell_type": "markdown",
   "id": "f323d4ec",
   "metadata": {},
   "source": [
    "# MultiCollinearity with Variance Inflation Factor"
   ]
  },
  {
   "cell_type": "code",
   "execution_count": 98,
   "id": "ef4b6038",
   "metadata": {},
   "outputs": [
    {
     "data": {
      "text/html": [
       "<div>\n",
       "<style scoped>\n",
       "    .dataframe tbody tr th:only-of-type {\n",
       "        vertical-align: middle;\n",
       "    }\n",
       "\n",
       "    .dataframe tbody tr th {\n",
       "        vertical-align: top;\n",
       "    }\n",
       "\n",
       "    .dataframe thead th {\n",
       "        text-align: right;\n",
       "    }\n",
       "</style>\n",
       "<table border=\"1\" class=\"dataframe\">\n",
       "  <thead>\n",
       "    <tr style=\"text-align: right;\">\n",
       "      <th></th>\n",
       "      <th>TV</th>\n",
       "      <th>radio</th>\n",
       "      <th>newspaper</th>\n",
       "      <th>sales</th>\n",
       "    </tr>\n",
       "  </thead>\n",
       "  <tbody>\n",
       "    <tr>\n",
       "      <th>0</th>\n",
       "      <td>230.1</td>\n",
       "      <td>37.8</td>\n",
       "      <td>69.2</td>\n",
       "      <td>22.1</td>\n",
       "    </tr>\n",
       "    <tr>\n",
       "      <th>1</th>\n",
       "      <td>44.5</td>\n",
       "      <td>39.3</td>\n",
       "      <td>45.1</td>\n",
       "      <td>10.4</td>\n",
       "    </tr>\n",
       "    <tr>\n",
       "      <th>2</th>\n",
       "      <td>17.2</td>\n",
       "      <td>45.9</td>\n",
       "      <td>69.3</td>\n",
       "      <td>9.3</td>\n",
       "    </tr>\n",
       "    <tr>\n",
       "      <th>3</th>\n",
       "      <td>151.5</td>\n",
       "      <td>41.3</td>\n",
       "      <td>58.5</td>\n",
       "      <td>18.5</td>\n",
       "    </tr>\n",
       "    <tr>\n",
       "      <th>4</th>\n",
       "      <td>180.8</td>\n",
       "      <td>10.8</td>\n",
       "      <td>58.4</td>\n",
       "      <td>12.9</td>\n",
       "    </tr>\n",
       "    <tr>\n",
       "      <th>...</th>\n",
       "      <td>...</td>\n",
       "      <td>...</td>\n",
       "      <td>...</td>\n",
       "      <td>...</td>\n",
       "    </tr>\n",
       "    <tr>\n",
       "      <th>195</th>\n",
       "      <td>38.2</td>\n",
       "      <td>3.7</td>\n",
       "      <td>13.8</td>\n",
       "      <td>7.6</td>\n",
       "    </tr>\n",
       "    <tr>\n",
       "      <th>196</th>\n",
       "      <td>94.2</td>\n",
       "      <td>4.9</td>\n",
       "      <td>8.1</td>\n",
       "      <td>9.7</td>\n",
       "    </tr>\n",
       "    <tr>\n",
       "      <th>197</th>\n",
       "      <td>177.0</td>\n",
       "      <td>9.3</td>\n",
       "      <td>6.4</td>\n",
       "      <td>12.8</td>\n",
       "    </tr>\n",
       "    <tr>\n",
       "      <th>198</th>\n",
       "      <td>283.6</td>\n",
       "      <td>42.0</td>\n",
       "      <td>66.2</td>\n",
       "      <td>25.5</td>\n",
       "    </tr>\n",
       "    <tr>\n",
       "      <th>199</th>\n",
       "      <td>232.1</td>\n",
       "      <td>8.6</td>\n",
       "      <td>8.7</td>\n",
       "      <td>13.4</td>\n",
       "    </tr>\n",
       "  </tbody>\n",
       "</table>\n",
       "<p>200 rows × 4 columns</p>\n",
       "</div>"
      ],
      "text/plain": [
       "        TV  radio  newspaper  sales\n",
       "0    230.1   37.8       69.2   22.1\n",
       "1     44.5   39.3       45.1   10.4\n",
       "2     17.2   45.9       69.3    9.3\n",
       "3    151.5   41.3       58.5   18.5\n",
       "4    180.8   10.8       58.4   12.9\n",
       "..     ...    ...        ...    ...\n",
       "195   38.2    3.7       13.8    7.6\n",
       "196   94.2    4.9        8.1    9.7\n",
       "197  177.0    9.3        6.4   12.8\n",
       "198  283.6   42.0       66.2   25.5\n",
       "199  232.1    8.6        8.7   13.4\n",
       "\n",
       "[200 rows x 4 columns]"
      ]
     },
     "execution_count": 98,
     "metadata": {},
     "output_type": "execute_result"
    }
   ],
   "source": [
    "df1=pd.DataFrame(data=df)       # copying the dataframe\n",
    "df1"
   ]
  },
  {
   "cell_type": "code",
   "execution_count": 99,
   "id": "64919bca",
   "metadata": {},
   "outputs": [],
   "source": [
    "x1=df1.iloc[:,:-1]  # Dropping last column from data frame\n",
    "y1=df1.iloc[:,-1]"
   ]
  },
  {
   "cell_type": "code",
   "execution_count": 100,
   "id": "dadeb15f",
   "metadata": {},
   "outputs": [
    {
     "data": {
      "text/html": [
       "<div>\n",
       "<style scoped>\n",
       "    .dataframe tbody tr th:only-of-type {\n",
       "        vertical-align: middle;\n",
       "    }\n",
       "\n",
       "    .dataframe tbody tr th {\n",
       "        vertical-align: top;\n",
       "    }\n",
       "\n",
       "    .dataframe thead th {\n",
       "        text-align: right;\n",
       "    }\n",
       "</style>\n",
       "<table border=\"1\" class=\"dataframe\">\n",
       "  <thead>\n",
       "    <tr style=\"text-align: right;\">\n",
       "      <th></th>\n",
       "      <th>TV</th>\n",
       "      <th>radio</th>\n",
       "      <th>newspaper</th>\n",
       "    </tr>\n",
       "  </thead>\n",
       "  <tbody>\n",
       "    <tr>\n",
       "      <th>0</th>\n",
       "      <td>230.1</td>\n",
       "      <td>37.8</td>\n",
       "      <td>69.2</td>\n",
       "    </tr>\n",
       "    <tr>\n",
       "      <th>1</th>\n",
       "      <td>44.5</td>\n",
       "      <td>39.3</td>\n",
       "      <td>45.1</td>\n",
       "    </tr>\n",
       "    <tr>\n",
       "      <th>2</th>\n",
       "      <td>17.2</td>\n",
       "      <td>45.9</td>\n",
       "      <td>69.3</td>\n",
       "    </tr>\n",
       "    <tr>\n",
       "      <th>3</th>\n",
       "      <td>151.5</td>\n",
       "      <td>41.3</td>\n",
       "      <td>58.5</td>\n",
       "    </tr>\n",
       "    <tr>\n",
       "      <th>4</th>\n",
       "      <td>180.8</td>\n",
       "      <td>10.8</td>\n",
       "      <td>58.4</td>\n",
       "    </tr>\n",
       "    <tr>\n",
       "      <th>...</th>\n",
       "      <td>...</td>\n",
       "      <td>...</td>\n",
       "      <td>...</td>\n",
       "    </tr>\n",
       "    <tr>\n",
       "      <th>195</th>\n",
       "      <td>38.2</td>\n",
       "      <td>3.7</td>\n",
       "      <td>13.8</td>\n",
       "    </tr>\n",
       "    <tr>\n",
       "      <th>196</th>\n",
       "      <td>94.2</td>\n",
       "      <td>4.9</td>\n",
       "      <td>8.1</td>\n",
       "    </tr>\n",
       "    <tr>\n",
       "      <th>197</th>\n",
       "      <td>177.0</td>\n",
       "      <td>9.3</td>\n",
       "      <td>6.4</td>\n",
       "    </tr>\n",
       "    <tr>\n",
       "      <th>198</th>\n",
       "      <td>283.6</td>\n",
       "      <td>42.0</td>\n",
       "      <td>66.2</td>\n",
       "    </tr>\n",
       "    <tr>\n",
       "      <th>199</th>\n",
       "      <td>232.1</td>\n",
       "      <td>8.6</td>\n",
       "      <td>8.7</td>\n",
       "    </tr>\n",
       "  </tbody>\n",
       "</table>\n",
       "<p>200 rows × 3 columns</p>\n",
       "</div>"
      ],
      "text/plain": [
       "        TV  radio  newspaper\n",
       "0    230.1   37.8       69.2\n",
       "1     44.5   39.3       45.1\n",
       "2     17.2   45.9       69.3\n",
       "3    151.5   41.3       58.5\n",
       "4    180.8   10.8       58.4\n",
       "..     ...    ...        ...\n",
       "195   38.2    3.7       13.8\n",
       "196   94.2    4.9        8.1\n",
       "197  177.0    9.3        6.4\n",
       "198  283.6   42.0       66.2\n",
       "199  232.1    8.6        8.7\n",
       "\n",
       "[200 rows x 3 columns]"
      ]
     },
     "execution_count": 100,
     "metadata": {},
     "output_type": "execute_result"
    }
   ],
   "source": [
    "x1"
   ]
  },
  {
   "cell_type": "code",
   "execution_count": 101,
   "id": "d4c7b546",
   "metadata": {},
   "outputs": [
    {
     "data": {
      "text/plain": [
       "0      22.1\n",
       "1      10.4\n",
       "2       9.3\n",
       "3      18.5\n",
       "4      12.9\n",
       "       ... \n",
       "195     7.6\n",
       "196     9.7\n",
       "197    12.8\n",
       "198    25.5\n",
       "199    13.4\n",
       "Name: sales, Length: 200, dtype: float64"
      ]
     },
     "execution_count": 101,
     "metadata": {},
     "output_type": "execute_result"
    }
   ],
   "source": [
    "y1"
   ]
  },
  {
   "cell_type": "code",
   "execution_count": 102,
   "id": "4656f355",
   "metadata": {},
   "outputs": [
    {
     "data": {
      "text/plain": [
       "(200, 3)"
      ]
     },
     "execution_count": 102,
     "metadata": {},
     "output_type": "execute_result"
    }
   ],
   "source": [
    "x1.shape"
   ]
  },
  {
   "cell_type": "code",
   "execution_count": 103,
   "id": "651454ba",
   "metadata": {},
   "outputs": [],
   "source": [
    "def calc_vif(x1):\n",
    "    vif=pd.DataFrame()\n",
    "    vif[\"variables\"]=x1.columns\n",
    "    vif[\"VIF FACTOR\"]=[variance_inflation_factor(x1.values,i) for i in range(x1.shape[1])]\n",
    "    return(vif)"
   ]
  },
  {
   "cell_type": "code",
   "execution_count": 104,
   "id": "4a2fc177",
   "metadata": {},
   "outputs": [
    {
     "data": {
      "text/html": [
       "<div>\n",
       "<style scoped>\n",
       "    .dataframe tbody tr th:only-of-type {\n",
       "        vertical-align: middle;\n",
       "    }\n",
       "\n",
       "    .dataframe tbody tr th {\n",
       "        vertical-align: top;\n",
       "    }\n",
       "\n",
       "    .dataframe thead th {\n",
       "        text-align: right;\n",
       "    }\n",
       "</style>\n",
       "<table border=\"1\" class=\"dataframe\">\n",
       "  <thead>\n",
       "    <tr style=\"text-align: right;\">\n",
       "      <th></th>\n",
       "      <th>variables</th>\n",
       "      <th>VIF FACTOR</th>\n",
       "    </tr>\n",
       "  </thead>\n",
       "  <tbody>\n",
       "    <tr>\n",
       "      <th>0</th>\n",
       "      <td>TV</td>\n",
       "      <td>2.486772</td>\n",
       "    </tr>\n",
       "    <tr>\n",
       "      <th>1</th>\n",
       "      <td>radio</td>\n",
       "      <td>3.285462</td>\n",
       "    </tr>\n",
       "    <tr>\n",
       "      <th>2</th>\n",
       "      <td>newspaper</td>\n",
       "      <td>3.055245</td>\n",
       "    </tr>\n",
       "  </tbody>\n",
       "</table>\n",
       "</div>"
      ],
      "text/plain": [
       "   variables  VIF FACTOR\n",
       "0         TV    2.486772\n",
       "1      radio    3.285462\n",
       "2  newspaper    3.055245"
      ]
     },
     "execution_count": 104,
     "metadata": {},
     "output_type": "execute_result"
    }
   ],
   "source": [
    "calc_vif(x1)"
   ]
  },
  {
   "cell_type": "markdown",
   "id": "43da120f",
   "metadata": {},
   "source": [
    "Observations:\n",
    "There is no multi collinearity between features."
   ]
  },
  {
   "cell_type": "code",
   "execution_count": 105,
   "id": "40fbd56c",
   "metadata": {},
   "outputs": [
    {
     "data": {
      "text/plain": [
       "<AxesSubplot:>"
      ]
     },
     "execution_count": 105,
     "metadata": {},
     "output_type": "execute_result"
    },
    {
     "data": {
      "image/png": "[encoded data removed]",
      "text/plain": [
       "<Figure size 1600x1600 with 2 Axes>"
      ]
     },
     "metadata": {
      "needs_background": "light"
     },
     "output_type": "display_data"
    }
   ],
   "source": [
    "plt.figure(figsize=(8,8), dpi=200)\n",
    "sns.heatmap(df.corr(), annot=True)"
   ]
  },
  {
   "cell_type": "markdown",
   "id": "ced0ab5f",
   "metadata": {},
   "source": [
    "# Removing Outliers"
   ]
  },
  {
   "cell_type": "code",
   "execution_count": 106,
   "id": "b4edba1a",
   "metadata": {},
   "outputs": [
    {
     "data": {
      "text/html": [
       "<div>\n",
       "<style scoped>\n",
       "    .dataframe tbody tr th:only-of-type {\n",
       "        vertical-align: middle;\n",
       "    }\n",
       "\n",
       "    .dataframe tbody tr th {\n",
       "        vertical-align: top;\n",
       "    }\n",
       "\n",
       "    .dataframe thead th {\n",
       "        text-align: right;\n",
       "    }\n",
       "</style>\n",
       "<table border=\"1\" class=\"dataframe\">\n",
       "  <thead>\n",
       "    <tr style=\"text-align: right;\">\n",
       "      <th></th>\n",
       "      <th>TV</th>\n",
       "      <th>radio</th>\n",
       "      <th>newspaper</th>\n",
       "      <th>sales</th>\n",
       "    </tr>\n",
       "  </thead>\n",
       "  <tbody>\n",
       "    <tr>\n",
       "      <th>0</th>\n",
       "      <td>0.969852</td>\n",
       "      <td>0.981522</td>\n",
       "      <td>1.778945</td>\n",
       "      <td>1.552053</td>\n",
       "    </tr>\n",
       "    <tr>\n",
       "      <th>1</th>\n",
       "      <td>1.197376</td>\n",
       "      <td>1.082808</td>\n",
       "      <td>0.669579</td>\n",
       "      <td>0.696046</td>\n",
       "    </tr>\n",
       "    <tr>\n",
       "      <th>2</th>\n",
       "      <td>1.516155</td>\n",
       "      <td>1.528463</td>\n",
       "      <td>1.783549</td>\n",
       "      <td>0.907406</td>\n",
       "    </tr>\n",
       "    <tr>\n",
       "      <th>3</th>\n",
       "      <td>0.052050</td>\n",
       "      <td>1.217855</td>\n",
       "      <td>1.286405</td>\n",
       "      <td>0.860330</td>\n",
       "    </tr>\n",
       "    <tr>\n",
       "      <th>4</th>\n",
       "      <td>0.394182</td>\n",
       "      <td>0.841614</td>\n",
       "      <td>1.281802</td>\n",
       "      <td>0.215683</td>\n",
       "    </tr>\n",
       "    <tr>\n",
       "      <th>...</th>\n",
       "      <td>...</td>\n",
       "      <td>...</td>\n",
       "      <td>...</td>\n",
       "      <td>...</td>\n",
       "    </tr>\n",
       "    <tr>\n",
       "      <th>195</th>\n",
       "      <td>1.270941</td>\n",
       "      <td>1.321031</td>\n",
       "      <td>0.771217</td>\n",
       "      <td>1.234053</td>\n",
       "    </tr>\n",
       "    <tr>\n",
       "      <th>196</th>\n",
       "      <td>0.617035</td>\n",
       "      <td>1.240003</td>\n",
       "      <td>1.033598</td>\n",
       "      <td>0.830548</td>\n",
       "    </tr>\n",
       "    <tr>\n",
       "      <th>197</th>\n",
       "      <td>0.349810</td>\n",
       "      <td>0.942899</td>\n",
       "      <td>1.111852</td>\n",
       "      <td>0.234898</td>\n",
       "    </tr>\n",
       "    <tr>\n",
       "      <th>198</th>\n",
       "      <td>1.594565</td>\n",
       "      <td>1.265121</td>\n",
       "      <td>1.640850</td>\n",
       "      <td>2.205347</td>\n",
       "    </tr>\n",
       "    <tr>\n",
       "      <th>199</th>\n",
       "      <td>0.993206</td>\n",
       "      <td>0.990165</td>\n",
       "      <td>1.005979</td>\n",
       "      <td>0.119610</td>\n",
       "    </tr>\n",
       "  </tbody>\n",
       "</table>\n",
       "<p>200 rows × 4 columns</p>\n",
       "</div>"
      ],
      "text/plain": [
       "           TV     radio  newspaper     sales\n",
       "0    0.969852  0.981522   1.778945  1.552053\n",
       "1    1.197376  1.082808   0.669579  0.696046\n",
       "2    1.516155  1.528463   1.783549  0.907406\n",
       "3    0.052050  1.217855   1.286405  0.860330\n",
       "4    0.394182  0.841614   1.281802  0.215683\n",
       "..        ...       ...        ...       ...\n",
       "195  1.270941  1.321031   0.771217  1.234053\n",
       "196  0.617035  1.240003   1.033598  0.830548\n",
       "197  0.349810  0.942899   1.111852  0.234898\n",
       "198  1.594565  1.265121   1.640850  2.205347\n",
       "199  0.993206  0.990165   1.005979  0.119610\n",
       "\n",
       "[200 rows x 4 columns]"
      ]
     },
     "execution_count": 106,
     "metadata": {},
     "output_type": "execute_result"
    }
   ],
   "source": [
    "z=np.abs(zscore(df))\n",
    "z"
   ]
  },
  {
   "cell_type": "code",
   "execution_count": 107,
   "id": "1ca50ec6",
   "metadata": {},
   "outputs": [
    {
     "name": "stdout",
     "output_type": "stream",
     "text": [
      "(array([ 16, 101], dtype=int64), array([2, 2], dtype=int64))\n"
     ]
    }
   ],
   "source": [
    "threshold=3\n",
    "print(np.where(z>3))"
   ]
  },
  {
   "cell_type": "code",
   "execution_count": 108,
   "id": "cee62fda",
   "metadata": {},
   "outputs": [
    {
     "data": {
      "text/plain": [
       "0.8603302865487782"
      ]
     },
     "execution_count": 108,
     "metadata": {},
     "output_type": "execute_result"
    }
   ],
   "source": [
    "z.iloc[3,3]"
   ]
  },
  {
   "cell_type": "code",
   "execution_count": 109,
   "id": "62372275",
   "metadata": {},
   "outputs": [
    {
     "data": {
      "text/plain": [
       "(200, 4)"
      ]
     },
     "execution_count": 109,
     "metadata": {},
     "output_type": "execute_result"
    }
   ],
   "source": [
    "z.shape"
   ]
  },
  {
   "cell_type": "code",
   "execution_count": 110,
   "id": "ccea8580",
   "metadata": {},
   "outputs": [
    {
     "data": {
      "text/plain": [
       "2"
      ]
     },
     "execution_count": 110,
     "metadata": {},
     "output_type": "execute_result"
    }
   ],
   "source": [
    "len(np.where(z>3)[0])"
   ]
  },
  {
   "cell_type": "code",
   "execution_count": 111,
   "id": "3967976f",
   "metadata": {},
   "outputs": [
    {
     "name": "stdout",
     "output_type": "stream",
     "text": [
      "Old Dataframe (200, 4)\n",
      "New Dataframe (198, 4)\n",
      "total_dropped_rows 2\n"
     ]
    }
   ],
   "source": [
    "# removing outliers\n",
    "df_new=df[(z<3).all(axis=1)]\n",
    "print(\"Old Dataframe\",df.shape)\n",
    "print(\"New Dataframe\",df_new.shape)\n",
    "print(\"total_dropped_rows\",df.shape[0] - df_new.shape[0])"
   ]
  },
  {
   "cell_type": "markdown",
   "id": "20e46cb6",
   "metadata": {},
   "source": [
    "# Percentage data loss:"
   ]
  },
  {
   "cell_type": "code",
   "execution_count": 112,
   "id": "501481d3",
   "metadata": {},
   "outputs": [
    {
     "name": "stdout",
     "output_type": "stream",
     "text": [
      "1.0 %\n"
     ]
    }
   ],
   "source": [
    "loss_percent=(200-198)/200*100\n",
    "print(loss_percent,'%')"
   ]
  },
  {
   "cell_type": "markdown",
   "id": "378bba3e",
   "metadata": {},
   "source": [
    "After removing the outliers we are checking the data loss percentage by comparing the rows in our original data set and the new data set 1 % data loss is acceptable."
   ]
  },
  {
   "cell_type": "markdown",
   "id": "6ae8cc1a",
   "metadata": {},
   "source": [
    "## Splitting the dataset into Features and Target"
   ]
  },
  {
   "cell_type": "code",
   "execution_count": 115,
   "id": "1e4f5abd",
   "metadata": {},
   "outputs": [],
   "source": [
    "X = df_new.iloc[:,:-1]\n",
    "y = df_new.iloc[:,-1]"
   ]
  },
  {
   "cell_type": "code",
   "execution_count": 116,
   "id": "f99a82cf",
   "metadata": {},
   "outputs": [
    {
     "data": {
      "text/html": [
       "<div>\n",
       "<style scoped>\n",
       "    .dataframe tbody tr th:only-of-type {\n",
       "        vertical-align: middle;\n",
       "    }\n",
       "\n",
       "    .dataframe tbody tr th {\n",
       "        vertical-align: top;\n",
       "    }\n",
       "\n",
       "    .dataframe thead th {\n",
       "        text-align: right;\n",
       "    }\n",
       "</style>\n",
       "<table border=\"1\" class=\"dataframe\">\n",
       "  <thead>\n",
       "    <tr style=\"text-align: right;\">\n",
       "      <th></th>\n",
       "      <th>TV</th>\n",
       "      <th>radio</th>\n",
       "      <th>newspaper</th>\n",
       "    </tr>\n",
       "  </thead>\n",
       "  <tbody>\n",
       "    <tr>\n",
       "      <th>0</th>\n",
       "      <td>230.1</td>\n",
       "      <td>37.8</td>\n",
       "      <td>69.2</td>\n",
       "    </tr>\n",
       "    <tr>\n",
       "      <th>1</th>\n",
       "      <td>44.5</td>\n",
       "      <td>39.3</td>\n",
       "      <td>45.1</td>\n",
       "    </tr>\n",
       "    <tr>\n",
       "      <th>2</th>\n",
       "      <td>17.2</td>\n",
       "      <td>45.9</td>\n",
       "      <td>69.3</td>\n",
       "    </tr>\n",
       "    <tr>\n",
       "      <th>3</th>\n",
       "      <td>151.5</td>\n",
       "      <td>41.3</td>\n",
       "      <td>58.5</td>\n",
       "    </tr>\n",
       "    <tr>\n",
       "      <th>4</th>\n",
       "      <td>180.8</td>\n",
       "      <td>10.8</td>\n",
       "      <td>58.4</td>\n",
       "    </tr>\n",
       "    <tr>\n",
       "      <th>...</th>\n",
       "      <td>...</td>\n",
       "      <td>...</td>\n",
       "      <td>...</td>\n",
       "    </tr>\n",
       "    <tr>\n",
       "      <th>195</th>\n",
       "      <td>38.2</td>\n",
       "      <td>3.7</td>\n",
       "      <td>13.8</td>\n",
       "    </tr>\n",
       "    <tr>\n",
       "      <th>196</th>\n",
       "      <td>94.2</td>\n",
       "      <td>4.9</td>\n",
       "      <td>8.1</td>\n",
       "    </tr>\n",
       "    <tr>\n",
       "      <th>197</th>\n",
       "      <td>177.0</td>\n",
       "      <td>9.3</td>\n",
       "      <td>6.4</td>\n",
       "    </tr>\n",
       "    <tr>\n",
       "      <th>198</th>\n",
       "      <td>283.6</td>\n",
       "      <td>42.0</td>\n",
       "      <td>66.2</td>\n",
       "    </tr>\n",
       "    <tr>\n",
       "      <th>199</th>\n",
       "      <td>232.1</td>\n",
       "      <td>8.6</td>\n",
       "      <td>8.7</td>\n",
       "    </tr>\n",
       "  </tbody>\n",
       "</table>\n",
       "<p>198 rows × 3 columns</p>\n",
       "</div>"
      ],
      "text/plain": [
       "        TV  radio  newspaper\n",
       "0    230.1   37.8       69.2\n",
       "1     44.5   39.3       45.1\n",
       "2     17.2   45.9       69.3\n",
       "3    151.5   41.3       58.5\n",
       "4    180.8   10.8       58.4\n",
       "..     ...    ...        ...\n",
       "195   38.2    3.7       13.8\n",
       "196   94.2    4.9        8.1\n",
       "197  177.0    9.3        6.4\n",
       "198  283.6   42.0       66.2\n",
       "199  232.1    8.6        8.7\n",
       "\n",
       "[198 rows x 3 columns]"
      ]
     },
     "execution_count": 116,
     "metadata": {},
     "output_type": "execute_result"
    }
   ],
   "source": [
    "X"
   ]
  },
  {
   "cell_type": "code",
   "execution_count": 117,
   "id": "c3ff87c8",
   "metadata": {},
   "outputs": [
    {
     "data": {
      "text/plain": [
       "0      22.1\n",
       "1      10.4\n",
       "2       9.3\n",
       "3      18.5\n",
       "4      12.9\n",
       "       ... \n",
       "195     7.6\n",
       "196     9.7\n",
       "197    12.8\n",
       "198    25.5\n",
       "199    13.4\n",
       "Name: sales, Length: 198, dtype: float64"
      ]
     },
     "execution_count": 117,
     "metadata": {},
     "output_type": "execute_result"
    }
   ],
   "source": [
    "y"
   ]
  },
  {
   "cell_type": "code",
   "execution_count": 118,
   "id": "10a1140c",
   "metadata": {},
   "outputs": [
    {
     "data": {
      "text/plain": [
       "TV          -0.082332\n",
       "radio        0.114842\n",
       "newspaper    0.650112\n",
       "dtype: float64"
      ]
     },
     "execution_count": 118,
     "metadata": {},
     "output_type": "execute_result"
    }
   ],
   "source": [
    "X.skew().sort_values()"
   ]
  },
  {
   "cell_type": "markdown",
   "id": "a5982482",
   "metadata": {},
   "source": [
    "Observations:\n",
    "\n",
    "Since the skewness is almost within permissible ranges and the outlier data are a real value we have proceeded with the X independant variables as it "
   ]
  },
  {
   "cell_type": "markdown",
   "id": "5c23cd3b",
   "metadata": {},
   "source": [
    "## Scaling the independant variable (x) to get all the columns in a standard scale"
   ]
  },
  {
   "cell_type": "code",
   "execution_count": 119,
   "id": "376fefba",
   "metadata": {},
   "outputs": [
    {
     "data": {
      "text/plain": [
       "array([[ 0.97869734,  0.98952135,  1.93299778],\n",
       "       [-1.19901165,  1.09070498,  0.75131275],\n",
       "       [-1.51933199,  1.53591293,  1.93790103],\n",
       "       [ 0.05645636,  1.22561648,  1.40834924],\n",
       "       [ 0.40024339, -0.83178391,  1.40344598],\n",
       "       [-1.61906543,  1.73828018,  2.2173867 ],\n",
       "       [-1.04647815,  0.6522426 , -0.30779084],\n",
       "       [-0.31079737, -0.23817331, -0.89127846],\n",
       "       [-1.62023876, -1.41864895, -1.41102374],\n",
       "       [ 0.62317696, -1.38492107, -0.42056576],\n",
       "       [-0.94557138, -1.16906267, -0.27346804],\n",
       "       [ 0.79800381,  0.05863199, -1.26392602],\n",
       "       [-1.44189191,  0.80739083,  1.77119028],\n",
       "       [-0.57714432, -1.04764232, -1.10702179],\n",
       "       [ 0.67363035,  0.65898817,  0.79544207],\n",
       "       [ 0.57155024,  1.65733328,  1.13376683],\n",
       "       [ 1.58061798,  1.1109417 ,  1.27596129],\n",
       "       [-0.90919801, -0.17746313, -0.56276022],\n",
       "       [ 0.0071763 ,  0.05188642, -0.52353416],\n",
       "       [ 0.84141719,  0.30821827,  1.15828311],\n",
       "       [ 1.06435076, -1.21628169, -0.30779084],\n",
       "       [-1.56626537, -0.48775959,  0.97195933],\n",
       "       [ 0.95757732, -0.42030384, -0.17540289],\n",
       "       [-0.99015809, -0.71036356, -0.56276022],\n",
       "       [ 1.36355108, -1.32421089, -0.50392113],\n",
       "       [-0.04445042,  0.41614747, -0.84224589],\n",
       "       [ 1.0960308 , -0.43379499, -0.33721038],\n",
       "       [ 1.19811091,  0.26774482, -0.33721038],\n",
       "       [-0.89277132, -0.48101401,  0.54047269],\n",
       "       [ 1.71555146,  0.34869172,  0.65815086],\n",
       "       [-0.39645079, -0.38657596,  0.43260102],\n",
       "       [-0.58066432, -1.4591224 ,  0.01092089],\n",
       "       [ 1.39523112, -0.21119101, -1.44534654],\n",
       "       [-0.59826434, -1.46586797, -1.09721527],\n",
       "       [ 1.6897381 , -1.28373744, -1.04327944],\n",
       "       [ 1.41048447,  1.39425586, -1.21489345],\n",
       "       [-0.8446646 ,  1.77200806,  0.7807323 ],\n",
       "       [-1.21543833,  0.24076252,  0.26098702],\n",
       "       [ 0.95405731,  0.98277578,  0.10898604],\n",
       "       [ 0.65485699, -0.05604278,  0.08937301],\n",
       "       [ 0.35565668,  0.69271605,  0.43750428],\n",
       "       [ 1.7237648 ,  0.30821827, -1.37179768],\n",
       "       [ 0.70648372, -0.99367772, -0.16559637],\n",
       "       [-1.42663856,  0.17330677,  0.66305412],\n",
       "       [ 0.33336332, -0.04255163,  0.08446975],\n",
       "       [-0.66866442, -0.89249409,  0.29040656],\n",
       "       [ 1.09368413,  1.23910763, -0.5529537 ],\n",
       "       [ 0.94467064, -0.49450516,  0.98666911],\n",
       "       [-0.9361847 , -0.77107374,  0.34434239],\n",
       "       [ 0.62317696, -1.35119319,  0.23647073],\n",
       "       [-0.54311762, -0.91273082, -1.28353905],\n",
       "       [ 0.8179505 ,  1.25259878,  0.4816336 ],\n",
       "       [ 0.42136341,  1.55614966,  1.41815575],\n",
       "       [ 1.36120441,  0.3824196 , -0.6804384 ],\n",
       "       [ 0.61261695,  1.77200806,  1.4818981 ],\n",
       "       [-1.63549211,  0.33520057,  0.56989223],\n",
       "       [-0.12306383, -0.26515561, -0.64611559],\n",
       "       [ 0.75224376,  1.78549921,  0.38847171],\n",
       "       [ 0.75107043,  0.42963862, -1.00405338],\n",
       "       [-1.09341154, -1.42539452, -0.41075924],\n",
       "       [ 1.34477773,  1.32005453,  1.22202546],\n",
       "       [ 1.08664412, -0.51474189, -0.12146706],\n",
       "       [-0.51613092,  0.4363842 , -1.0481827 ],\n",
       "       [-0.1829039 ,  1.32680011, -0.04301494],\n",
       "       [-0.91154467, -0.93296754, -1.415927  ],\n",
       "       [-1.35154514,  0.09910544, -1.35218465],\n",
       "       [-0.08669046, -0.58219764, -0.95992407],\n",
       "       [ 1.06435076,  0.29472712, -0.92069801],\n",
       "       [ 0.82264384,  1.40100143, -0.12637031],\n",
       "       [ 0.61496362,  0.50383995,  0.43750428],\n",
       "       [-0.43282416, -0.59568879,  0.09427627],\n",
       "       [-1.40669187,  0.66573375, -0.51372765],\n",
       "       [-0.20285059, -1.17580824,  0.07466324],\n",
       "       [ 0.78275046,  0.09910544, -0.8177296 ],\n",
       "       [-1.52285199,  1.38751028,  2.92345576],\n",
       "       [-1.39847853, -1.45237682, -0.44508204],\n",
       "       [-0.30727736,  0.36218287, -0.76379377],\n",
       "       [-1.65778547,  0.45662092, -0.99915012],\n",
       "       [-0.36007742, -1.04089674, -0.32740387],\n",
       "       [-0.82471792,  0.24076252, -0.36662993],\n",
       "       [ 1.09251079, -1.28373744,  0.34924565],\n",
       "       [-0.8376246 , -0.19095428,  0.13350233],\n",
       "       [-0.91858468,  1.44147488,  0.2855033 ],\n",
       "       [ 0.7839238 ,  1.34029126,  0.19724467],\n",
       "       [ 0.54573688, -0.31912021,  1.76138377],\n",
       "       [-0.82589125,  0.29472712, -0.67553514],\n",
       "       [-0.42226415,  1.17839745,  1.63880233],\n",
       "       [-0.6850911 ,  0.15981562,  2.13893458],\n",
       "       [-0.43282416,  1.66407886,  1.06021797],\n",
       "       [-0.14535719, -1.22977284, -1.00405338],\n",
       "       [-1.38557185, -1.4591224 ,  0.15801861],\n",
       "       [ 0.83320385,  0.69946162,  1.43286552],\n",
       "       [ 1.22275093,  0.90182888,  2.08499875],\n",
       "       [-0.46098419, -0.61592551, -0.92560126],\n",
       "       [ 0.19490984,  0.5712957 ,  1.13376683],\n",
       "       [ 0.5973636 , -1.32421089, -1.17076413],\n",
       "       [ 0.44835011, -0.14373526, -0.3813397 ],\n",
       "       [ 1.67800475,  1.29307223,  1.05041145],\n",
       "       [-0.13479718,  1.25259878,  0.79053881],\n",
       "       [ 0.88835058, -1.27024629,  0.98176585],\n",
       "       [ 1.56653796, -0.87900294, -0.41075924],\n",
       "       [ 0.48355014, -0.40006711, -0.58237325],\n",
       "       [ 1.07373744,  0.75342622, -1.20018368],\n",
       "       [-0.10311715,  1.56964081,  1.43286552],\n",
       "       [-1.42781189, -0.81829276, -0.00378888],\n",
       "       [-0.66045107, -1.5400693 , -0.32250061],\n",
       "       [-1.56743871, -1.53332372, -0.20482243],\n",
       "       [ 1.27555099,  0.25425367, -1.19037716],\n",
       "       [ 0.92824395, -1.00716887,  1.31028409],\n",
       "       [ 1.11480415,  1.0030125 , -0.32250061],\n",
       "       [ 0.34040333, -0.52148746, -1.34237814],\n",
       "       [ 0.73816375, -0.17071756, -0.93540778],\n",
       "       [-0.80359789,  1.59662311,  0.23156747],\n",
       "       [-0.83997127,  0.80064525,  1.12396031],\n",
       "       [-0.0878638 , -0.59568879, -0.20482243],\n",
       "       [-0.82471792, -1.50634142, -0.73437423],\n",
       "       [-0.24626397,  0.92881118,  2.42332351],\n",
       "       [-1.49351863, -0.48101401, -0.36662993],\n",
       "       [-0.06322377,  0.2475081 ,  0.80524858],\n",
       "       [-1.50055864, -0.09651623,  1.01118539],\n",
       "       [ 0.90712393, -1.39841222, -0.69514817],\n",
       "       [-0.27677067,  0.77366295, -0.8520524 ],\n",
       "       [ 0.97165733,  0.61851472,  2.17816064],\n",
       "       [-0.69799778, -0.76432816, -0.19011266],\n",
       "       [-1.62962544,  1.06372268,  1.02099191],\n",
       "       [-0.7801312 , -1.56030602, -1.00895664],\n",
       "       [ 0.86371055,  1.74502576, -1.30315208],\n",
       "       [-1.02183813, -0.75083701,  0.65324761],\n",
       "       [-1.7129322 ,  1.1109417 , -1.03347293],\n",
       "       [ 1.39053778, -1.36468434,  0.64834435],\n",
       "       [-1.62258543,  0.2744904 , -1.35708791],\n",
       "       [ 0.85784388,  0.69946162,  0.75131275],\n",
       "       [-1.28818508,  1.04348595,  1.75648051],\n",
       "       [-1.15442493,  1.61011426, -1.04327944],\n",
       "       [-1.42077188,  1.07046825, -1.00405338],\n",
       "       [ 1.49027122,  0.38916517,  1.46718833],\n",
       "       [-1.21661167,  0.18679792, -0.45488856],\n",
       "       [ 0.44835011,  1.40100143, -1.37670094],\n",
       "       [-0.85991795, -0.41355826, -0.82753612],\n",
       "       [ 0.55160355,  0.82762755,  2.24680625],\n",
       "       [ 0.86605722,  0.6792249 ,  0.39827822],\n",
       "       [-0.49383756, -1.17580824,  0.22666422],\n",
       "       [-0.59239767, -0.56196091,  0.4473108 ],\n",
       "       [-0.07495712, -1.4321401 , -1.01876315],\n",
       "       [ 1.0960308 , -1.06787904, -1.03347293],\n",
       "       [ 1.13240417,  1.74502576,  0.71208669],\n",
       "       [-1.2752784 ,  1.15816073, -0.87656869],\n",
       "       [-1.19666498,  0.18005234, -0.4499853 ],\n",
       "       [ 1.57240464, -0.62267109,  0.35414891],\n",
       "       [-0.30141069, -0.99367772,  0.92783002],\n",
       "       [ 0.5973636 ,  0.01141297, -0.76379377],\n",
       "       [ 0.2887766 ,  1.11768728,  0.38847171],\n",
       "       [ 0.48237681, -0.13698968, -0.99424687],\n",
       "       [-1.67303882, -0.77781931, -1.18057065],\n",
       "       [-0.61938436,  1.37401913,  1.01608865],\n",
       "       [ 0.03650967, -1.47261355, -0.26856478],\n",
       "       [-1.58386539,  0.92881118,  0.75621601],\n",
       "       [-0.17586389, -0.31912021,  0.23647073],\n",
       "       [ 0.30285662, -0.33935694,  0.04524369],\n",
       "       [-0.7155978 ,  0.85460985,  0.95724956],\n",
       "       [ 0.48941682, -0.33935694, -0.20482243],\n",
       "       [ 0.19725651,  0.9220656 , -1.09721527],\n",
       "       [-0.34599741, -0.56870649, -1.19528042],\n",
       "       [ 1.03032406, -1.33095647,  2.69790592],\n",
       "       [-1.51111865,  0.9760302 , -0.40095273],\n",
       "       [ 0.70531038, -1.20953612, -0.50882439],\n",
       "       [ 0.80621716,  0.03164969,  1.36421992],\n",
       "       [ 1.61464468, -0.84527507, -1.14624784],\n",
       "       [-1.13447825, -0.77781931, -0.55785696],\n",
       "       [ 0.20898985, -0.15048083,  0.86408767],\n",
       "       [-1.49117196, -0.20444543, -0.62650256],\n",
       "       [ 0.2547499 , -1.08137019, -0.83243937],\n",
       "       [ 0.88835058, -1.33095647, -0.8177296 ],\n",
       "       [ 1.52781792,  1.73828018,  0.58950526],\n",
       "       [ 1.19341757,  0.47685765, -0.46469507],\n",
       "       [ 0.27586992, -1.03415117,  0.26589027],\n",
       "       [ 1.52547125, -1.4051578 , -0.29798432],\n",
       "       [ 0.22189653, -0.88574852, -0.59708302],\n",
       "       [ 0.11629642, -1.38492107, -1.05308596],\n",
       "       [ 0.84259053, -1.19604497, -0.1165638 ],\n",
       "       [-1.0617315 , -1.17580824, -0.00378888],\n",
       "       [ 1.65336472,  1.34029126,  2.06048247],\n",
       "       [ 1.25677764, -0.12349853,  0.01092089],\n",
       "       [ 0.68419036,  1.48194833, -0.49901787],\n",
       "       [-0.08434379, -1.41864895, -0.15578986],\n",
       "       [ 0.52109685,  0.37567402, -0.56766348],\n",
       "       [ 1.63459137, -0.62267109, -1.27863579],\n",
       "       [-1.50173197, -0.74409144, -0.31269409],\n",
       "       [-1.25767838,  1.21212533, -1.17566739],\n",
       "       [-0.83527793, -0.83178391, -1.16586087],\n",
       "       [-1.51933199, -1.28373744,  0.08937301],\n",
       "       [ 0.23597655,  1.2728355 , -1.28353905],\n",
       "       [ 0.03533633,  0.8411187 , -1.16586087],\n",
       "       [-1.27293173, -1.31071974, -0.7834068 ],\n",
       "       [-0.61586436, -1.22977284, -1.06289247],\n",
       "       [ 0.35565668, -0.93296754, -1.14624784],\n",
       "       [ 1.60643134,  1.2728355 ,  1.78590005],\n",
       "       [ 1.00216403, -0.98018657, -1.03347293]])"
      ]
     },
     "execution_count": 119,
     "metadata": {},
     "output_type": "execute_result"
    }
   ],
   "source": [
    "sc=StandardScaler()\n",
    "x1=sc.fit_transform(X)\n",
    "x1"
   ]
  },
  {
   "cell_type": "markdown",
   "id": "1d621b77",
   "metadata": {},
   "source": [
    "since the different columns were out of scale we performed scaling operation on all the independant variables columns to bring it into the same scale.\n",
    "\n",
    "We used Standard Scaler method to ensure all my independant variables columns have been standardized."
   ]
  },
  {
   "cell_type": "code",
   "execution_count": 120,
   "id": "a2cbaec8",
   "metadata": {},
   "outputs": [
    {
     "data": {
      "text/plain": [
       "Index(['TV', 'radio', 'newspaper'], dtype='object')"
      ]
     },
     "execution_count": 120,
     "metadata": {},
     "output_type": "execute_result"
    }
   ],
   "source": [
    "X.columns"
   ]
  },
  {
   "cell_type": "code",
   "execution_count": 121,
   "id": "68231d7e",
   "metadata": {},
   "outputs": [],
   "source": [
    "x = pd.DataFrame(x1,columns=X.columns)"
   ]
  },
  {
   "cell_type": "code",
   "execution_count": 122,
   "id": "1f418483",
   "metadata": {},
   "outputs": [
    {
     "data": {
      "text/html": [
       "<div>\n",
       "<style scoped>\n",
       "    .dataframe tbody tr th:only-of-type {\n",
       "        vertical-align: middle;\n",
       "    }\n",
       "\n",
       "    .dataframe tbody tr th {\n",
       "        vertical-align: top;\n",
       "    }\n",
       "\n",
       "    .dataframe thead th {\n",
       "        text-align: right;\n",
       "    }\n",
       "</style>\n",
       "<table border=\"1\" class=\"dataframe\">\n",
       "  <thead>\n",
       "    <tr style=\"text-align: right;\">\n",
       "      <th></th>\n",
       "      <th>TV</th>\n",
       "      <th>radio</th>\n",
       "      <th>newspaper</th>\n",
       "    </tr>\n",
       "  </thead>\n",
       "  <tbody>\n",
       "    <tr>\n",
       "      <th>0</th>\n",
       "      <td>0.978697</td>\n",
       "      <td>0.989521</td>\n",
       "      <td>1.932998</td>\n",
       "    </tr>\n",
       "    <tr>\n",
       "      <th>1</th>\n",
       "      <td>-1.199012</td>\n",
       "      <td>1.090705</td>\n",
       "      <td>0.751313</td>\n",
       "    </tr>\n",
       "    <tr>\n",
       "      <th>2</th>\n",
       "      <td>-1.519332</td>\n",
       "      <td>1.535913</td>\n",
       "      <td>1.937901</td>\n",
       "    </tr>\n",
       "    <tr>\n",
       "      <th>3</th>\n",
       "      <td>0.056456</td>\n",
       "      <td>1.225616</td>\n",
       "      <td>1.408349</td>\n",
       "    </tr>\n",
       "    <tr>\n",
       "      <th>4</th>\n",
       "      <td>0.400243</td>\n",
       "      <td>-0.831784</td>\n",
       "      <td>1.403446</td>\n",
       "    </tr>\n",
       "    <tr>\n",
       "      <th>...</th>\n",
       "      <td>...</td>\n",
       "      <td>...</td>\n",
       "      <td>...</td>\n",
       "    </tr>\n",
       "    <tr>\n",
       "      <th>193</th>\n",
       "      <td>-1.272932</td>\n",
       "      <td>-1.310720</td>\n",
       "      <td>-0.783407</td>\n",
       "    </tr>\n",
       "    <tr>\n",
       "      <th>194</th>\n",
       "      <td>-0.615864</td>\n",
       "      <td>-1.229773</td>\n",
       "      <td>-1.062892</td>\n",
       "    </tr>\n",
       "    <tr>\n",
       "      <th>195</th>\n",
       "      <td>0.355657</td>\n",
       "      <td>-0.932968</td>\n",
       "      <td>-1.146248</td>\n",
       "    </tr>\n",
       "    <tr>\n",
       "      <th>196</th>\n",
       "      <td>1.606431</td>\n",
       "      <td>1.272836</td>\n",
       "      <td>1.785900</td>\n",
       "    </tr>\n",
       "    <tr>\n",
       "      <th>197</th>\n",
       "      <td>1.002164</td>\n",
       "      <td>-0.980187</td>\n",
       "      <td>-1.033473</td>\n",
       "    </tr>\n",
       "  </tbody>\n",
       "</table>\n",
       "<p>198 rows × 3 columns</p>\n",
       "</div>"
      ],
      "text/plain": [
       "           TV     radio  newspaper\n",
       "0    0.978697  0.989521   1.932998\n",
       "1   -1.199012  1.090705   0.751313\n",
       "2   -1.519332  1.535913   1.937901\n",
       "3    0.056456  1.225616   1.408349\n",
       "4    0.400243 -0.831784   1.403446\n",
       "..        ...       ...        ...\n",
       "193 -1.272932 -1.310720  -0.783407\n",
       "194 -0.615864 -1.229773  -1.062892\n",
       "195  0.355657 -0.932968  -1.146248\n",
       "196  1.606431  1.272836   1.785900\n",
       "197  1.002164 -0.980187  -1.033473\n",
       "\n",
       "[198 rows x 3 columns]"
      ]
     },
     "execution_count": 122,
     "metadata": {},
     "output_type": "execute_result"
    }
   ],
   "source": [
    "x"
   ]
  },
  {
   "cell_type": "markdown",
   "id": "8362d582",
   "metadata": {},
   "source": [
    "# <span style=\"color:red;\">Data is ready for Machine Learning Models</span>"
   ]
  },
  {
   "cell_type": "markdown",
   "id": "a6cf2216",
   "metadata": {},
   "source": [
    "# Since the y (Target) has continuous values we will use Linear Regression model"
   ]
  },
  {
   "cell_type": "markdown",
   "id": "70e7c081",
   "metadata": {},
   "source": [
    "### Finding Best Random State"
   ]
  },
  {
   "cell_type": "code",
   "execution_count": 123,
   "id": "3eb16ac3",
   "metadata": {},
   "outputs": [],
   "source": [
    "lr = LinearRegression()"
   ]
  },
  {
   "cell_type": "code",
   "execution_count": 124,
   "id": "9a2e12a7",
   "metadata": {},
   "outputs": [],
   "source": [
    "random_state = []\n",
    "training_accuracy = []\n",
    "testing_accuracy = []"
   ]
  },
  {
   "cell_type": "code",
   "execution_count": 125,
   "id": "0e7e3122",
   "metadata": {},
   "outputs": [],
   "source": [
    "for i in range(1,200):\n",
    "    x_train,x_test,y_train,y_test = train_test_split(x,y,test_size=.20,random_state=i)\n",
    "    lr = LinearRegression()\n",
    "    lr.fit(x_train, y_train)\n",
    "    pred_train = lr.predict(x_train)\n",
    "    pred_test = lr.predict(x_test)\n",
    "    random_state.append(i)\n",
    "    training_accuracy.append(round(r2_score(y_train,pred_train), 2))\n",
    "    testing_accuracy.append(round(r2_score(y_test,pred_test), 2))"
   ]
  },
  {
   "cell_type": "code",
   "execution_count": 126,
   "id": "05839972",
   "metadata": {},
   "outputs": [],
   "source": [
    "lr_acc = pd.DataFrame()"
   ]
  },
  {
   "cell_type": "code",
   "execution_count": 127,
   "id": "e432d1cd",
   "metadata": {},
   "outputs": [],
   "source": [
    "lr_acc['random_state'] = random_state\n",
    "lr_acc['training_accuracy'] = training_accuracy\n",
    "lr_acc['testing_accuracy'] = testing_accuracy"
   ]
  },
  {
   "cell_type": "code",
   "execution_count": 128,
   "id": "c3f3a8ab",
   "metadata": {},
   "outputs": [
    {
     "data": {
      "text/html": [
       "<div>\n",
       "<style scoped>\n",
       "    .dataframe tbody tr th:only-of-type {\n",
       "        vertical-align: middle;\n",
       "    }\n",
       "\n",
       "    .dataframe tbody tr th {\n",
       "        vertical-align: top;\n",
       "    }\n",
       "\n",
       "    .dataframe thead th {\n",
       "        text-align: right;\n",
       "    }\n",
       "</style>\n",
       "<table border=\"1\" class=\"dataframe\">\n",
       "  <thead>\n",
       "    <tr style=\"text-align: right;\">\n",
       "      <th></th>\n",
       "      <th>random_state</th>\n",
       "      <th>training_accuracy</th>\n",
       "      <th>testing_accuracy</th>\n",
       "    </tr>\n",
       "  </thead>\n",
       "  <tbody>\n",
       "    <tr>\n",
       "      <th>89</th>\n",
       "      <td>90</td>\n",
       "      <td>0.88</td>\n",
       "      <td>0.95</td>\n",
       "    </tr>\n",
       "  </tbody>\n",
       "</table>\n",
       "</div>"
      ],
      "text/plain": [
       "    random_state  training_accuracy  testing_accuracy\n",
       "89            90               0.88              0.95"
      ]
     },
     "execution_count": 128,
     "metadata": {},
     "output_type": "execute_result"
    }
   ],
   "source": [
    "lr_acc.sort_values('testing_accuracy').tail(1)"
   ]
  },
  {
   "cell_type": "markdown",
   "id": "aefd763b",
   "metadata": {},
   "source": [
    "It is clear that for random state 90, we have highest testing accuracy"
   ]
  },
  {
   "cell_type": "code",
   "execution_count": 129,
   "id": "db1d33c4",
   "metadata": {},
   "outputs": [],
   "source": [
    "x_train,x_test,y_train,y_test = train_test_split(x,y,test_size=.20,random_state=90)"
   ]
  },
  {
   "cell_type": "code",
   "execution_count": 130,
   "id": "694be03a",
   "metadata": {},
   "outputs": [
    {
     "data": {
      "text/plain": [
       "LinearRegression()"
      ]
     },
     "execution_count": 130,
     "metadata": {},
     "output_type": "execute_result"
    }
   ],
   "source": [
    "lr.fit(x_train,y_train)"
   ]
  },
  {
   "cell_type": "code",
   "execution_count": 131,
   "id": "42c53253",
   "metadata": {},
   "outputs": [],
   "source": [
    "pred_test = lr.predict(x_test)"
   ]
  },
  {
   "cell_type": "code",
   "execution_count": 132,
   "id": "aa0279b6",
   "metadata": {},
   "outputs": [
    {
     "name": "stdout",
     "output_type": "stream",
     "text": [
      "0.9477136584598765\n"
     ]
    }
   ],
   "source": [
    "print(r2_score(y_test,pred_test))"
   ]
  },
  {
   "cell_type": "markdown",
   "id": "4b4109e4",
   "metadata": {},
   "source": [
    "## Cross Validation of the model"
   ]
  },
  {
   "cell_type": "code",
   "execution_count": 133,
   "id": "9d5da5cc",
   "metadata": {
    "scrolled": true
   },
   "outputs": [
    {
     "name": "stdout",
     "output_type": "stream",
     "text": [
      "At cross fold 2 the cv score is 0.8886177292201751\n",
      "accuracy score for training is -0.788460915297821\n",
      "accuracy score for testing is 0.9477136584598765\n",
      "\n",
      "\n",
      "At cross fold 3 the cv score is 0.8890406332045907\n",
      "accuracy score for training is -0.788460915297821\n",
      "accuracy score for testing is 0.9477136584598765\n",
      "\n",
      "\n",
      "At cross fold 4 the cv score is 0.8880501918930908\n",
      "accuracy score for training is -0.788460915297821\n",
      "accuracy score for testing is 0.9477136584598765\n",
      "\n",
      "\n",
      "At cross fold 5 the cv score is 0.8853605756683912\n",
      "accuracy score for training is -0.788460915297821\n",
      "accuracy score for testing is 0.9477136584598765\n",
      "\n",
      "\n",
      "At cross fold 6 the cv score is 0.8868174285063072\n",
      "accuracy score for training is -0.788460915297821\n",
      "accuracy score for testing is 0.9477136584598765\n",
      "\n",
      "\n",
      "At cross fold 7 the cv score is 0.883828289486476\n",
      "accuracy score for training is -0.788460915297821\n",
      "accuracy score for testing is 0.9477136584598765\n",
      "\n",
      "\n",
      "At cross fold 8 the cv score is 0.888033455415022\n",
      "accuracy score for training is -0.788460915297821\n",
      "accuracy score for testing is 0.9477136584598765\n",
      "\n",
      "\n",
      "At cross fold 9 the cv score is 0.8810485430282271\n",
      "accuracy score for training is -0.788460915297821\n",
      "accuracy score for testing is 0.9477136584598765\n",
      "\n",
      "\n"
     ]
    }
   ],
   "source": [
    "train_accuracy = r2_score(y_train,pred_train)\n",
    "test_accuracy = r2_score(y_test,pred_test)\n",
    "\n",
    "for j in range(2,10):\n",
    "    cv_score = cross_val_score(lr,x,y,cv=j)\n",
    "    cv_mean=cv_score.mean()\n",
    "    print(f\"At cross fold {j} the cv score is {cv_mean}\")\n",
    "    print(f\"accuracy score for training is {train_accuracy}\")\n",
    "    print(f\"accuracy score for testing is {test_accuracy}\")\n",
    "    print(\"\\n\")"
   ]
  },
  {
   "cell_type": "code",
   "execution_count": 134,
   "id": "363b33c5",
   "metadata": {},
   "outputs": [
    {
     "data": {
      "image/png": "[encoded data removed]",
      "text/plain": [
       "<Figure size 576x432 with 1 Axes>"
      ]
     },
     "metadata": {
      "needs_background": "light"
     },
     "output_type": "display_data"
    }
   ],
   "source": [
    "plt.figure(figsize=(8,6))\n",
    "plt.scatter(x=y_test, y=pred_test, color='g')\n",
    "plt.plot(y_test,y_test,color='b')\n",
    "plt.xlabel('Actual charges', fontsize=14)\n",
    "plt.ylabel('Predicted charges', fontsize=14)\n",
    "plt.title('Linear Regression',fontsize=18)\n",
    "plt.show()"
   ]
  },
  {
   "cell_type": "markdown",
   "id": "847c7045",
   "metadata": {},
   "source": [
    "The best fit line covering more than 75.0% of the points"
   ]
  },
  {
   "cell_type": "markdown",
   "id": "bebb8388",
   "metadata": {},
   "source": [
    "## importing all the required libraries"
   ]
  },
  {
   "cell_type": "code",
   "execution_count": 135,
   "id": "2847313b",
   "metadata": {},
   "outputs": [],
   "source": [
    "from sklearn.model_selection import train_test_split\n",
    "from sklearn.linear_model import LinearRegression\n",
    "from sklearn.linear_model import Lasso,Ridge,ElasticNet\n",
    "from sklearn.svm import SVR\n",
    "from sklearn.tree import DecisionTreeRegressor\n",
    "from sklearn.ensemble import RandomForestRegressor\n",
    "from sklearn.neighbors import KNeighborsRegressor\n",
    "from sklearn.linear_model import SGDRegressor\n",
    "from sklearn.ensemble import AdaBoostRegressor\n",
    "from sklearn.ensemble import ExtraTreesRegressor\n",
    "from sklearn.ensemble import GradientBoostingRegressor\n",
    "\n",
    "from sklearn.model_selection import cross_val_score\n",
    "from sklearn.model_selection import GridSearchCV"
   ]
  },
  {
   "cell_type": "code",
   "execution_count": 136,
   "id": "753801a9",
   "metadata": {},
   "outputs": [],
   "source": [
    "def regressor(model, x, y):\n",
    "    x_train, x_test, y_train, y_test = train_test_split(x, y, test_size=0.2, random_state=111)\n",
    "    \n",
    "    # Training the model\n",
    "    model.fit(x_train, y_train)\n",
    "    \n",
    "    # Predicting y_test\n",
    "    pred = model.predict(x_test)\n",
    "    \n",
    "    # Root Mean Square Error (RMSE)\n",
    "    rmse = mean_squared_error(y_test, pred, squared=False)\n",
    "    print(\"Root Mean Square Error is:\", rmse)\n",
    "    \n",
    "    # R2 score\n",
    "    r2 = r2_score(y_test, pred, multioutput='variance_weighted')*100\n",
    "    print(\"R2 Score is:\", r2)\n",
    "    \n",
    "    # Cross Validation Score\n",
    "    cv_score = (cross_val_score(model, x, y, cv=5).mean())*100\n",
    "    print(\"Cross Validation Score is:\", cv_score)\n",
    "    \n",
    "    # Result of r2 score - cv score\n",
    "    result = r2 - cv_score\n",
    "    print(\"R2 Score - Cross Validation Score is\", result)"
   ]
  },
  {
   "cell_type": "markdown",
   "id": "64e663c1",
   "metadata": {},
   "source": [
    "# Tuning parameter for better results"
   ]
  },
  {
   "cell_type": "markdown",
   "id": "23533f96",
   "metadata": {},
   "source": [
    "### Linear Regression"
   ]
  },
  {
   "cell_type": "code",
   "execution_count": 137,
   "id": "e28f811b",
   "metadata": {},
   "outputs": [
    {
     "name": "stdout",
     "output_type": "stream",
     "text": [
      "Root Mean Square Error is: 2.067981449916982\n",
      "R2 Score is: 85.92963033296425\n",
      "Cross Validation Score is: 88.53605756683912\n",
      "R2 Score - Cross Validation Score is -2.606427233874868\n"
     ]
    }
   ],
   "source": [
    "model=LinearRegression()\n",
    "regressor(model, x, y)"
   ]
  },
  {
   "cell_type": "markdown",
   "id": "b7316fb1",
   "metadata": {},
   "source": [
    "### L1 -- Lasso Regression"
   ]
  },
  {
   "cell_type": "code",
   "execution_count": 138,
   "id": "8ab187bf",
   "metadata": {},
   "outputs": [
    {
     "name": "stdout",
     "output_type": "stream",
     "text": [
      "Root Mean Square Error is: 2.0680079560363653\n",
      "R2 Score is: 85.92926963989488\n",
      "Cross Validation Score is: 88.5363671166451\n",
      "R2 Score - Cross Validation Score is -2.607097476750212\n"
     ]
    }
   ],
   "source": [
    "model=Lasso(alpha=0.0001)\n",
    "regressor(model, x, y)"
   ]
  },
  {
   "cell_type": "markdown",
   "id": "7a1953a8",
   "metadata": {},
   "source": [
    "### L2 -- Ridge Regression"
   ]
  },
  {
   "cell_type": "code",
   "execution_count": 139,
   "id": "56d1d892",
   "metadata": {},
   "outputs": [
    {
     "name": "stdout",
     "output_type": "stream",
     "text": [
      "Root Mean Square Error is: 2.067982257408847\n",
      "R2 Score is: 85.92961934475034\n",
      "Cross Validation Score is: 88.53605882462251\n",
      "R2 Score - Cross Validation Score is -2.6064394798721793\n"
     ]
    }
   ],
   "source": [
    "model=Ridge(alpha=0.0001)\n",
    "regressor(model, x, y)"
   ]
  },
  {
   "cell_type": "markdown",
   "id": "05fa618d",
   "metadata": {},
   "source": [
    "### Elastic Net"
   ]
  },
  {
   "cell_type": "code",
   "execution_count": 140,
   "id": "4706c69a",
   "metadata": {},
   "outputs": [
    {
     "name": "stdout",
     "output_type": "stream",
     "text": [
      "Root Mean Square Error is: 2.0680584622037452\n",
      "R2 Score is: 85.92858234337001\n",
      "Cross Validation Score is: 88.53631750920782\n",
      "R2 Score - Cross Validation Score is -2.607735165837809\n"
     ]
    }
   ],
   "source": [
    "model=ElasticNet(alpha=0.0001)\n",
    "regressor(model, x, y)"
   ]
  },
  {
   "cell_type": "markdown",
   "id": "41a79544",
   "metadata": {},
   "source": [
    "# Support Vector Regression"
   ]
  },
  {
   "cell_type": "code",
   "execution_count": 141,
   "id": "0c38e143",
   "metadata": {},
   "outputs": [
    {
     "name": "stdout",
     "output_type": "stream",
     "text": [
      "Root Mean Square Error is: 2.1263995228797206\n",
      "R2 Score is: 85.123459035708\n",
      "Cross Validation Score is: 91.05355050541174\n",
      "R2 Score - Cross Validation Score is -5.93009146970374\n"
     ]
    }
   ],
   "source": [
    "model=SVR(kernel='rbf')\n",
    "regressor(model, x, y)"
   ]
  },
  {
   "cell_type": "code",
   "execution_count": 142,
   "id": "ceb35c18",
   "metadata": {},
   "outputs": [
    {
     "name": "stdout",
     "output_type": "stream",
     "text": [
      "Root Mean Square Error is: 2.4277555968059485\n",
      "R2 Score is: 80.60801984002971\n",
      "Cross Validation Score is: 80.02650275443585\n",
      "R2 Score - Cross Validation Score is 0.581517085593859\n"
     ]
    }
   ],
   "source": [
    "model=SVR(kernel='poly')\n",
    "regressor(model, x, y)"
   ]
  },
  {
   "cell_type": "code",
   "execution_count": 143,
   "id": "651fca95",
   "metadata": {},
   "outputs": [
    {
     "name": "stdout",
     "output_type": "stream",
     "text": [
      "Root Mean Square Error is: 2.147331107858528\n",
      "R2 Score is: 84.8291378727518\n",
      "Cross Validation Score is: 87.59677907869423\n",
      "R2 Score - Cross Validation Score is -2.767641205942425\n"
     ]
    }
   ],
   "source": [
    "model=SVR(kernel='linear')\n",
    "regressor(model, x, y)"
   ]
  },
  {
   "cell_type": "markdown",
   "id": "9c275ade",
   "metadata": {},
   "source": [
    "# Decision Tree Regressor"
   ]
  },
  {
   "cell_type": "code",
   "execution_count": 144,
   "id": "b95ac5ad",
   "metadata": {},
   "outputs": [
    {
     "name": "stdout",
     "output_type": "stream",
     "text": [
      "Root Mean Square Error is: 1.1558546621439911\n",
      "R2 Score is: 95.60439470051546\n",
      "Cross Validation Score is: 95.07894328078767\n",
      "R2 Score - Cross Validation Score is 0.5254514197277871\n"
     ]
    }
   ],
   "source": [
    "model=DecisionTreeRegressor(random_state=111)\n",
    "regressor(model, x, y)"
   ]
  },
  {
   "cell_type": "markdown",
   "id": "5bbe7322",
   "metadata": {},
   "source": [
    "# Random Forest Regressor"
   ]
  },
  {
   "cell_type": "code",
   "execution_count": 145,
   "id": "6d947232",
   "metadata": {},
   "outputs": [
    {
     "name": "stdout",
     "output_type": "stream",
     "text": [
      "Root Mean Square Error is: 0.9358164349913918\n",
      "R2 Score is: 97.1186662496435\n",
      "Cross Validation Score is: 97.5883007746219\n",
      "R2 Score - Cross Validation Score is -0.4696345249784031\n"
     ]
    }
   ],
   "source": [
    "model=RandomForestRegressor()\n",
    "regressor(model, x, y)"
   ]
  },
  {
   "cell_type": "markdown",
   "id": "996aad38",
   "metadata": {},
   "source": [
    "# K Neighbors Regressor"
   ]
  },
  {
   "cell_type": "code",
   "execution_count": 146,
   "id": "9afdfef6",
   "metadata": {},
   "outputs": [
    {
     "name": "stdout",
     "output_type": "stream",
     "text": [
      "Root Mean Square Error is: 1.6143171931191223\n",
      "R2 Score is: 91.42587176454887\n",
      "Cross Validation Score is: 93.67560788064591\n",
      "R2 Score - Cross Validation Score is -2.24973611609704\n"
     ]
    }
   ],
   "source": [
    "model=KNeighborsRegressor()\n",
    "regressor(model, x, y)"
   ]
  },
  {
   "cell_type": "markdown",
   "id": "261e5ae0",
   "metadata": {},
   "source": [
    "# SGD Regressor"
   ]
  },
  {
   "cell_type": "code",
   "execution_count": 147,
   "id": "2199b711",
   "metadata": {},
   "outputs": [
    {
     "name": "stdout",
     "output_type": "stream",
     "text": [
      "Root Mean Square Error is: 171093144560.70026\n",
      "R2 Score is: -9.631134478886531e+22\n",
      "Cross Validation Score is: -2.3002817715010084e+24\n",
      "R2 Score - Cross Validation Score is 2.2039704267121432e+24\n"
     ]
    }
   ],
   "source": [
    "model=SGDRegressor(penalty='l1', learning_rate='optimal')\n",
    "regressor(model, x, y)"
   ]
  },
  {
   "cell_type": "markdown",
   "id": "15fb84d8",
   "metadata": {},
   "source": [
    "# Gradient Boosting Regressor"
   ]
  },
  {
   "cell_type": "code",
   "execution_count": 148,
   "id": "e0766aed",
   "metadata": {},
   "outputs": [
    {
     "name": "stdout",
     "output_type": "stream",
     "text": [
      "Root Mean Square Error is: 0.862525054100122\n",
      "R2 Score is: 97.55231420039884\n",
      "Cross Validation Score is: 97.81595165067975\n",
      "R2 Score - Cross Validation Score is -0.26363745028091046\n"
     ]
    }
   ],
   "source": [
    "model=GradientBoostingRegressor()\n",
    "regressor(model, x, y)"
   ]
  },
  {
   "cell_type": "markdown",
   "id": "425aca22",
   "metadata": {},
   "source": [
    "# Ada Boost Regressor"
   ]
  },
  {
   "cell_type": "code",
   "execution_count": 149,
   "id": "c3079e1d",
   "metadata": {},
   "outputs": [
    {
     "name": "stdout",
     "output_type": "stream",
     "text": [
      "Root Mean Square Error is: 1.196000484318607\n",
      "R2 Score is: 95.29375056711544\n",
      "Cross Validation Score is: 95.39180729645611\n",
      "R2 Score - Cross Validation Score is -0.09805672934066934\n"
     ]
    }
   ],
   "source": [
    "model=AdaBoostRegressor(random_state=111)\n",
    "regressor(model, x, y)"
   ]
  },
  {
   "cell_type": "markdown",
   "id": "7e4ed076",
   "metadata": {},
   "source": [
    "# Extra Trees Regressor"
   ]
  },
  {
   "cell_type": "code",
   "execution_count": 150,
   "id": "151a5aea",
   "metadata": {},
   "outputs": [
    {
     "name": "stdout",
     "output_type": "stream",
     "text": [
      "Root Mean Square Error is: 1.6678621725318066\n",
      "R2 Score is: 90.8476515148243\n",
      "Cross Validation Score is: 93.79335478244798\n",
      "R2 Score - Cross Validation Score is -2.9457032676236707\n"
     ]
    }
   ],
   "source": [
    "model=ExtraTreesRegressor(n_estimators=200, max_features='sqrt', n_jobs=6)\n",
    "regressor(model, x, y)"
   ]
  },
  {
   "cell_type": "markdown",
   "id": "8109d7b5",
   "metadata": {},
   "source": [
    "# Hyper parameter tuning"
   ]
  },
  {
   "cell_type": "code",
   "execution_count": 151,
   "id": "9db42ca8",
   "metadata": {},
   "outputs": [],
   "source": [
    "x_train, x_test, y_train, y_test = train_test_split(x, y, test_size=0.2, random_state=111)"
   ]
  },
  {
   "cell_type": "markdown",
   "id": "0b82b983",
   "metadata": {},
   "source": [
    "## For Lasso Regressor"
   ]
  },
  {
   "cell_type": "code",
   "execution_count": 152,
   "id": "90fe6578",
   "metadata": {
    "scrolled": true
   },
   "outputs": [
    {
     "name": "stdout",
     "output_type": "stream",
     "text": [
      "{'alpha': 100, 'max_iter': 500, 'random_state': 100, 'selection': 'cyclic'}\n"
     ]
    }
   ],
   "source": [
    "parameters = {'alpha':[100, 300], 'selection': ['cyclic', 'random'], 'max_iter': [500, 1000], 'random_state': [100, 500]}\n",
    "ls = Lasso()\n",
    "clf = GridSearchCV(ls,parameters)\n",
    "clf.fit(x_train,y_train)\n",
    "\n",
    "print(clf.best_params_)"
   ]
  },
  {
   "cell_type": "code",
   "execution_count": 153,
   "id": "2b7dbe2a",
   "metadata": {},
   "outputs": [
    {
     "data": {
      "text/plain": [
       "-0.03881127690826092"
      ]
     },
     "execution_count": 153,
     "metadata": {},
     "output_type": "execute_result"
    }
   ],
   "source": [
    "ls=Lasso(alpha=100,random_state=100,max_iter=500,selection='cyclic')\n",
    "ls.fit(x_train,y_train)\n",
    "ls.score(x_train,y_train)\n",
    "pred_ls = ls.predict(x_test)\n",
    "\n",
    "ls1 = r2_score(y_test,pred_ls)\n",
    "ls1"
   ]
  },
  {
   "cell_type": "code",
   "execution_count": 154,
   "id": "ce84a7de",
   "metadata": {},
   "outputs": [
    {
     "data": {
      "text/plain": [
       "-0.012081256739689428"
      ]
     },
     "execution_count": 154,
     "metadata": {},
     "output_type": "execute_result"
    }
   ],
   "source": [
    "cv_score=cross_val_score(ls,x,y,cv=5)\n",
    "cv_mean=cv_score.mean()\n",
    "cv_mean"
   ]
  },
  {
   "cell_type": "markdown",
   "id": "8859e832",
   "metadata": {},
   "source": [
    "## For Random Forest Regressor"
   ]
  },
  {
   "cell_type": "code",
   "execution_count": 155,
   "id": "226f1a0f",
   "metadata": {},
   "outputs": [
    {
     "name": "stdout",
     "output_type": "stream",
     "text": [
      "{'criterion': 'mae', 'max_features': 'auto'}\n"
     ]
    }
   ],
   "source": [
    "parameters = {'criterion':['mse','mae'], 'max_features':[\"auto\",\"sqrt\",\"log2\"]}\n",
    "\n",
    "rf=RandomForestRegressor()\n",
    "clf = GridSearchCV(rf,parameters)\n",
    "clf.fit(x_train,y_train)\n",
    "\n",
    "print(clf.best_params_)"
   ]
  },
  {
   "cell_type": "code",
   "execution_count": 156,
   "id": "34b4e341",
   "metadata": {},
   "outputs": [
    {
     "name": "stdout",
     "output_type": "stream",
     "text": [
      "R2 Score: 87.66172930136901\n",
      "Cross Validation Score: 90.82471288606658\n"
     ]
    }
   ],
   "source": [
    "rf=RandomForestRegressor(criterion=\"mse\",max_features=\"log2\")\n",
    "rf.fit(x_train,y_train)\n",
    "rf.score(x_train,y_train)\n",
    "pred_decision = rf.predict(x_test)\n",
    "\n",
    "rfs = r2_score(y_test,pred_decision)\n",
    "print('R2 Score:',rfs*100)\n",
    "\n",
    "rfscore = cross_val_score(rf,x,y,cv=5)\n",
    "rfc = rfscore.mean()\n",
    "print('Cross Validation Score:',rfc*100)"
   ]
  },
  {
   "cell_type": "markdown",
   "id": "7410ac3a",
   "metadata": {},
   "source": [
    "# For Gradient Boosting"
   ]
  },
  {
   "cell_type": "code",
   "execution_count": 157,
   "id": "bd9f776a",
   "metadata": {},
   "outputs": [
    {
     "data": {
      "text/plain": [
       "GridSearchCV(cv=10, estimator=GradientBoostingRegressor(),\n",
       "             param_grid={'n_estimators': [500]})"
      ]
     },
     "execution_count": 157,
     "metadata": {},
     "output_type": "execute_result"
    }
   ],
   "source": [
    "clf_gb=GridSearchCV(estimator=GradientBoostingRegressor(),cv=10,param_grid=dict({'n_estimators':[500]}))\n",
    "clf_gb.fit(x_train,y_train)"
   ]
  },
  {
   "cell_type": "code",
   "execution_count": 158,
   "id": "26dd58ed",
   "metadata": {},
   "outputs": [
    {
     "data": {
      "text/plain": [
       "0.9756539706651818"
      ]
     },
     "execution_count": 158,
     "metadata": {},
     "output_type": "execute_result"
    }
   ],
   "source": [
    "clf_gb.best_score_"
   ]
  },
  {
   "cell_type": "code",
   "execution_count": 159,
   "id": "b3a2d108",
   "metadata": {},
   "outputs": [
    {
     "data": {
      "text/plain": [
       "{'n_estimators': 500}"
      ]
     },
     "execution_count": 159,
     "metadata": {},
     "output_type": "execute_result"
    }
   ],
   "source": [
    "clf_gb.best_params_"
   ]
  },
  {
   "cell_type": "code",
   "execution_count": 160,
   "id": "3ab1df01",
   "metadata": {},
   "outputs": [
    {
     "data": {
      "text/html": [
       "<div>\n",
       "<style scoped>\n",
       "    .dataframe tbody tr th:only-of-type {\n",
       "        vertical-align: middle;\n",
       "    }\n",
       "\n",
       "    .dataframe tbody tr th {\n",
       "        vertical-align: top;\n",
       "    }\n",
       "\n",
       "    .dataframe thead th {\n",
       "        text-align: right;\n",
       "    }\n",
       "</style>\n",
       "<table border=\"1\" class=\"dataframe\">\n",
       "  <thead>\n",
       "    <tr style=\"text-align: right;\">\n",
       "      <th></th>\n",
       "      <th>mean_fit_time</th>\n",
       "      <th>std_fit_time</th>\n",
       "      <th>mean_score_time</th>\n",
       "      <th>std_score_time</th>\n",
       "      <th>param_n_estimators</th>\n",
       "      <th>params</th>\n",
       "      <th>split0_test_score</th>\n",
       "      <th>split1_test_score</th>\n",
       "      <th>split2_test_score</th>\n",
       "      <th>split3_test_score</th>\n",
       "      <th>split4_test_score</th>\n",
       "      <th>split5_test_score</th>\n",
       "      <th>split6_test_score</th>\n",
       "      <th>split7_test_score</th>\n",
       "      <th>split8_test_score</th>\n",
       "      <th>split9_test_score</th>\n",
       "      <th>mean_test_score</th>\n",
       "      <th>std_test_score</th>\n",
       "      <th>rank_test_score</th>\n",
       "    </tr>\n",
       "  </thead>\n",
       "  <tbody>\n",
       "    <tr>\n",
       "      <th>0</th>\n",
       "      <td>0.076595</td>\n",
       "      <td>0.005677</td>\n",
       "      <td>0.0</td>\n",
       "      <td>0.0</td>\n",
       "      <td>500</td>\n",
       "      <td>{'n_estimators': 500}</td>\n",
       "      <td>0.987406</td>\n",
       "      <td>0.980067</td>\n",
       "      <td>0.982663</td>\n",
       "      <td>0.981469</td>\n",
       "      <td>0.955689</td>\n",
       "      <td>0.987133</td>\n",
       "      <td>0.981508</td>\n",
       "      <td>0.966746</td>\n",
       "      <td>0.990282</td>\n",
       "      <td>0.943577</td>\n",
       "      <td>0.975654</td>\n",
       "      <td>0.014586</td>\n",
       "      <td>1</td>\n",
       "    </tr>\n",
       "  </tbody>\n",
       "</table>\n",
       "</div>"
      ],
      "text/plain": [
       "   mean_fit_time  std_fit_time  mean_score_time  std_score_time  \\\n",
       "0       0.076595      0.005677              0.0             0.0   \n",
       "\n",
       "  param_n_estimators                 params  split0_test_score  \\\n",
       "0                500  {'n_estimators': 500}           0.987406   \n",
       "\n",
       "   split1_test_score  split2_test_score  split3_test_score  split4_test_score  \\\n",
       "0           0.980067           0.982663           0.981469           0.955689   \n",
       "\n",
       "   split5_test_score  split6_test_score  split7_test_score  split8_test_score  \\\n",
       "0           0.987133           0.981508           0.966746           0.990282   \n",
       "\n",
       "   split9_test_score  mean_test_score  std_test_score  rank_test_score  \n",
       "0           0.943577         0.975654        0.014586                1  "
      ]
     },
     "execution_count": 160,
     "metadata": {},
     "output_type": "execute_result"
    }
   ],
   "source": [
    "clf_gb_df = pd.DataFrame(clf_gb.cv_results_)\n",
    "clf_gb_df"
   ]
  },
  {
   "cell_type": "markdown",
   "id": "0816ad95",
   "metadata": {},
   "source": [
    "# Decision Tree Regressor Model Performing with 95% Accuracy"
   ]
  },
  {
   "cell_type": "code",
   "execution_count": 162,
   "id": "95271eef",
   "metadata": {},
   "outputs": [
    {
     "name": "stdout",
     "output_type": "stream",
     "text": [
      "Root Mean Square Error is: 1.1558546621439911\n",
      "R2 Score is: 95.60439470051546\n",
      "Cross Validation Score is: 95.07894328078767\n",
      "R2 Score - Cross Validation Score is 0.5254514197277871\n"
     ]
    }
   ],
   "source": [
    "model=DecisionTreeRegressor(random_state=111)\n",
    "regressor(model, x, y)"
   ]
  }
 ],
 "metadata": {
  "kernelspec": {
   "display_name": "Python 3 (ipykernel)",
   "language": "python",
   "name": "python3"
  },
  "language_info": {
   "codemirror_mode": {
    "name": "ipython",
    "version": 3
   },
   "file_extension": ".py",
   "mimetype": "text/x-python",
   "name": "python",
   "nbconvert_exporter": "python",
   "pygments_lexer": "ipython3",
   "version": "3.9.12"
  }
 },
 "nbformat": 4,
 "nbformat_minor": 5
}
