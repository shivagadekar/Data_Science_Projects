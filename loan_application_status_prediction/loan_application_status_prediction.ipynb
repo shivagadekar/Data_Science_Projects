{
  "cells": [
    {
      "cell_type": "markdown",
      "id": "f9a6505f",
      "metadata": {
        "id": "f9a6505f"
      },
      "source": [
        "# Loan Application Status Prediction\n",
        "\n",
        "Problem Statement:\n",
        "This dataset includes details of applicants who have applied for loan. The dataset includes details like credit history, loan amount, their income, dependents etc. \n",
        "\n",
        "Independent Variables:\n",
        "\n",
        "- Loan_ID\n",
        "\n",
        "- Gender\n",
        "\n",
        "- Married\n",
        "\n",
        "- Dependents\n",
        "\n",
        "- Education\n",
        "\n",
        "- Self_Employed\n",
        "\n",
        "- Applicant Income\n",
        "\n",
        "- Coapplicant Income\n",
        "\n",
        "- Loan_Amount\n",
        "\n",
        "- Loan_Amount_Term\n",
        "\n",
        "- Credit History\n",
        "\n",
        "- Property_Area\n",
        "\n",
        "Dependent Variable (Target Variable):\n",
        "\n",
        "- Loan_Status\n",
        "\n",
        "You have to build a model that can predict whether the loan of the applicant will be approved or not on the basis of the details provided in the dataset."
      ]
    },
    {
      "cell_type": "code",
      "execution_count": null,
      "id": "e74b6d82",
      "metadata": {
        "id": "e74b6d82"
      },
      "outputs": [],
      "source": [
        "# Importing required libraries\n",
        "\n",
        "import pandas as pd\n",
        "import numpy as np\n",
        "import matplotlib.pyplot as plt\n",
        "import seaborn as sns\n",
        "import warnings\n",
        "warnings.filterwarnings('ignore')"
      ]
    },
    {
      "cell_type": "markdown",
      "id": "1538d341",
      "metadata": {
        "id": "1538d341"
      },
      "source": [
        "# Loading Dataset"
      ]
    },
    {
      "cell_type": "code",
      "execution_count": null,
      "id": "8a00e30d",
      "metadata": {
        "id": "8a00e30d"
      },
      "outputs": [],
      "source": [
        "df=pd.read_csv('loan_prediction.csv')"
      ]
    },
    {
      "cell_type": "code",
      "execution_count": null,
      "id": "a34db731",
      "metadata": {
        "id": "a34db731",
        "outputId": "ac454f56-1e1a-4a20-faa0-2f732ceadf7e"
      },
      "outputs": [
        {
          "data": {
            "text/html": [
              "<div>\n",
              "<style scoped>\n",
              "    .dataframe tbody tr th:only-of-type {\n",
              "        vertical-align: middle;\n",
              "    }\n",
              "\n",
              "    .dataframe tbody tr th {\n",
              "        vertical-align: top;\n",
              "    }\n",
              "\n",
              "    .dataframe thead th {\n",
              "        text-align: right;\n",
              "    }\n",
              "</style>\n",
              "<table border=\"1\" class=\"dataframe\">\n",
              "  <thead>\n",
              "    <tr style=\"text-align: right;\">\n",
              "      <th></th>\n",
              "      <th>Loan_ID</th>\n",
              "      <th>Gender</th>\n",
              "      <th>Married</th>\n",
              "      <th>Dependents</th>\n",
              "      <th>Education</th>\n",
              "      <th>Self_Employed</th>\n",
              "      <th>ApplicantIncome</th>\n",
              "      <th>CoapplicantIncome</th>\n",
              "      <th>LoanAmount</th>\n",
              "      <th>Loan_Amount_Term</th>\n",
              "      <th>Credit_History</th>\n",
              "      <th>Property_Area</th>\n",
              "      <th>Loan_Status</th>\n",
              "    </tr>\n",
              "  </thead>\n",
              "  <tbody>\n",
              "    <tr>\n",
              "      <th>0</th>\n",
              "      <td>LP001002</td>\n",
              "      <td>Male</td>\n",
              "      <td>No</td>\n",
              "      <td>0</td>\n",
              "      <td>Graduate</td>\n",
              "      <td>No</td>\n",
              "      <td>5849</td>\n",
              "      <td>0.0</td>\n",
              "      <td>NaN</td>\n",
              "      <td>360.0</td>\n",
              "      <td>1.0</td>\n",
              "      <td>Urban</td>\n",
              "      <td>Y</td>\n",
              "    </tr>\n",
              "    <tr>\n",
              "      <th>1</th>\n",
              "      <td>LP001003</td>\n",
              "      <td>Male</td>\n",
              "      <td>Yes</td>\n",
              "      <td>1</td>\n",
              "      <td>Graduate</td>\n",
              "      <td>No</td>\n",
              "      <td>4583</td>\n",
              "      <td>1508.0</td>\n",
              "      <td>128.0</td>\n",
              "      <td>360.0</td>\n",
              "      <td>1.0</td>\n",
              "      <td>Rural</td>\n",
              "      <td>N</td>\n",
              "    </tr>\n",
              "    <tr>\n",
              "      <th>2</th>\n",
              "      <td>LP001005</td>\n",
              "      <td>Male</td>\n",
              "      <td>Yes</td>\n",
              "      <td>0</td>\n",
              "      <td>Graduate</td>\n",
              "      <td>Yes</td>\n",
              "      <td>3000</td>\n",
              "      <td>0.0</td>\n",
              "      <td>66.0</td>\n",
              "      <td>360.0</td>\n",
              "      <td>1.0</td>\n",
              "      <td>Urban</td>\n",
              "      <td>Y</td>\n",
              "    </tr>\n",
              "    <tr>\n",
              "      <th>3</th>\n",
              "      <td>LP001006</td>\n",
              "      <td>Male</td>\n",
              "      <td>Yes</td>\n",
              "      <td>0</td>\n",
              "      <td>Not Graduate</td>\n",
              "      <td>No</td>\n",
              "      <td>2583</td>\n",
              "      <td>2358.0</td>\n",
              "      <td>120.0</td>\n",
              "      <td>360.0</td>\n",
              "      <td>1.0</td>\n",
              "      <td>Urban</td>\n",
              "      <td>Y</td>\n",
              "    </tr>\n",
              "    <tr>\n",
              "      <th>4</th>\n",
              "      <td>LP001008</td>\n",
              "      <td>Male</td>\n",
              "      <td>No</td>\n",
              "      <td>0</td>\n",
              "      <td>Graduate</td>\n",
              "      <td>No</td>\n",
              "      <td>6000</td>\n",
              "      <td>0.0</td>\n",
              "      <td>141.0</td>\n",
              "      <td>360.0</td>\n",
              "      <td>1.0</td>\n",
              "      <td>Urban</td>\n",
              "      <td>Y</td>\n",
              "    </tr>\n",
              "    <tr>\n",
              "      <th>...</th>\n",
              "      <td>...</td>\n",
              "      <td>...</td>\n",
              "      <td>...</td>\n",
              "      <td>...</td>\n",
              "      <td>...</td>\n",
              "      <td>...</td>\n",
              "      <td>...</td>\n",
              "      <td>...</td>\n",
              "      <td>...</td>\n",
              "      <td>...</td>\n",
              "      <td>...</td>\n",
              "      <td>...</td>\n",
              "      <td>...</td>\n",
              "    </tr>\n",
              "    <tr>\n",
              "      <th>609</th>\n",
              "      <td>LP002978</td>\n",
              "      <td>Female</td>\n",
              "      <td>No</td>\n",
              "      <td>0</td>\n",
              "      <td>Graduate</td>\n",
              "      <td>No</td>\n",
              "      <td>2900</td>\n",
              "      <td>0.0</td>\n",
              "      <td>71.0</td>\n",
              "      <td>360.0</td>\n",
              "      <td>1.0</td>\n",
              "      <td>Rural</td>\n",
              "      <td>Y</td>\n",
              "    </tr>\n",
              "    <tr>\n",
              "      <th>610</th>\n",
              "      <td>LP002979</td>\n",
              "      <td>Male</td>\n",
              "      <td>Yes</td>\n",
              "      <td>3+</td>\n",
              "      <td>Graduate</td>\n",
              "      <td>No</td>\n",
              "      <td>4106</td>\n",
              "      <td>0.0</td>\n",
              "      <td>40.0</td>\n",
              "      <td>180.0</td>\n",
              "      <td>1.0</td>\n",
              "      <td>Rural</td>\n",
              "      <td>Y</td>\n",
              "    </tr>\n",
              "    <tr>\n",
              "      <th>611</th>\n",
              "      <td>LP002983</td>\n",
              "      <td>Male</td>\n",
              "      <td>Yes</td>\n",
              "      <td>1</td>\n",
              "      <td>Graduate</td>\n",
              "      <td>No</td>\n",
              "      <td>8072</td>\n",
              "      <td>240.0</td>\n",
              "      <td>253.0</td>\n",
              "      <td>360.0</td>\n",
              "      <td>1.0</td>\n",
              "      <td>Urban</td>\n",
              "      <td>Y</td>\n",
              "    </tr>\n",
              "    <tr>\n",
              "      <th>612</th>\n",
              "      <td>LP002984</td>\n",
              "      <td>Male</td>\n",
              "      <td>Yes</td>\n",
              "      <td>2</td>\n",
              "      <td>Graduate</td>\n",
              "      <td>No</td>\n",
              "      <td>7583</td>\n",
              "      <td>0.0</td>\n",
              "      <td>187.0</td>\n",
              "      <td>360.0</td>\n",
              "      <td>1.0</td>\n",
              "      <td>Urban</td>\n",
              "      <td>Y</td>\n",
              "    </tr>\n",
              "    <tr>\n",
              "      <th>613</th>\n",
              "      <td>LP002990</td>\n",
              "      <td>Female</td>\n",
              "      <td>No</td>\n",
              "      <td>0</td>\n",
              "      <td>Graduate</td>\n",
              "      <td>Yes</td>\n",
              "      <td>4583</td>\n",
              "      <td>0.0</td>\n",
              "      <td>133.0</td>\n",
              "      <td>360.0</td>\n",
              "      <td>0.0</td>\n",
              "      <td>Semiurban</td>\n",
              "      <td>N</td>\n",
              "    </tr>\n",
              "  </tbody>\n",
              "</table>\n",
              "<p>614 rows × 13 columns</p>\n",
              "</div>"
            ],
            "text/plain": [
              "      Loan_ID  Gender Married Dependents     Education Self_Employed  \\\n",
              "0    LP001002    Male      No          0      Graduate            No   \n",
              "1    LP001003    Male     Yes          1      Graduate            No   \n",
              "2    LP001005    Male     Yes          0      Graduate           Yes   \n",
              "3    LP001006    Male     Yes          0  Not Graduate            No   \n",
              "4    LP001008    Male      No          0      Graduate            No   \n",
              "..        ...     ...     ...        ...           ...           ...   \n",
              "609  LP002978  Female      No          0      Graduate            No   \n",
              "610  LP002979    Male     Yes         3+      Graduate            No   \n",
              "611  LP002983    Male     Yes          1      Graduate            No   \n",
              "612  LP002984    Male     Yes          2      Graduate            No   \n",
              "613  LP002990  Female      No          0      Graduate           Yes   \n",
              "\n",
              "     ApplicantIncome  CoapplicantIncome  LoanAmount  Loan_Amount_Term  \\\n",
              "0               5849                0.0         NaN             360.0   \n",
              "1               4583             1508.0       128.0             360.0   \n",
              "2               3000                0.0        66.0             360.0   \n",
              "3               2583             2358.0       120.0             360.0   \n",
              "4               6000                0.0       141.0             360.0   \n",
              "..               ...                ...         ...               ...   \n",
              "609             2900                0.0        71.0             360.0   \n",
              "610             4106                0.0        40.0             180.0   \n",
              "611             8072              240.0       253.0             360.0   \n",
              "612             7583                0.0       187.0             360.0   \n",
              "613             4583                0.0       133.0             360.0   \n",
              "\n",
              "     Credit_History Property_Area Loan_Status  \n",
              "0               1.0         Urban           Y  \n",
              "1               1.0         Rural           N  \n",
              "2               1.0         Urban           Y  \n",
              "3               1.0         Urban           Y  \n",
              "4               1.0         Urban           Y  \n",
              "..              ...           ...         ...  \n",
              "609             1.0         Rural           Y  \n",
              "610             1.0         Rural           Y  \n",
              "611             1.0         Urban           Y  \n",
              "612             1.0         Urban           Y  \n",
              "613             0.0     Semiurban           N  \n",
              "\n",
              "[614 rows x 13 columns]"
            ]
          },
          "execution_count": 525,
          "metadata": {},
          "output_type": "execute_result"
        }
      ],
      "source": [
        "df"
      ]
    },
    {
      "cell_type": "code",
      "execution_count": null,
      "id": "2843be43",
      "metadata": {
        "id": "2843be43",
        "outputId": "717b5b34-520f-438e-f2cc-2eb3d321492c"
      },
      "outputs": [
        {
          "data": {
            "text/html": [
              "<div>\n",
              "<style scoped>\n",
              "    .dataframe tbody tr th:only-of-type {\n",
              "        vertical-align: middle;\n",
              "    }\n",
              "\n",
              "    .dataframe tbody tr th {\n",
              "        vertical-align: top;\n",
              "    }\n",
              "\n",
              "    .dataframe thead th {\n",
              "        text-align: right;\n",
              "    }\n",
              "</style>\n",
              "<table border=\"1\" class=\"dataframe\">\n",
              "  <thead>\n",
              "    <tr style=\"text-align: right;\">\n",
              "      <th></th>\n",
              "      <th>Loan_ID</th>\n",
              "      <th>Gender</th>\n",
              "      <th>Married</th>\n",
              "      <th>Dependents</th>\n",
              "      <th>Education</th>\n",
              "      <th>Self_Employed</th>\n",
              "      <th>ApplicantIncome</th>\n",
              "      <th>CoapplicantIncome</th>\n",
              "      <th>LoanAmount</th>\n",
              "      <th>Loan_Amount_Term</th>\n",
              "      <th>Credit_History</th>\n",
              "      <th>Property_Area</th>\n",
              "      <th>Loan_Status</th>\n",
              "    </tr>\n",
              "  </thead>\n",
              "  <tbody>\n",
              "    <tr>\n",
              "      <th>0</th>\n",
              "      <td>LP001002</td>\n",
              "      <td>Male</td>\n",
              "      <td>No</td>\n",
              "      <td>0</td>\n",
              "      <td>Graduate</td>\n",
              "      <td>No</td>\n",
              "      <td>5849</td>\n",
              "      <td>0.0</td>\n",
              "      <td>NaN</td>\n",
              "      <td>360.0</td>\n",
              "      <td>1.0</td>\n",
              "      <td>Urban</td>\n",
              "      <td>Y</td>\n",
              "    </tr>\n",
              "    <tr>\n",
              "      <th>1</th>\n",
              "      <td>LP001003</td>\n",
              "      <td>Male</td>\n",
              "      <td>Yes</td>\n",
              "      <td>1</td>\n",
              "      <td>Graduate</td>\n",
              "      <td>No</td>\n",
              "      <td>4583</td>\n",
              "      <td>1508.0</td>\n",
              "      <td>128.0</td>\n",
              "      <td>360.0</td>\n",
              "      <td>1.0</td>\n",
              "      <td>Rural</td>\n",
              "      <td>N</td>\n",
              "    </tr>\n",
              "    <tr>\n",
              "      <th>2</th>\n",
              "      <td>LP001005</td>\n",
              "      <td>Male</td>\n",
              "      <td>Yes</td>\n",
              "      <td>0</td>\n",
              "      <td>Graduate</td>\n",
              "      <td>Yes</td>\n",
              "      <td>3000</td>\n",
              "      <td>0.0</td>\n",
              "      <td>66.0</td>\n",
              "      <td>360.0</td>\n",
              "      <td>1.0</td>\n",
              "      <td>Urban</td>\n",
              "      <td>Y</td>\n",
              "    </tr>\n",
              "    <tr>\n",
              "      <th>3</th>\n",
              "      <td>LP001006</td>\n",
              "      <td>Male</td>\n",
              "      <td>Yes</td>\n",
              "      <td>0</td>\n",
              "      <td>Not Graduate</td>\n",
              "      <td>No</td>\n",
              "      <td>2583</td>\n",
              "      <td>2358.0</td>\n",
              "      <td>120.0</td>\n",
              "      <td>360.0</td>\n",
              "      <td>1.0</td>\n",
              "      <td>Urban</td>\n",
              "      <td>Y</td>\n",
              "    </tr>\n",
              "    <tr>\n",
              "      <th>4</th>\n",
              "      <td>LP001008</td>\n",
              "      <td>Male</td>\n",
              "      <td>No</td>\n",
              "      <td>0</td>\n",
              "      <td>Graduate</td>\n",
              "      <td>No</td>\n",
              "      <td>6000</td>\n",
              "      <td>0.0</td>\n",
              "      <td>141.0</td>\n",
              "      <td>360.0</td>\n",
              "      <td>1.0</td>\n",
              "      <td>Urban</td>\n",
              "      <td>Y</td>\n",
              "    </tr>\n",
              "  </tbody>\n",
              "</table>\n",
              "</div>"
            ],
            "text/plain": [
              "    Loan_ID Gender Married Dependents     Education Self_Employed  \\\n",
              "0  LP001002   Male      No          0      Graduate            No   \n",
              "1  LP001003   Male     Yes          1      Graduate            No   \n",
              "2  LP001005   Male     Yes          0      Graduate           Yes   \n",
              "3  LP001006   Male     Yes          0  Not Graduate            No   \n",
              "4  LP001008   Male      No          0      Graduate            No   \n",
              "\n",
              "   ApplicantIncome  CoapplicantIncome  LoanAmount  Loan_Amount_Term  \\\n",
              "0             5849                0.0         NaN             360.0   \n",
              "1             4583             1508.0       128.0             360.0   \n",
              "2             3000                0.0        66.0             360.0   \n",
              "3             2583             2358.0       120.0             360.0   \n",
              "4             6000                0.0       141.0             360.0   \n",
              "\n",
              "   Credit_History Property_Area Loan_Status  \n",
              "0             1.0         Urban           Y  \n",
              "1             1.0         Rural           N  \n",
              "2             1.0         Urban           Y  \n",
              "3             1.0         Urban           Y  \n",
              "4             1.0         Urban           Y  "
            ]
          },
          "execution_count": 526,
          "metadata": {},
          "output_type": "execute_result"
        }
      ],
      "source": [
        "df.head()"
      ]
    },
    {
      "cell_type": "code",
      "execution_count": null,
      "id": "42849691",
      "metadata": {
        "id": "42849691",
        "outputId": "baac95c1-c28a-4ff6-8540-c7afe8fd745d"
      },
      "outputs": [
        {
          "data": {
            "text/html": [
              "<div>\n",
              "<style scoped>\n",
              "    .dataframe tbody tr th:only-of-type {\n",
              "        vertical-align: middle;\n",
              "    }\n",
              "\n",
              "    .dataframe tbody tr th {\n",
              "        vertical-align: top;\n",
              "    }\n",
              "\n",
              "    .dataframe thead th {\n",
              "        text-align: right;\n",
              "    }\n",
              "</style>\n",
              "<table border=\"1\" class=\"dataframe\">\n",
              "  <thead>\n",
              "    <tr style=\"text-align: right;\">\n",
              "      <th></th>\n",
              "      <th>Loan_ID</th>\n",
              "      <th>Gender</th>\n",
              "      <th>Married</th>\n",
              "      <th>Dependents</th>\n",
              "      <th>Education</th>\n",
              "      <th>Self_Employed</th>\n",
              "      <th>ApplicantIncome</th>\n",
              "      <th>CoapplicantIncome</th>\n",
              "      <th>LoanAmount</th>\n",
              "      <th>Loan_Amount_Term</th>\n",
              "      <th>Credit_History</th>\n",
              "      <th>Property_Area</th>\n",
              "      <th>Loan_Status</th>\n",
              "    </tr>\n",
              "  </thead>\n",
              "  <tbody>\n",
              "    <tr>\n",
              "      <th>609</th>\n",
              "      <td>LP002978</td>\n",
              "      <td>Female</td>\n",
              "      <td>No</td>\n",
              "      <td>0</td>\n",
              "      <td>Graduate</td>\n",
              "      <td>No</td>\n",
              "      <td>2900</td>\n",
              "      <td>0.0</td>\n",
              "      <td>71.0</td>\n",
              "      <td>360.0</td>\n",
              "      <td>1.0</td>\n",
              "      <td>Rural</td>\n",
              "      <td>Y</td>\n",
              "    </tr>\n",
              "    <tr>\n",
              "      <th>610</th>\n",
              "      <td>LP002979</td>\n",
              "      <td>Male</td>\n",
              "      <td>Yes</td>\n",
              "      <td>3+</td>\n",
              "      <td>Graduate</td>\n",
              "      <td>No</td>\n",
              "      <td>4106</td>\n",
              "      <td>0.0</td>\n",
              "      <td>40.0</td>\n",
              "      <td>180.0</td>\n",
              "      <td>1.0</td>\n",
              "      <td>Rural</td>\n",
              "      <td>Y</td>\n",
              "    </tr>\n",
              "    <tr>\n",
              "      <th>611</th>\n",
              "      <td>LP002983</td>\n",
              "      <td>Male</td>\n",
              "      <td>Yes</td>\n",
              "      <td>1</td>\n",
              "      <td>Graduate</td>\n",
              "      <td>No</td>\n",
              "      <td>8072</td>\n",
              "      <td>240.0</td>\n",
              "      <td>253.0</td>\n",
              "      <td>360.0</td>\n",
              "      <td>1.0</td>\n",
              "      <td>Urban</td>\n",
              "      <td>Y</td>\n",
              "    </tr>\n",
              "    <tr>\n",
              "      <th>612</th>\n",
              "      <td>LP002984</td>\n",
              "      <td>Male</td>\n",
              "      <td>Yes</td>\n",
              "      <td>2</td>\n",
              "      <td>Graduate</td>\n",
              "      <td>No</td>\n",
              "      <td>7583</td>\n",
              "      <td>0.0</td>\n",
              "      <td>187.0</td>\n",
              "      <td>360.0</td>\n",
              "      <td>1.0</td>\n",
              "      <td>Urban</td>\n",
              "      <td>Y</td>\n",
              "    </tr>\n",
              "    <tr>\n",
              "      <th>613</th>\n",
              "      <td>LP002990</td>\n",
              "      <td>Female</td>\n",
              "      <td>No</td>\n",
              "      <td>0</td>\n",
              "      <td>Graduate</td>\n",
              "      <td>Yes</td>\n",
              "      <td>4583</td>\n",
              "      <td>0.0</td>\n",
              "      <td>133.0</td>\n",
              "      <td>360.0</td>\n",
              "      <td>0.0</td>\n",
              "      <td>Semiurban</td>\n",
              "      <td>N</td>\n",
              "    </tr>\n",
              "  </tbody>\n",
              "</table>\n",
              "</div>"
            ],
            "text/plain": [
              "      Loan_ID  Gender Married Dependents Education Self_Employed  \\\n",
              "609  LP002978  Female      No          0  Graduate            No   \n",
              "610  LP002979    Male     Yes         3+  Graduate            No   \n",
              "611  LP002983    Male     Yes          1  Graduate            No   \n",
              "612  LP002984    Male     Yes          2  Graduate            No   \n",
              "613  LP002990  Female      No          0  Graduate           Yes   \n",
              "\n",
              "     ApplicantIncome  CoapplicantIncome  LoanAmount  Loan_Amount_Term  \\\n",
              "609             2900                0.0        71.0             360.0   \n",
              "610             4106                0.0        40.0             180.0   \n",
              "611             8072              240.0       253.0             360.0   \n",
              "612             7583                0.0       187.0             360.0   \n",
              "613             4583                0.0       133.0             360.0   \n",
              "\n",
              "     Credit_History Property_Area Loan_Status  \n",
              "609             1.0         Rural           Y  \n",
              "610             1.0         Rural           Y  \n",
              "611             1.0         Urban           Y  \n",
              "612             1.0         Urban           Y  \n",
              "613             0.0     Semiurban           N  "
            ]
          },
          "execution_count": 527,
          "metadata": {},
          "output_type": "execute_result"
        }
      ],
      "source": [
        "df.tail()"
      ]
    },
    {
      "cell_type": "code",
      "execution_count": null,
      "id": "ade2db0a",
      "metadata": {
        "id": "ade2db0a",
        "outputId": "d8d86c83-7550-42a5-a2ec-5816bbbf21e1"
      },
      "outputs": [
        {
          "name": "stdout",
          "output_type": "stream",
          "text": [
            "Dataset have 614 rows and 13 columns\n"
          ]
        }
      ],
      "source": [
        "print('Dataset have',df.shape[0],'rows and',df.shape[1],'columns')"
      ]
    },
    {
      "cell_type": "code",
      "execution_count": null,
      "id": "deaf6d4d",
      "metadata": {
        "scrolled": true,
        "id": "deaf6d4d",
        "outputId": "897d3f9c-bf32-4f3c-a68a-ca61255604ff"
      },
      "outputs": [
        {
          "name": "stdout",
          "output_type": "stream",
          "text": [
            "<class 'pandas.core.frame.DataFrame'>\n",
            "RangeIndex: 614 entries, 0 to 613\n",
            "Data columns (total 13 columns):\n",
            " #   Column             Non-Null Count  Dtype  \n",
            "---  ------             --------------  -----  \n",
            " 0   Loan_ID            614 non-null    object \n",
            " 1   Gender             601 non-null    object \n",
            " 2   Married            611 non-null    object \n",
            " 3   Dependents         599 non-null    object \n",
            " 4   Education          614 non-null    object \n",
            " 5   Self_Employed      582 non-null    object \n",
            " 6   ApplicantIncome    614 non-null    int64  \n",
            " 7   CoapplicantIncome  614 non-null    float64\n",
            " 8   LoanAmount         592 non-null    float64\n",
            " 9   Loan_Amount_Term   600 non-null    float64\n",
            " 10  Credit_History     564 non-null    float64\n",
            " 11  Property_Area      614 non-null    object \n",
            " 12  Loan_Status        614 non-null    object \n",
            "dtypes: float64(4), int64(1), object(8)\n",
            "memory usage: 62.5+ KB\n"
          ]
        }
      ],
      "source": [
        "df.info()"
      ]
    },
    {
      "cell_type": "markdown",
      "id": "799ecf3c",
      "metadata": {
        "id": "799ecf3c"
      },
      "source": [
        "This is a Classification Problem since the Target variable / Label column (\"Loan_Status\") has Catergorical type of Data."
      ]
    },
    {
      "cell_type": "code",
      "execution_count": null,
      "id": "bf71503a",
      "metadata": {
        "scrolled": true,
        "id": "bf71503a",
        "outputId": "6754e9cd-9389-4a29-8538-6358b7d53a57"
      },
      "outputs": [
        {
          "data": {
            "text/plain": [
              "Index(['Loan_ID', 'Gender', 'Married', 'Dependents', 'Education',\n",
              "       'Self_Employed', 'ApplicantIncome', 'CoapplicantIncome', 'LoanAmount',\n",
              "       'Loan_Amount_Term', 'Credit_History', 'Property_Area', 'Loan_Status'],\n",
              "      dtype='object')"
            ]
          },
          "execution_count": 530,
          "metadata": {},
          "output_type": "execute_result"
        }
      ],
      "source": [
        "df.columns"
      ]
    },
    {
      "cell_type": "markdown",
      "id": "da2f80d9",
      "metadata": {
        "id": "da2f80d9"
      },
      "source": [
        "# Checking Data Types"
      ]
    },
    {
      "cell_type": "code",
      "execution_count": null,
      "id": "b9bc4ece",
      "metadata": {
        "scrolled": true,
        "id": "b9bc4ece",
        "outputId": "b2af8982-d71b-48a0-c4d2-f557f64eb815"
      },
      "outputs": [
        {
          "data": {
            "text/plain": [
              "Loan_ID               object\n",
              "Gender                object\n",
              "Married               object\n",
              "Dependents            object\n",
              "Education             object\n",
              "Self_Employed         object\n",
              "ApplicantIncome        int64\n",
              "CoapplicantIncome    float64\n",
              "LoanAmount           float64\n",
              "Loan_Amount_Term     float64\n",
              "Credit_History       float64\n",
              "Property_Area         object\n",
              "Loan_Status           object\n",
              "dtype: object"
            ]
          },
          "execution_count": 531,
          "metadata": {},
          "output_type": "execute_result"
        }
      ],
      "source": [
        "df.dtypes"
      ]
    },
    {
      "cell_type": "markdown",
      "id": "423878fd",
      "metadata": {
        "id": "423878fd"
      },
      "source": [
        "# Checking Null/Missing values"
      ]
    },
    {
      "cell_type": "code",
      "execution_count": null,
      "id": "e2309627",
      "metadata": {
        "scrolled": true,
        "id": "e2309627",
        "outputId": "ac7a5729-144c-4bbc-c12a-53f6cb95e53c"
      },
      "outputs": [
        {
          "data": {
            "text/plain": [
              "Loan_ID               0\n",
              "Gender               13\n",
              "Married               3\n",
              "Dependents           15\n",
              "Education             0\n",
              "Self_Employed        32\n",
              "ApplicantIncome       0\n",
              "CoapplicantIncome     0\n",
              "LoanAmount           22\n",
              "Loan_Amount_Term     14\n",
              "Credit_History       50\n",
              "Property_Area         0\n",
              "Loan_Status           0\n",
              "dtype: int64"
            ]
          },
          "execution_count": 532,
          "metadata": {},
          "output_type": "execute_result"
        }
      ],
      "source": [
        "df.isnull().sum()"
      ]
    },
    {
      "cell_type": "markdown",
      "id": "e24b21b0",
      "metadata": {
        "id": "e24b21b0"
      },
      "source": [
        "Gender,Married,Dependents,Self_Employed,LoanAmount,Loan_Amount_Term,Credit_History columns have null values."
      ]
    },
    {
      "cell_type": "code",
      "execution_count": null,
      "id": "097487cf",
      "metadata": {
        "id": "097487cf",
        "outputId": "2660ef91-b0d6-408c-e643-e46a10734a86"
      },
      "outputs": [
        {
          "data": {
            "text/plain": [
              "149"
            ]
          },
          "execution_count": 533,
          "metadata": {},
          "output_type": "execute_result"
        }
      ],
      "source": [
        "df.isnull().sum().sum()"
      ]
    },
    {
      "cell_type": "code",
      "execution_count": null,
      "id": "6b9a1ef4",
      "metadata": {
        "scrolled": true,
        "id": "6b9a1ef4",
        "outputId": "51446c48-58a0-440e-e86e-b1e26ba7a5d6"
      },
      "outputs": [
        {
          "data": {
            "text/plain": [
              "<AxesSubplot:>"
            ]
          },
          "execution_count": 534,
          "metadata": {},
          "output_type": "execute_result"
        },
        {
          "data": {
            "image/png": "[encoded data removed]",
            "text/plain": [
              "<Figure size 432x288 with 2 Axes>"
            ]
          },
          "metadata": {
            "needs_background": "light"
          },
          "output_type": "display_data"
        }
      ],
      "source": [
        "sns.heatmap(df.isnull())"
      ]
    },
    {
      "cell_type": "markdown",
      "id": "0e56d0ec",
      "metadata": {
        "id": "0e56d0ec"
      },
      "source": [
        "# Filling Categorical Columns missing values with mode"
      ]
    },
    {
      "cell_type": "code",
      "execution_count": null,
      "id": "6d76e156",
      "metadata": {
        "id": "6d76e156"
      },
      "outputs": [],
      "source": [
        "df['Gender'].fillna(df['Gender'].mode()[0],inplace=True)\n",
        "df['Married'].fillna(df['Married'].mode()[0],inplace=True)\n",
        "df['Dependents'].fillna(df['Dependents'].mode()[0],inplace=True)\n",
        "df['Self_Employed'].fillna(df['Self_Employed'].mode()[0],inplace=True)"
      ]
    },
    {
      "cell_type": "markdown",
      "id": "31691f7e",
      "metadata": {
        "id": "31691f7e"
      },
      "source": [
        "# Filling Continuous Columns missing values with mean"
      ]
    },
    {
      "cell_type": "code",
      "execution_count": null,
      "id": "ad81ee57",
      "metadata": {
        "id": "ad81ee57"
      },
      "outputs": [],
      "source": [
        "df['LoanAmount'] = df['LoanAmount'].fillna(df['LoanAmount'].mean())\n",
        "df['Loan_Amount_Term'] = df['Loan_Amount_Term'].fillna(df['Loan_Amount_Term'].mean())\n",
        "df['Credit_History'] = df['Credit_History'].fillna(df['Credit_History'].mean())"
      ]
    },
    {
      "cell_type": "code",
      "execution_count": null,
      "id": "36f2429a",
      "metadata": {
        "scrolled": true,
        "id": "36f2429a",
        "outputId": "aaa4c318-e202-48c8-8b82-6fa615b4d4a0"
      },
      "outputs": [
        {
          "data": {
            "text/plain": [
              "Loan_ID              0\n",
              "Gender               0\n",
              "Married              0\n",
              "Dependents           0\n",
              "Education            0\n",
              "Self_Employed        0\n",
              "ApplicantIncome      0\n",
              "CoapplicantIncome    0\n",
              "LoanAmount           0\n",
              "Loan_Amount_Term     0\n",
              "Credit_History       0\n",
              "Property_Area        0\n",
              "Loan_Status          0\n",
              "dtype: int64"
            ]
          },
          "execution_count": 537,
          "metadata": {},
          "output_type": "execute_result"
        }
      ],
      "source": [
        "df.isnull().sum()"
      ]
    },
    {
      "cell_type": "markdown",
      "id": "e1f601ee",
      "metadata": {
        "id": "e1f601ee"
      },
      "source": [
        "# Statistical Summary"
      ]
    },
    {
      "cell_type": "code",
      "execution_count": null,
      "id": "7247452d",
      "metadata": {
        "scrolled": true,
        "id": "7247452d",
        "outputId": "6d7c6d3e-8df2-4d57-fcd1-9fec3ef67ee4"
      },
      "outputs": [
        {
          "data": {
            "text/html": [
              "<div>\n",
              "<style scoped>\n",
              "    .dataframe tbody tr th:only-of-type {\n",
              "        vertical-align: middle;\n",
              "    }\n",
              "\n",
              "    .dataframe tbody tr th {\n",
              "        vertical-align: top;\n",
              "    }\n",
              "\n",
              "    .dataframe thead th {\n",
              "        text-align: right;\n",
              "    }\n",
              "</style>\n",
              "<table border=\"1\" class=\"dataframe\">\n",
              "  <thead>\n",
              "    <tr style=\"text-align: right;\">\n",
              "      <th></th>\n",
              "      <th>count</th>\n",
              "      <th>mean</th>\n",
              "      <th>std</th>\n",
              "      <th>min</th>\n",
              "      <th>25%</th>\n",
              "      <th>50%</th>\n",
              "      <th>75%</th>\n",
              "      <th>max</th>\n",
              "    </tr>\n",
              "  </thead>\n",
              "  <tbody>\n",
              "    <tr>\n",
              "      <th>ApplicantIncome</th>\n",
              "      <td>614.0</td>\n",
              "      <td>5403.459283</td>\n",
              "      <td>6109.041673</td>\n",
              "      <td>150.0</td>\n",
              "      <td>2877.50</td>\n",
              "      <td>3812.5</td>\n",
              "      <td>5795.00</td>\n",
              "      <td>81000.0</td>\n",
              "    </tr>\n",
              "    <tr>\n",
              "      <th>CoapplicantIncome</th>\n",
              "      <td>614.0</td>\n",
              "      <td>1621.245798</td>\n",
              "      <td>2926.248369</td>\n",
              "      <td>0.0</td>\n",
              "      <td>0.00</td>\n",
              "      <td>1188.5</td>\n",
              "      <td>2297.25</td>\n",
              "      <td>41667.0</td>\n",
              "    </tr>\n",
              "    <tr>\n",
              "      <th>LoanAmount</th>\n",
              "      <td>614.0</td>\n",
              "      <td>146.412162</td>\n",
              "      <td>84.037468</td>\n",
              "      <td>9.0</td>\n",
              "      <td>100.25</td>\n",
              "      <td>129.0</td>\n",
              "      <td>164.75</td>\n",
              "      <td>700.0</td>\n",
              "    </tr>\n",
              "    <tr>\n",
              "      <th>Loan_Amount_Term</th>\n",
              "      <td>614.0</td>\n",
              "      <td>342.000000</td>\n",
              "      <td>64.372489</td>\n",
              "      <td>12.0</td>\n",
              "      <td>360.00</td>\n",
              "      <td>360.0</td>\n",
              "      <td>360.00</td>\n",
              "      <td>480.0</td>\n",
              "    </tr>\n",
              "    <tr>\n",
              "      <th>Credit_History</th>\n",
              "      <td>614.0</td>\n",
              "      <td>0.842199</td>\n",
              "      <td>0.349681</td>\n",
              "      <td>0.0</td>\n",
              "      <td>1.00</td>\n",
              "      <td>1.0</td>\n",
              "      <td>1.00</td>\n",
              "      <td>1.0</td>\n",
              "    </tr>\n",
              "  </tbody>\n",
              "</table>\n",
              "</div>"
            ],
            "text/plain": [
              "                   count         mean          std    min      25%     50%  \\\n",
              "ApplicantIncome    614.0  5403.459283  6109.041673  150.0  2877.50  3812.5   \n",
              "CoapplicantIncome  614.0  1621.245798  2926.248369    0.0     0.00  1188.5   \n",
              "LoanAmount         614.0   146.412162    84.037468    9.0   100.25   129.0   \n",
              "Loan_Amount_Term   614.0   342.000000    64.372489   12.0   360.00   360.0   \n",
              "Credit_History     614.0     0.842199     0.349681    0.0     1.00     1.0   \n",
              "\n",
              "                       75%      max  \n",
              "ApplicantIncome    5795.00  81000.0  \n",
              "CoapplicantIncome  2297.25  41667.0  \n",
              "LoanAmount          164.75    700.0  \n",
              "Loan_Amount_Term    360.00    480.0  \n",
              "Credit_History        1.00      1.0  "
            ]
          },
          "execution_count": 538,
          "metadata": {},
          "output_type": "execute_result"
        }
      ],
      "source": [
        "df.describe().T"
      ]
    },
    {
      "cell_type": "markdown",
      "id": "f7f1ab27",
      "metadata": {
        "id": "f7f1ab27"
      },
      "source": [
        "A higher std deviation than mean in ApplicantIncome and CoapplicantIncome columns indicates skewness.\n",
        "\n",
        "There is a huge difference between 75% and max in ApplicantIncome,CoapplicantIncome and LoanAmount, indicating presence of outliers."
      ]
    },
    {
      "cell_type": "markdown",
      "id": "b34ab644",
      "metadata": {
        "id": "b34ab644"
      },
      "source": [
        "# Checking for Unique values"
      ]
    },
    {
      "cell_type": "code",
      "execution_count": null,
      "id": "8e78338a",
      "metadata": {
        "scrolled": true,
        "id": "8e78338a",
        "outputId": "f88bff3c-67b5-4e14-e902-d41f036eff69"
      },
      "outputs": [
        {
          "data": {
            "text/plain": [
              "Loan_ID              614\n",
              "Gender                 2\n",
              "Married                2\n",
              "Dependents             4\n",
              "Education              2\n",
              "Self_Employed          2\n",
              "ApplicantIncome      505\n",
              "CoapplicantIncome    287\n",
              "LoanAmount           204\n",
              "Loan_Amount_Term      11\n",
              "Credit_History         3\n",
              "Property_Area          3\n",
              "Loan_Status            2\n",
              "dtype: int64"
            ]
          },
          "execution_count": 539,
          "metadata": {},
          "output_type": "execute_result"
        }
      ],
      "source": [
        "df.nunique()"
      ]
    },
    {
      "cell_type": "markdown",
      "id": "008d1a17",
      "metadata": {
        "id": "008d1a17"
      },
      "source": [
        "Gender,Married,Education,Self_Employed,Loan_Status each have 2 unique elements.\n",
        "\n",
        "Dependents has 4 unique elements.\n",
        "\n",
        "Credit_History,Property Area has 3 unique elements."
      ]
    },
    {
      "cell_type": "code",
      "execution_count": null,
      "id": "6dd5a76e",
      "metadata": {
        "id": "6dd5a76e",
        "outputId": "58304e1c-9b5e-4d31-8248-3667ba67032f"
      },
      "outputs": [
        {
          "name": "stdout",
          "output_type": "stream",
          "text": [
            "Gender have unique values = ['Male' 'Female'] \n",
            "\n",
            "Married have unique values = ['No' 'Yes'] \n",
            "\n",
            "Dependents have unique values = ['0' '1' '2' '3+'] \n",
            "\n",
            "Education have unique values = ['Graduate' 'Not Graduate'] \n",
            "\n",
            "Self_Employed have unique values = ['No' 'Yes'] \n",
            "\n",
            "ApplicantIncome have unique values = [ 5849  4583  3000  2583  6000  5417  2333  3036  4006 12841  3200  2500\n",
            "  3073  1853  1299  4950  3596  3510  4887  2600  7660  5955  3365  3717\n",
            "  9560  2799  4226  1442  3750  4166  3167  4692  3500 12500  2275  1828\n",
            "  3667  3748  3600  1800  2400  3941  4695  3410  5649  5821  2645  4000\n",
            "  1928  3086  4230  4616 11500  2708  2132  3366  8080  3357  3029  2609\n",
            "  4945  5726 10750  7100  4300  3208  1875  4755  5266  1000  3333  3846\n",
            "  2395  1378  3988  2366  8566  5695  2958  6250  3273  4133  3620  6782\n",
            "  2484  1977  4188  1759  4288  4843 13650  4652  3816  3052 11417  7333\n",
            "  3800  2071  5316  2929  3572  7451  5050 14583  2214  5568 10408  5667\n",
            "  2137  2957  3692 23803  3865 10513  6080 20166  2014  2718  3459  4895\n",
            "  3316 14999  4200  5042  6950  2698 11757  2330 14866  1538 10000  4860\n",
            "  6277  2577  9166  2281  3254 39999  9538  2980  1863  7933  3089  4167\n",
            "  9323  3707  2439  2237  8000  1820 51763  3522  5708  4344  3497  2045\n",
            "  5516  6400  1916  4600 33846  3625 39147  2178  2383   674  9328  4885\n",
            " 12000  6033  3858  4191  3125  8333  1907  3416 11000  4923  3992  3917\n",
            "  4408  3244  3975  2479  3418  3430  7787  5703  3173  3850   150  3727\n",
            "  5000  4283  2221  4009  2971  7578  3250  4735  4758  2491  3716  3189\n",
            "  3155  5500  5746  3463  3812  3315  5819  2510  2965  3406  6050  9703\n",
            "  6608  2882  1809  1668  3427  2661 16250  3083  6045  5250 14683  4931\n",
            "  6083  2060  3481  7200  5166  4095  4708  4333  2876  3237 11146  2833\n",
            "  2620  3900  2750  3993  3103  4100  4053  3927  2301  1811 20667  3158\n",
            "  3704  4124  9508  3075  4400  3153  4416  6875  4666  2875  1625  2000\n",
            "  3762 20233  7667  2917  2927  2507  2473  3399  2058  3541  4342  3601\n",
            "  3166 15000  8666  4917  5818  4384  2935 63337  9833  5503  1830  4160\n",
            "  2647  2378  4554  2499  3523  6333  2625  9083  8750  2666  2423  3813\n",
            "  3875  5167  4723  4750  3013  6822  6216  5124  6325 19730 15759  5185\n",
            "  3062  2764  4817  4310  3069  5391  5941  7167  4566  2346  3010  5488\n",
            "  9167  9504  1993  3100  3276  3180  3033  3902  1500  2889  2755  1963\n",
            "  7441  4547  2167  2213  8300 81000  3867  6256  6096  2253  2149  2995\n",
            "  1600  1025  3246  5829  2720  7250 14880  4606  5935  2920  2717  8624\n",
            "  6500 12876  2425 10047  1926 10416  7142  3660  7901  4707 37719  3466\n",
            "  3539  3340  2769  2309  1958  3948  2483  7085  3859  4301  3708  4354\n",
            "  8334  2083  7740  3015  5191  2947 16692   210  3450  2653  4691  5532\n",
            " 16525  6700  2873 16667  4350  3095 10833  3547 18333  2435  2699  5333\n",
            "  3691 17263  3597  3326  4625  2895  6283   645  3159  4865  4050  3814\n",
            " 20833  3583 13262  3598  6065  3283  2130  5815  2031  3074  4683  3400\n",
            "  2192  5677  7948  4680 17500  3775  5285  2679  6783  4281  3588 11250\n",
            " 18165  2550  6133  3617  6417  4608  2138  3652  2239  3017  2768  3358\n",
            "  2526  2785  6633  2492  2454  3593  5468  2667 10139  3887  4180  3675\n",
            " 19484  5923  5800  8799  4467  3417  5116 16666  6125  6406  3087  3229\n",
            "  1782  3182  6540  1836  1880  2787  2297  2165  2726  9357 16120  3833\n",
            "  6383  2987  9963  5780   416  2894  3676  3987  3232  2900  4106  8072\n",
            "  7583] \n",
            "\n",
            "CoapplicantIncome have unique values = [0.00000000e+00 1.50800000e+03 2.35800000e+03 4.19600000e+03\n",
            " 1.51600000e+03 2.50400000e+03 1.52600000e+03 1.09680000e+04\n",
            " 7.00000000e+02 1.84000000e+03 8.10600000e+03 2.84000000e+03\n",
            " 1.08600000e+03 3.50000000e+03 5.62500000e+03 1.91100000e+03\n",
            " 1.91700000e+03 2.92500000e+03 2.25300000e+03 1.04000000e+03\n",
            " 2.08300000e+03 3.36900000e+03 1.66700000e+03 3.00000000e+03\n",
            " 2.06700000e+03 1.33000000e+03 1.45900000e+03 7.21000000e+03\n",
            " 1.66800000e+03 1.21300000e+03 2.33600000e+03 3.44000000e+03\n",
            " 2.27500000e+03 1.64400000e+03 1.16700000e+03 1.59100000e+03\n",
            " 2.20000000e+03 2.25000000e+03 2.85900000e+03 3.79600000e+03\n",
            " 3.44900000e+03 4.59500000e+03 2.25400000e+03 3.06600000e+03\n",
            " 1.87500000e+03 1.77400000e+03 4.75000000e+03 3.02200000e+03\n",
            " 4.00000000e+03 2.16600000e+03 1.88100000e+03 2.53100000e+03\n",
            " 2.00000000e+03 2.11800000e+03 4.16700000e+03 2.90000000e+03\n",
            " 5.65400000e+03 1.82000000e+03 2.30200000e+03 9.97000000e+02\n",
            " 3.54100000e+03 3.26300000e+03 3.80600000e+03 3.58300000e+03\n",
            " 7.54000000e+02 1.03000000e+03 1.12600000e+03 3.60000000e+03\n",
            " 2.33300000e+03 4.11400000e+03 2.28300000e+03 1.39800000e+03\n",
            " 2.14200000e+03 2.66700000e+03 8.98000000e+03 2.01400000e+03\n",
            " 1.64000000e+03 3.85000000e+03 2.56900000e+03 1.92900000e+03\n",
            " 7.75000000e+03 1.43000000e+03 2.03400000e+03 4.48600000e+03\n",
            " 1.42500000e+03 1.66600000e+03 8.30000000e+02 3.75000000e+03\n",
            " 1.04100000e+03 1.28000000e+03 1.44700000e+03 3.16600000e+03\n",
            " 3.33300000e+03 1.76900000e+03 7.36000000e+02 1.96400000e+03\n",
            " 1.61900000e+03 1.13000000e+04 1.45100000e+03 7.25000000e+03\n",
            " 5.06300000e+03 2.13800000e+03 5.29600000e+03 2.58300000e+03\n",
            " 2.36500000e+03 2.81600000e+03 2.50000000e+03 1.08300000e+03\n",
            " 1.25000000e+03 3.02100000e+03 9.83000000e+02 1.80000000e+03\n",
            " 1.77500000e+03 2.38300000e+03 1.71700000e+03 2.79100000e+03\n",
            " 1.01000000e+03 1.69500000e+03 2.05400000e+03 2.59800000e+03\n",
            " 1.77900000e+03 1.26000000e+03 5.00000000e+03 1.98300000e+03\n",
            " 5.70100000e+03 1.30000000e+03 4.41700000e+03 4.33300000e+03\n",
            " 1.84300000e+03 1.86800000e+03 3.89000000e+03 2.16700000e+03\n",
            " 7.10100000e+03 2.10000000e+03 4.25000000e+03 2.20900000e+03\n",
            " 3.44700000e+03 1.38700000e+03 1.81100000e+03 1.56000000e+03\n",
            " 1.85700000e+03 2.22300000e+03 1.84200000e+03 3.27400000e+03\n",
            " 2.42600000e+03 8.00000000e+02 9.85799988e+02 3.05300000e+03\n",
            " 2.41600000e+03 3.33400000e+03 2.54100000e+03 2.93400000e+03\n",
            " 1.75000000e+03 1.80300000e+03 1.86300000e+03 2.40500000e+03\n",
            " 2.13400000e+03 1.89000000e+02 1.59000000e+03 2.98500000e+03\n",
            " 4.98300000e+03 2.16000000e+03 2.45100000e+03 1.79300000e+03\n",
            " 1.83300000e+03 4.49000000e+03 6.88000000e+02 4.60000000e+03\n",
            " 1.58700000e+03 1.22900000e+03 2.33000000e+03 2.45800000e+03\n",
            " 3.23000000e+03 2.16800000e+03 4.58300000e+03 6.25000000e+03\n",
            " 5.05000000e+02 3.16700000e+03 3.66700000e+03 3.03300000e+03\n",
            " 5.26600000e+03 7.87300000e+03 1.98700000e+03 9.23000000e+02\n",
            " 4.99600000e+03 4.23200000e+03 1.60000000e+03 3.13600000e+03\n",
            " 2.41700000e+03 2.11500000e+03 1.62500000e+03 1.40000000e+03\n",
            " 4.84000000e+02 2.00000000e+04 2.40000000e+03 2.03300000e+03\n",
            " 3.23700000e+03 2.77300000e+03 1.41700000e+03 1.71900000e+03\n",
            " 4.30000000e+03 1.61200008e+01 2.34000000e+03 1.85100000e+03\n",
            " 1.12500000e+03 5.06400000e+03 1.99300000e+03 8.33300000e+03\n",
            " 1.21000000e+03 1.37600000e+03 1.71000000e+03 1.54200000e+03\n",
            " 1.25500000e+03 1.45600000e+03 1.73300000e+03 2.46600000e+03\n",
            " 4.08300000e+03 2.18800000e+03 1.66400000e+03 2.91700000e+03\n",
            " 2.07900000e+03 1.50000000e+03 4.64800000e+03 1.01400000e+03\n",
            " 1.87200000e+03 1.60300000e+03 3.15000000e+03 2.43600000e+03\n",
            " 2.78500000e+03 1.13100000e+03 2.15700000e+03 9.13000000e+02\n",
            " 1.70000000e+03 2.85700000e+03 4.41600000e+03 3.68300000e+03\n",
            " 5.62400000e+03 5.30200000e+03 1.48300000e+03 6.66700000e+03\n",
            " 3.01300000e+03 1.28700000e+03 2.00400000e+03 2.03500000e+03\n",
            " 6.66600000e+03 3.66600000e+03 3.42800000e+03 1.63200000e+03\n",
            " 1.91500000e+03 1.74200000e+03 1.42400000e+03 7.16600000e+03\n",
            " 2.08700000e+03 1.30200000e+03 5.50000000e+03 2.04200000e+03\n",
            " 3.90600000e+03 5.36000000e+02 2.84500000e+03 2.52400000e+03\n",
            " 6.63000000e+02 1.95000000e+03 1.78300000e+03 2.01600000e+03\n",
            " 2.37500000e+03 3.25000000e+03 4.26600000e+03 1.03200000e+03\n",
            " 2.66900000e+03 2.30600000e+03 2.42000000e+02 2.06400000e+03\n",
            " 4.61000000e+02 2.21000000e+03 2.73900000e+03 2.23200000e+03\n",
            " 3.38370000e+04 1.52200000e+03 3.41600000e+03 3.30000000e+03\n",
            " 1.00000000e+03 4.16670000e+04 2.79200000e+03 4.30100000e+03\n",
            " 3.80000000e+03 1.41100000e+03 2.40000000e+02] \n",
            "\n",
            "LoanAmount have unique values = [146.41216216 128.          66.         120.         141.\n",
            " 267.          95.         158.         168.         349.\n",
            "  70.         109.         200.         114.          17.\n",
            " 125.         100.          76.         133.         115.\n",
            " 104.         315.         116.         112.         151.\n",
            " 191.         122.         110.          35.         201.\n",
            "  74.         106.         320.         144.         184.\n",
            "  80.          47.          75.         134.          96.\n",
            "  88.          44.         286.          97.         135.\n",
            " 180.          99.         165.         258.         126.\n",
            " 312.         136.         172.          81.         187.\n",
            " 113.         176.         130.         111.         167.\n",
            " 265.          50.         210.         175.         131.\n",
            " 188.          25.         137.         160.         225.\n",
            " 216.          94.         139.         152.         118.\n",
            " 185.         154.          85.         259.         194.\n",
            "  93.         370.         182.         650.         102.\n",
            " 290.          84.         242.         129.          30.\n",
            " 244.         600.         255.          98.         275.\n",
            " 121.          63.         700.          87.         101.\n",
            " 495.          67.          73.         260.         108.\n",
            "  58.          48.         164.         170.          83.\n",
            "  90.         166.         124.          55.          59.\n",
            " 127.         214.         240.          72.          60.\n",
            " 138.          42.         280.         140.         155.\n",
            " 123.         279.         192.         304.         330.\n",
            " 150.         207.         436.          78.          54.\n",
            "  89.         143.         105.         132.         480.\n",
            "  56.         159.         300.         376.         117.\n",
            "  71.         490.         173.          46.         228.\n",
            " 308.         236.         570.         380.         296.\n",
            " 156.         103.          45.          65.          53.\n",
            " 360.          62.         218.         178.         239.\n",
            " 405.         148.         190.         149.         153.\n",
            " 162.         230.          86.         234.         246.\n",
            " 500.         186.         119.         107.         209.\n",
            " 208.         243.          40.         250.         311.\n",
            " 400.         161.         196.         324.         157.\n",
            " 145.         181.          26.         211.           9.\n",
            " 205.          36.          61.         146.         292.\n",
            " 142.         350.         496.         253.        ] \n",
            "\n",
            "Loan_Amount_Term have unique values = [360. 120. 240. 342. 180.  60. 300. 480.  36.  84.  12.] \n",
            "\n",
            "Credit_History have unique values = [1.         0.         0.84219858] \n",
            "\n",
            "Property_Area have unique values = ['Urban' 'Rural' 'Semiurban'] \n",
            "\n",
            "Loan_Status have unique values = ['Y' 'N'] \n",
            "\n"
          ]
        }
      ],
      "source": [
        "for i in df.columns[1:]:\n",
        "    print(i,'have unique values =',df[i].unique(),'\\n')"
      ]
    },
    {
      "cell_type": "code",
      "execution_count": null,
      "id": "edbf57cc",
      "metadata": {
        "id": "edbf57cc",
        "outputId": "ca3d70e8-8b6c-4b4f-ca6d-d072806099c5"
      },
      "outputs": [
        {
          "data": {
            "text/plain": [
              "['Loan_ID',\n",
              " 'Gender',\n",
              " 'Married',\n",
              " 'Dependents',\n",
              " 'Education',\n",
              " 'Self_Employed',\n",
              " 'Property_Area',\n",
              " 'Loan_Status']"
            ]
          },
          "execution_count": 541,
          "metadata": {},
          "output_type": "execute_result"
        }
      ],
      "source": [
        "# object data types list creation:\n",
        "object_datatype = []\n",
        "for x in df.dtypes.index:\n",
        "    if df.dtypes[x] == 'object':\n",
        "        object_datatype.append(x)\n",
        "object_datatype"
      ]
    },
    {
      "cell_type": "code",
      "execution_count": null,
      "id": "42a5aded",
      "metadata": {
        "id": "42a5aded",
        "outputId": "6538b5bc-10dd-4f53-b0cf-85d70d5ef431"
      },
      "outputs": [
        {
          "data": {
            "text/plain": [
              "['ApplicantIncome']"
            ]
          },
          "execution_count": 542,
          "metadata": {},
          "output_type": "execute_result"
        }
      ],
      "source": [
        "# integer data types list creation:\n",
        "integer_datatype = []\n",
        "for x in df.dtypes.index:\n",
        "    if df.dtypes[x] == 'int64':\n",
        "        integer_datatype.append(x)\n",
        "integer_datatype"
      ]
    },
    {
      "cell_type": "code",
      "execution_count": null,
      "id": "9200276e",
      "metadata": {
        "scrolled": true,
        "id": "9200276e",
        "outputId": "a606950d-9d33-4f71-95f7-1aa85ef49894"
      },
      "outputs": [
        {
          "data": {
            "text/plain": [
              "['CoapplicantIncome', 'LoanAmount', 'Loan_Amount_Term', 'Credit_History']"
            ]
          },
          "execution_count": 543,
          "metadata": {},
          "output_type": "execute_result"
        }
      ],
      "source": [
        "# float data types list creation:\n",
        "float_datatype = []\n",
        "for x in df.dtypes.index:\n",
        "    if df.dtypes[x] == 'float64':\n",
        "        float_datatype.append(x)\n",
        "float_datatype"
      ]
    },
    {
      "cell_type": "markdown",
      "id": "c222701a",
      "metadata": {
        "id": "c222701a"
      },
      "source": [
        "# EXPLORATORY DATA ANALYSIS"
      ]
    },
    {
      "cell_type": "markdown",
      "id": "62d7894a",
      "metadata": {
        "id": "62d7894a"
      },
      "source": [
        "# Analysing Target column"
      ]
    },
    {
      "cell_type": "code",
      "execution_count": null,
      "id": "89c41896",
      "metadata": {
        "scrolled": true,
        "id": "89c41896",
        "outputId": "6c3248c0-baee-4b4a-da8c-69e790162c21"
      },
      "outputs": [
        {
          "data": {
            "text/plain": [
              "Y    422\n",
              "N    192\n",
              "Name: Loan_Status, dtype: int64"
            ]
          },
          "execution_count": 544,
          "metadata": {},
          "output_type": "execute_result"
        }
      ],
      "source": [
        "df['Loan_Status'].value_counts()"
      ]
    },
    {
      "cell_type": "markdown",
      "id": "a71e9074",
      "metadata": {
        "id": "a71e9074"
      },
      "source": [
        "There are 2 unique categorical values.\n",
        "\n",
        "Class 'Y' : Has 422 values\n",
        "\n",
        "'N' : Has 192 values"
      ]
    },
    {
      "cell_type": "code",
      "execution_count": null,
      "id": "6a9179a1",
      "metadata": {
        "id": "6a9179a1",
        "outputId": "7050a07e-ab22-42d9-82e5-b927b726233a"
      },
      "outputs": [
        {
          "data": {
            "text/plain": [
              "<AxesSubplot:xlabel='Loan_Status', ylabel='count'>"
            ]
          },
          "execution_count": 545,
          "metadata": {},
          "output_type": "execute_result"
        },
        {
          "data": {
            "image/png": "[encoded data removed]",
            "text/plain": [
              "<Figure size 432x288 with 1 Axes>"
            ]
          },
          "metadata": {
            "needs_background": "light"
          },
          "output_type": "display_data"
        }
      ],
      "source": [
        "sns.countplot(df['Loan_Status'])"
      ]
    },
    {
      "cell_type": "markdown",
      "id": "3ff84778",
      "metadata": {
        "id": "3ff84778"
      },
      "source": [
        "Loan of the applicants have more approved than rejected in this dataset"
      ]
    },
    {
      "cell_type": "code",
      "execution_count": null,
      "id": "41c55179",
      "metadata": {
        "scrolled": true,
        "id": "41c55179",
        "outputId": "55c78d1e-e959-4378-c637-255db2a09ba6"
      },
      "outputs": [
        {
          "data": {
            "image/png": "[encoded data removed]",
            "text/plain": [
              "<Figure size 432x288 with 1 Axes>"
            ]
          },
          "metadata": {},
          "output_type": "display_data"
        }
      ],
      "source": [
        "labels = 'Y','N'\n",
        "fig, ax = plt.subplots()\n",
        "ax.pie(df['Loan_Status'].value_counts(),labels = labels,radius =1,autopct = '%1.2f%%', shadow=True,)\n",
        "plt.show()"
      ]
    },
    {
      "cell_type": "markdown",
      "id": "3fbbffe6",
      "metadata": {
        "id": "3fbbffe6"
      },
      "source": [
        "Class\n",
        "\n",
        "'Y' : Has 68.73% of total values\n",
        "\n",
        "'N' : Has 31.27% of total values\n",
        "\n",
        "Classes are imbalanced"
      ]
    },
    {
      "cell_type": "markdown",
      "id": "6322e95e",
      "metadata": {
        "id": "6322e95e"
      },
      "source": [
        "# Analysing Feature columns Catergorical Classes"
      ]
    },
    {
      "cell_type": "code",
      "execution_count": null,
      "id": "e0043210",
      "metadata": {
        "id": "e0043210",
        "outputId": "2971bd6d-6a64-4530-a486-5c963d36dbe5"
      },
      "outputs": [
        {
          "data": {
            "text/plain": [
              "array(['Male', 'Female'], dtype=object)"
            ]
          },
          "execution_count": 547,
          "metadata": {},
          "output_type": "execute_result"
        }
      ],
      "source": [
        "df['Gender'].unique()"
      ]
    },
    {
      "cell_type": "code",
      "execution_count": null,
      "id": "f8f28bef",
      "metadata": {
        "scrolled": true,
        "id": "f8f28bef",
        "outputId": "506d7e65-8d73-414c-8ea4-27d2fc9b40c1"
      },
      "outputs": [
        {
          "data": {
            "text/plain": [
              "Male      502\n",
              "Female    112\n",
              "Name: Gender, dtype: int64"
            ]
          },
          "execution_count": 548,
          "metadata": {},
          "output_type": "execute_result"
        }
      ],
      "source": [
        "df['Gender'].value_counts()"
      ]
    },
    {
      "cell_type": "code",
      "execution_count": null,
      "id": "143cda1f",
      "metadata": {
        "id": "143cda1f",
        "outputId": "b8b250f1-8613-4860-c3d4-e77cef3e3108"
      },
      "outputs": [
        {
          "data": {
            "text/plain": [
              "<AxesSubplot:xlabel='Gender', ylabel='count'>"
            ]
          },
          "execution_count": 549,
          "metadata": {},
          "output_type": "execute_result"
        },
        {
          "data": {
            "image/png": "[encoded data removed]",
            "text/plain": [
              "<Figure size 432x288 with 1 Axes>"
            ]
          },
          "metadata": {
            "needs_background": "light"
          },
          "output_type": "display_data"
        }
      ],
      "source": [
        "sns.countplot(df['Gender'])"
      ]
    },
    {
      "cell_type": "markdown",
      "id": "31e63223",
      "metadata": {
        "id": "31e63223"
      },
      "source": [
        "There are more Male Applicants than Female Applicants."
      ]
    },
    {
      "cell_type": "code",
      "execution_count": null,
      "id": "12b10c54",
      "metadata": {
        "id": "12b10c54",
        "outputId": "6c14494b-978d-45d8-9eeb-cf49c3a30992"
      },
      "outputs": [
        {
          "data": {
            "text/plain": [
              "array(['No', 'Yes'], dtype=object)"
            ]
          },
          "execution_count": 550,
          "metadata": {},
          "output_type": "execute_result"
        }
      ],
      "source": [
        "df['Married'].unique()"
      ]
    },
    {
      "cell_type": "code",
      "execution_count": null,
      "id": "bed50a85",
      "metadata": {
        "scrolled": true,
        "id": "bed50a85",
        "outputId": "59e75b62-0442-474a-f39e-eaa677c2250c"
      },
      "outputs": [
        {
          "data": {
            "text/plain": [
              "<AxesSubplot:xlabel='Married', ylabel='count'>"
            ]
          },
          "execution_count": 551,
          "metadata": {},
          "output_type": "execute_result"
        },
        {
          "data": {
            "image/png": "[encoded data removed]",
            "text/plain": [
              "<Figure size 432x288 with 1 Axes>"
            ]
          },
          "metadata": {
            "needs_background": "light"
          },
          "output_type": "display_data"
        }
      ],
      "source": [
        "sns.countplot(df['Married'])"
      ]
    },
    {
      "cell_type": "markdown",
      "id": "90e1ad44",
      "metadata": {
        "id": "90e1ad44"
      },
      "source": [
        "There are more applicants who are married than those who are not."
      ]
    },
    {
      "cell_type": "code",
      "execution_count": null,
      "id": "49fbcfc7",
      "metadata": {
        "id": "49fbcfc7",
        "outputId": "69e3f4b8-c4b7-44b3-f134-7032ccaa3708"
      },
      "outputs": [
        {
          "data": {
            "text/plain": [
              "<AxesSubplot:xlabel='Gender', ylabel='count'>"
            ]
          },
          "execution_count": 552,
          "metadata": {},
          "output_type": "execute_result"
        },
        {
          "data": {
            "image/png": "[encoded data removed]",
            "text/plain": [
              "<Figure size 432x288 with 1 Axes>"
            ]
          },
          "metadata": {
            "needs_background": "light"
          },
          "output_type": "display_data"
        }
      ],
      "source": [
        "sns.countplot(df['Gender'], hue=df['Married'])"
      ]
    },
    {
      "cell_type": "markdown",
      "id": "40a37d07",
      "metadata": {
        "id": "40a37d07"
      },
      "source": [
        "Who asked for Loan?\n",
        "\n",
        "Mostly Married Male   and  Non-married Females"
      ]
    },
    {
      "cell_type": "code",
      "execution_count": null,
      "id": "428004ae",
      "metadata": {
        "id": "428004ae",
        "outputId": "8c7453e0-ff04-4905-d01a-715e9b5dca4a"
      },
      "outputs": [
        {
          "data": {
            "text/plain": [
              "array(['0', '1', '2', '3+'], dtype=object)"
            ]
          },
          "execution_count": 553,
          "metadata": {},
          "output_type": "execute_result"
        }
      ],
      "source": [
        "df['Dependents'].unique()"
      ]
    },
    {
      "cell_type": "code",
      "execution_count": null,
      "id": "bea5714d",
      "metadata": {
        "id": "bea5714d",
        "outputId": "09805a38-47be-43b5-bb45-4cb6e7073d00"
      },
      "outputs": [
        {
          "data": {
            "text/plain": [
              "<AxesSubplot:xlabel='Dependents', ylabel='count'>"
            ]
          },
          "execution_count": 554,
          "metadata": {},
          "output_type": "execute_result"
        },
        {
          "data": {
            "image/png": "[encoded data removed]",
            "text/plain": [
              "<Figure size 432x288 with 1 Axes>"
            ]
          },
          "metadata": {
            "needs_background": "light"
          },
          "output_type": "display_data"
        }
      ],
      "source": [
        "sns.countplot(df['Dependents'])"
      ]
    },
    {
      "cell_type": "markdown",
      "id": "6766b196",
      "metadata": {
        "id": "6766b196"
      },
      "source": [
        "Most applicants have no dependents to support"
      ]
    },
    {
      "cell_type": "code",
      "execution_count": null,
      "id": "53088e4c",
      "metadata": {
        "id": "53088e4c",
        "outputId": "07926887-33b5-45bc-9fdb-0c2dfedefd17"
      },
      "outputs": [
        {
          "data": {
            "text/plain": [
              "<AxesSubplot:xlabel='Dependents', ylabel='count'>"
            ]
          },
          "execution_count": 555,
          "metadata": {},
          "output_type": "execute_result"
        },
        {
          "data": {
            "image/png": "[encoded data removed]",
            "text/plain": [
              "<Figure size 432x288 with 1 Axes>"
            ]
          },
          "metadata": {
            "needs_background": "light"
          },
          "output_type": "display_data"
        }
      ],
      "source": [
        "sns.countplot(df['Dependents'],hue=df['Married'])"
      ]
    },
    {
      "cell_type": "markdown",
      "id": "c0ba5b51",
      "metadata": {
        "id": "c0ba5b51"
      },
      "source": [
        "Married have more dependents"
      ]
    },
    {
      "cell_type": "code",
      "execution_count": null,
      "id": "7a7080e8",
      "metadata": {
        "id": "7a7080e8",
        "outputId": "4e504ce7-5a2b-40f3-be36-b93fd7035958"
      },
      "outputs": [
        {
          "data": {
            "text/plain": [
              "array(['Graduate', 'Not Graduate'], dtype=object)"
            ]
          },
          "execution_count": 556,
          "metadata": {},
          "output_type": "execute_result"
        }
      ],
      "source": [
        "df['Education'].unique()"
      ]
    },
    {
      "cell_type": "code",
      "execution_count": null,
      "id": "d5422d83",
      "metadata": {
        "scrolled": true,
        "id": "d5422d83",
        "outputId": "1172e59c-03a7-42e3-9255-8138d87756a6"
      },
      "outputs": [
        {
          "data": {
            "text/plain": [
              "Graduate        0.781759\n",
              "Not Graduate    0.218241\n",
              "Name: Education, dtype: float64"
            ]
          },
          "execution_count": 557,
          "metadata": {},
          "output_type": "execute_result"
        }
      ],
      "source": [
        "df['Education'].value_counts(normalize=True)"
      ]
    },
    {
      "cell_type": "code",
      "execution_count": null,
      "id": "c62012de",
      "metadata": {
        "id": "c62012de",
        "outputId": "2a9cd51e-6999-4399-fe3f-e78ffa6ea69a"
      },
      "outputs": [
        {
          "data": {
            "text/plain": [
              "<AxesSubplot:xlabel='Education', ylabel='count'>"
            ]
          },
          "execution_count": 558,
          "metadata": {},
          "output_type": "execute_result"
        },
        {
          "data": {
            "image/png": "[encoded data removed]",
            "text/plain": [
              "<Figure size 432x288 with 1 Axes>"
            ]
          },
          "metadata": {
            "needs_background": "light"
          },
          "output_type": "display_data"
        }
      ],
      "source": [
        "sns.countplot(df['Education'])"
      ]
    },
    {
      "cell_type": "markdown",
      "id": "f9c6f52d",
      "metadata": {
        "id": "f9c6f52d"
      },
      "source": [
        "78% applicants are Graduated\n",
        "\n",
        "21.8% are not graduated"
      ]
    },
    {
      "cell_type": "code",
      "execution_count": null,
      "id": "d19dc4ab",
      "metadata": {
        "id": "d19dc4ab",
        "outputId": "6b04eeee-ab4e-4c79-8ca3-ffeb2c75c3b1"
      },
      "outputs": [
        {
          "data": {
            "text/plain": [
              "array(['No', 'Yes'], dtype=object)"
            ]
          },
          "execution_count": 559,
          "metadata": {},
          "output_type": "execute_result"
        }
      ],
      "source": [
        "df['Self_Employed'].unique()"
      ]
    },
    {
      "cell_type": "code",
      "execution_count": null,
      "id": "322a95f5",
      "metadata": {
        "id": "322a95f5",
        "outputId": "38e45884-ac64-4d08-e643-3ba559618725"
      },
      "outputs": [
        {
          "data": {
            "text/plain": [
              "No     0.86645\n",
              "Yes    0.13355\n",
              "Name: Self_Employed, dtype: float64"
            ]
          },
          "execution_count": 560,
          "metadata": {},
          "output_type": "execute_result"
        }
      ],
      "source": [
        "df['Self_Employed'].value_counts(normalize=True)"
      ]
    },
    {
      "cell_type": "code",
      "execution_count": null,
      "id": "56e8e344",
      "metadata": {
        "scrolled": true,
        "id": "56e8e344",
        "outputId": "9689168f-e778-4484-c802-69091847a88f"
      },
      "outputs": [
        {
          "data": {
            "text/plain": [
              "<AxesSubplot:xlabel='Self_Employed', ylabel='count'>"
            ]
          },
          "execution_count": 561,
          "metadata": {},
          "output_type": "execute_result"
        },
        {
          "data": {
            "image/png": "[encoded data removed]",
            "text/plain": [
              "<Figure size 432x288 with 1 Axes>"
            ]
          },
          "metadata": {
            "needs_background": "light"
          },
          "output_type": "display_data"
        }
      ],
      "source": [
        "sns.countplot(df['Self_Employed'])"
      ]
    },
    {
      "cell_type": "markdown",
      "id": "9eb976b8",
      "metadata": {
        "id": "9eb976b8"
      },
      "source": [
        "Most applicants are not Self Employed."
      ]
    },
    {
      "cell_type": "code",
      "execution_count": null,
      "id": "3db1852a",
      "metadata": {
        "scrolled": true,
        "id": "3db1852a",
        "outputId": "000ae9f6-266a-43b1-ff80-2fb730fb4261"
      },
      "outputs": [
        {
          "data": {
            "text/plain": [
              "Semiurban    233\n",
              "Urban        202\n",
              "Rural        179\n",
              "Name: Property_Area, dtype: int64"
            ]
          },
          "execution_count": 562,
          "metadata": {},
          "output_type": "execute_result"
        }
      ],
      "source": [
        "df['Property_Area'].value_counts()"
      ]
    },
    {
      "cell_type": "code",
      "execution_count": null,
      "id": "b9ded410",
      "metadata": {
        "id": "b9ded410",
        "outputId": "86e872e0-037a-409d-c7a3-3ed329fe87d4"
      },
      "outputs": [
        {
          "data": {
            "image/png": "[encoded data removed]",
            "text/plain": [
              "<Figure size 432x288 with 1 Axes>"
            ]
          },
          "metadata": {},
          "output_type": "display_data"
        }
      ],
      "source": [
        "labels = 'Semiurban','Urban','Rural'\n",
        "fig, ax = plt.subplots()\n",
        "ax.pie(df['Property_Area'].value_counts(),labels = labels,radius =1,autopct = '%1.2f%%', shadow=True,)\n",
        "plt.show()"
      ]
    },
    {
      "cell_type": "markdown",
      "id": "09124726",
      "metadata": {
        "id": "09124726"
      },
      "source": [
        "37.95% applicants are from Semiurban, while 32.90% of applicants are from Urban and 29.15% are from Rural areas."
      ]
    },
    {
      "cell_type": "code",
      "execution_count": null,
      "id": "7beca681",
      "metadata": {
        "id": "7beca681",
        "outputId": "f2092e66-022a-48c4-d97c-83f8f892ddb7"
      },
      "outputs": [
        {
          "data": {
            "text/plain": [
              "<AxesSubplot:xlabel='Property_Area', ylabel='count'>"
            ]
          },
          "execution_count": 564,
          "metadata": {},
          "output_type": "execute_result"
        },
        {
          "data": {
            "image/png": "[encoded data removed]",
            "text/plain": [
              "<Figure size 432x288 with 1 Axes>"
            ]
          },
          "metadata": {
            "needs_background": "light"
          },
          "output_type": "display_data"
        }
      ],
      "source": [
        "sns.countplot(df['Property_Area'])"
      ]
    },
    {
      "cell_type": "markdown",
      "id": "3b98a24f",
      "metadata": {
        "id": "3b98a24f"
      },
      "source": [
        "Loan of semiurban applicants have accepted the most in the dataset.\n",
        "\n",
        "Loan of rural applicants have rejected the most in the dataset."
      ]
    },
    {
      "cell_type": "markdown",
      "id": "af7d7210",
      "metadata": {
        "id": "af7d7210"
      },
      "source": [
        "# Analysing Feature columns with Continuous Data"
      ]
    },
    {
      "cell_type": "code",
      "execution_count": null,
      "id": "f0e496e0",
      "metadata": {
        "id": "f0e496e0",
        "outputId": "9b5f6e1f-abbd-4cbd-af9f-10a6753fca9d"
      },
      "outputs": [
        {
          "data": {
            "image/png": "[encoded data removed]",
            "text/plain": [
              "<Figure size 1440x1800 with 4 Axes>"
            ]
          },
          "metadata": {},
          "output_type": "display_data"
        }
      ],
      "source": [
        "plt.figure(figsize=(20,25),facecolor='white')\n",
        "plotnum=1\n",
        "for col in df[['ApplicantIncome','CoapplicantIncome','LoanAmount','Loan_Amount_Term']]:\n",
        "    if plotnum<=10:\n",
        "        plt.subplot(4,4,plotnum)\n",
        "        sns.distplot(df[col])\n",
        "        plt.xlabel(col,fontsize=20)\n",
        "    plotnum+=1\n",
        "plt.show()"
      ]
    },
    {
      "cell_type": "markdown",
      "id": "c9646f9b",
      "metadata": {
        "id": "c9646f9b"
      },
      "source": [
        "Data distributions are skewed"
      ]
    },
    {
      "cell_type": "code",
      "execution_count": null,
      "id": "c03310da",
      "metadata": {
        "scrolled": true,
        "id": "c03310da",
        "outputId": "50d4cb89-7fad-4b3f-eb3e-11a77f66e09b"
      },
      "outputs": [
        {
          "data": {
            "text/plain": [
              "ApplicantIncome      6.539513\n",
              "CoapplicantIncome    7.491531\n",
              "LoanAmount           2.726601\n",
              "Loan_Amount_Term    -2.389680\n",
              "dtype: float64"
            ]
          },
          "execution_count": 566,
          "metadata": {},
          "output_type": "execute_result"
        }
      ],
      "source": [
        "df[['ApplicantIncome','CoapplicantIncome','LoanAmount','Loan_Amount_Term']].skew()"
      ]
    },
    {
      "cell_type": "markdown",
      "id": "717ecd71",
      "metadata": {
        "id": "717ecd71"
      },
      "source": [
        "# 'Loan_Status' vs Continuous/Discrete Data Columns"
      ]
    },
    {
      "cell_type": "code",
      "execution_count": null,
      "id": "6119c129",
      "metadata": {
        "id": "6119c129",
        "outputId": "c56d3daa-d271-4a7d-9527-64dc16be1262"
      },
      "outputs": [
        {
          "data": {
            "image/png": "[encoded data removed]",
            "text/plain": [
              "<Figure size 1440x1800 with 3 Axes>"
            ]
          },
          "metadata": {},
          "output_type": "display_data"
        }
      ],
      "source": [
        "plt.figure(figsize=(20,25),facecolor='white')\n",
        "plotnum=1\n",
        "y = df['Loan_Status']\n",
        "X = df[['ApplicantIncome','CoapplicantIncome','LoanAmount']]\n",
        "for col in X:\n",
        "    if plotnum<=15:\n",
        "        plt.subplot(5,5,plotnum)\n",
        "        sns.barplot(y,X[col])\n",
        "        plt.xlabel('Loan_Status',fontsize=20)\n",
        "        plt.ylabel(col,fontsize=20)\n",
        "    plotnum+=1\n",
        "plt.tight_layout()"
      ]
    },
    {
      "cell_type": "markdown",
      "id": "5d71bd4f",
      "metadata": {
        "id": "5d71bd4f"
      },
      "source": [
        "Following observations can be made from above graphs:\n",
        "\n",
        "Applicant income doesnt seem to contribute significantly to loan approval.\n",
        "\n",
        "Loan rejection is high for higher Coapplicant Income.\n",
        "\n",
        "LoanAmount doesn't seem to have a strong correlation with Loan Status"
      ]
    },
    {
      "cell_type": "markdown",
      "id": "da51ced0",
      "metadata": {
        "id": "da51ced0"
      },
      "source": [
        "# 'Loan_Status' vs Categorical Data Columns"
      ]
    },
    {
      "cell_type": "code",
      "execution_count": null,
      "id": "c2804e70",
      "metadata": {
        "scrolled": true,
        "id": "c2804e70",
        "outputId": "3616ae39-3e06-48ec-ac97-a22bad8973e3"
      },
      "outputs": [
        {
          "data": {
            "image/png": "[encoded data removed]",
            "text/plain": [
              "<Figure size 1440x1512 with 8 Axes>"
            ]
          },
          "metadata": {},
          "output_type": "display_data"
        }
      ],
      "source": [
        "plt.figure(figsize=(20,21),facecolor='white')\n",
        "plotnum=1\n",
        "X = df[['Married','Gender','Dependents','Education','Self_Employed','Property_Area','Loan_Amount_Term','Credit_History']]\n",
        "y = df['Loan_Status']\n",
        "for col in X:\n",
        "    if plotnum<=23:\n",
        "        plt.subplot(5,4,plotnum)\n",
        "        sns.countplot(X[col],hue =y)\n",
        "        plt.xlabel(col,fontsize=20)\n",
        "        plt.ylabel('Count',fontsize=20)\n",
        "    plotnum+=1\n",
        "plt.tight_layout()"
      ]
    },
    {
      "cell_type": "markdown",
      "id": "e0bd9980",
      "metadata": {
        "id": "e0bd9980"
      },
      "source": [
        "Following observations can be made from above graphs:\n",
        "\n",
        "Married applicants have higher loan approval.\n",
        "\n",
        "More Male applicants get loan approval than Female applicants. This may also be due to the fact that there are more male applicants than female applicants.\n",
        "\n",
        "Applicants with 0 dependents have highest loan approval.\n",
        "\n",
        "Graduates have higher loan approval.\n",
        "\n",
        "Applicants who are not self employed have higher loan approval.\n",
        "\n",
        "Applicants from semi urban areas have highest loan approval.\n",
        "\n",
        "Highest loan approval is for 360.\n",
        "\n",
        "Applicants with Credit History of 1.0 has highest loan approval."
      ]
    },
    {
      "cell_type": "markdown",
      "id": "bcd8f16a",
      "metadata": {
        "id": "bcd8f16a"
      },
      "source": [
        "# Credit_History"
      ]
    },
    {
      "cell_type": "code",
      "execution_count": null,
      "id": "c114c959",
      "metadata": {
        "id": "c114c959",
        "outputId": "b9c84c63-a317-4eb3-b943-058bc7aa6064"
      },
      "outputs": [
        {
          "data": {
            "text/plain": [
              "<AxesSubplot:xlabel='Credit_History', ylabel='count'>"
            ]
          },
          "execution_count": 569,
          "metadata": {},
          "output_type": "execute_result"
        },
        {
          "data": {
            "image/png": "[encoded data removed]",
            "text/plain": [
              "<Figure size 432x288 with 1 Axes>"
            ]
          },
          "metadata": {
            "needs_background": "light"
          },
          "output_type": "display_data"
        }
      ],
      "source": [
        "sns.countplot(df['Credit_History'])"
      ]
    },
    {
      "cell_type": "markdown",
      "id": "18034d66",
      "metadata": {
        "id": "18034d66"
      },
      "source": [
        "# Credit_History vs Loan"
      ]
    },
    {
      "cell_type": "code",
      "execution_count": null,
      "id": "cde37a02",
      "metadata": {
        "id": "cde37a02",
        "outputId": "9d40a0ad-4be4-44c5-ef4e-67d4107b93ab"
      },
      "outputs": [
        {
          "data": {
            "text/plain": [
              "<AxesSubplot:xlabel='Credit_History', ylabel='count'>"
            ]
          },
          "execution_count": 570,
          "metadata": {},
          "output_type": "execute_result"
        },
        {
          "data": {
            "image/png": "[encoded data removed]",
            "text/plain": [
              "<Figure size 432x288 with 1 Axes>"
            ]
          },
          "metadata": {
            "needs_background": "light"
          },
          "output_type": "display_data"
        }
      ],
      "source": [
        "sns.countplot(df['Credit_History'],hue=df['Loan_Status'])"
      ]
    },
    {
      "cell_type": "code",
      "execution_count": null,
      "id": "f1a26b69",
      "metadata": {
        "id": "f1a26b69"
      },
      "outputs": [],
      "source": [
        "# If Credit history is available, Chances your loan will approve."
      ]
    },
    {
      "cell_type": "code",
      "execution_count": null,
      "id": "bf9a92e7",
      "metadata": {
        "id": "bf9a92e7",
        "outputId": "1cb08757-9312-4b0f-9b27-4c61125b0892"
      },
      "outputs": [
        {
          "data": {
            "text/plain": [
              "Credit_History  Loan_Status\n",
              "0.000000        N              0.921348\n",
              "                Y              0.078652\n",
              "0.842199        Y              0.740000\n",
              "                N              0.260000\n",
              "1.000000        Y              0.795789\n",
              "                N              0.204211\n",
              "Name: Loan_Status, dtype: float64"
            ]
          },
          "execution_count": 572,
          "metadata": {},
          "output_type": "execute_result"
        }
      ],
      "source": [
        "df.groupby('Credit_History')['Loan_Status'].value_counts(normalize=True)"
      ]
    },
    {
      "cell_type": "code",
      "execution_count": null,
      "id": "a7cd1341",
      "metadata": {
        "id": "a7cd1341"
      },
      "outputs": [],
      "source": [
        "# If Credit History is availabe, 80% chances for approved loan\n",
        "\n",
        "# If credit History is not available, 92% chances for loan rejection"
      ]
    },
    {
      "cell_type": "markdown",
      "id": "6e74b104",
      "metadata": {
        "id": "6e74b104"
      },
      "source": [
        "# Dropping columns 'Loan_ID ', as it isnot required for predicting values of target column"
      ]
    },
    {
      "cell_type": "code",
      "execution_count": null,
      "id": "ee26a198",
      "metadata": {
        "id": "ee26a198"
      },
      "outputs": [],
      "source": [
        "df.drop(columns = ['Loan_ID'],inplace=True)"
      ]
    },
    {
      "cell_type": "code",
      "execution_count": null,
      "id": "0f07c52d",
      "metadata": {
        "scrolled": true,
        "id": "0f07c52d",
        "outputId": "656c1cc9-34d1-4d40-816c-651dfcc45250"
      },
      "outputs": [
        {
          "data": {
            "text/plain": [
              "(614, 12)"
            ]
          },
          "execution_count": 575,
          "metadata": {},
          "output_type": "execute_result"
        }
      ],
      "source": [
        "df.shape"
      ]
    },
    {
      "cell_type": "code",
      "execution_count": null,
      "id": "233c0d10",
      "metadata": {
        "scrolled": true,
        "id": "233c0d10",
        "outputId": "80465c7c-c515-4017-e2dc-f2edfe468161"
      },
      "outputs": [
        {
          "data": {
            "text/plain": [
              "Index(['Gender', 'Married', 'Dependents', 'Education', 'Self_Employed',\n",
              "       'ApplicantIncome', 'CoapplicantIncome', 'LoanAmount',\n",
              "       'Loan_Amount_Term', 'Credit_History', 'Property_Area', 'Loan_Status'],\n",
              "      dtype='object')"
            ]
          },
          "execution_count": 576,
          "metadata": {},
          "output_type": "execute_result"
        }
      ],
      "source": [
        "df.columns"
      ]
    },
    {
      "cell_type": "code",
      "execution_count": null,
      "id": "757ac94a",
      "metadata": {
        "id": "757ac94a"
      },
      "outputs": [],
      "source": [
        "X = df.drop(columns = ['Loan_Status'])\n",
        "y = df['Loan_Status']"
      ]
    },
    {
      "cell_type": "code",
      "execution_count": null,
      "id": "30dac32a",
      "metadata": {
        "scrolled": true,
        "id": "30dac32a",
        "outputId": "b0519eaf-309c-4e4b-d3b2-ec469cdbf277"
      },
      "outputs": [
        {
          "data": {
            "image/png": "[encoded data removed]",
            "text/plain": [
              "<Figure size 1440x1800 with 3 Axes>"
            ]
          },
          "metadata": {},
          "output_type": "display_data"
        }
      ],
      "source": [
        "plt.figure(figsize=(20,25),facecolor='white')\n",
        "plotnum=1\n",
        "for col in X[['ApplicantIncome','CoapplicantIncome','LoanAmount']]:\n",
        "    if plotnum<=16:\n",
        "        plt.subplot(4,4,plotnum)\n",
        "        sns.boxplot(X[col])\n",
        "        plt.xlabel(col,fontsize=20)\n",
        "    plotnum+=1\n",
        "plt.show()"
      ]
    },
    {
      "cell_type": "markdown",
      "id": "9b7b35f0",
      "metadata": {
        "id": "9b7b35f0"
      },
      "source": [
        "All columns have a lot of outliers"
      ]
    },
    {
      "cell_type": "markdown",
      "id": "0dffe90b",
      "metadata": {
        "id": "0dffe90b"
      },
      "source": [
        "# Removing Outliers using Z score Method"
      ]
    },
    {
      "cell_type": "code",
      "execution_count": null,
      "id": "15fea2ad",
      "metadata": {
        "id": "15fea2ad"
      },
      "outputs": [],
      "source": [
        "df2 = X[['ApplicantIncome','CoapplicantIncome','LoanAmount']].copy()"
      ]
    },
    {
      "cell_type": "code",
      "execution_count": null,
      "id": "f96ebe09",
      "metadata": {
        "scrolled": true,
        "id": "f96ebe09",
        "outputId": "4a9fe7b3-3252-483c-c664-5002d13d190a"
      },
      "outputs": [
        {
          "data": {
            "text/html": [
              "<div>\n",
              "<style scoped>\n",
              "    .dataframe tbody tr th:only-of-type {\n",
              "        vertical-align: middle;\n",
              "    }\n",
              "\n",
              "    .dataframe tbody tr th {\n",
              "        vertical-align: top;\n",
              "    }\n",
              "\n",
              "    .dataframe thead th {\n",
              "        text-align: right;\n",
              "    }\n",
              "</style>\n",
              "<table border=\"1\" class=\"dataframe\">\n",
              "  <thead>\n",
              "    <tr style=\"text-align: right;\">\n",
              "      <th></th>\n",
              "      <th>ApplicantIncome</th>\n",
              "      <th>CoapplicantIncome</th>\n",
              "      <th>LoanAmount</th>\n",
              "    </tr>\n",
              "  </thead>\n",
              "  <tbody>\n",
              "    <tr>\n",
              "      <th>0</th>\n",
              "      <td>5849</td>\n",
              "      <td>0.0</td>\n",
              "      <td>146.412162</td>\n",
              "    </tr>\n",
              "    <tr>\n",
              "      <th>1</th>\n",
              "      <td>4583</td>\n",
              "      <td>1508.0</td>\n",
              "      <td>128.000000</td>\n",
              "    </tr>\n",
              "    <tr>\n",
              "      <th>2</th>\n",
              "      <td>3000</td>\n",
              "      <td>0.0</td>\n",
              "      <td>66.000000</td>\n",
              "    </tr>\n",
              "    <tr>\n",
              "      <th>3</th>\n",
              "      <td>2583</td>\n",
              "      <td>2358.0</td>\n",
              "      <td>120.000000</td>\n",
              "    </tr>\n",
              "    <tr>\n",
              "      <th>4</th>\n",
              "      <td>6000</td>\n",
              "      <td>0.0</td>\n",
              "      <td>141.000000</td>\n",
              "    </tr>\n",
              "    <tr>\n",
              "      <th>...</th>\n",
              "      <td>...</td>\n",
              "      <td>...</td>\n",
              "      <td>...</td>\n",
              "    </tr>\n",
              "    <tr>\n",
              "      <th>609</th>\n",
              "      <td>2900</td>\n",
              "      <td>0.0</td>\n",
              "      <td>71.000000</td>\n",
              "    </tr>\n",
              "    <tr>\n",
              "      <th>610</th>\n",
              "      <td>4106</td>\n",
              "      <td>0.0</td>\n",
              "      <td>40.000000</td>\n",
              "    </tr>\n",
              "    <tr>\n",
              "      <th>611</th>\n",
              "      <td>8072</td>\n",
              "      <td>240.0</td>\n",
              "      <td>253.000000</td>\n",
              "    </tr>\n",
              "    <tr>\n",
              "      <th>612</th>\n",
              "      <td>7583</td>\n",
              "      <td>0.0</td>\n",
              "      <td>187.000000</td>\n",
              "    </tr>\n",
              "    <tr>\n",
              "      <th>613</th>\n",
              "      <td>4583</td>\n",
              "      <td>0.0</td>\n",
              "      <td>133.000000</td>\n",
              "    </tr>\n",
              "  </tbody>\n",
              "</table>\n",
              "<p>614 rows × 3 columns</p>\n",
              "</div>"
            ],
            "text/plain": [
              "     ApplicantIncome  CoapplicantIncome  LoanAmount\n",
              "0               5849                0.0  146.412162\n",
              "1               4583             1508.0  128.000000\n",
              "2               3000                0.0   66.000000\n",
              "3               2583             2358.0  120.000000\n",
              "4               6000                0.0  141.000000\n",
              "..               ...                ...         ...\n",
              "609             2900                0.0   71.000000\n",
              "610             4106                0.0   40.000000\n",
              "611             8072              240.0  253.000000\n",
              "612             7583                0.0  187.000000\n",
              "613             4583                0.0  133.000000\n",
              "\n",
              "[614 rows x 3 columns]"
            ]
          },
          "execution_count": 580,
          "metadata": {},
          "output_type": "execute_result"
        }
      ],
      "source": [
        "df2"
      ]
    },
    {
      "cell_type": "code",
      "execution_count": null,
      "id": "c8fda679",
      "metadata": {
        "scrolled": true,
        "id": "c8fda679",
        "outputId": "5fa42fd4-29fe-4e2a-ad9f-97fa785fad0f"
      },
      "outputs": [
        {
          "data": {
            "text/plain": [
              "(array([  9, 126, 130, 155, 155, 171, 171, 177, 177, 183, 185, 278, 308,\n",
              "        333, 333, 369, 402, 409, 417, 432, 443, 487, 506, 523, 525, 561,\n",
              "        581, 600, 604], dtype=int64),\n",
              " array([1, 0, 2, 0, 2, 0, 2, 1, 2, 0, 0, 2, 2, 0, 2, 2, 1, 0, 1, 2, 0, 2,\n",
              "        2, 2, 2, 2, 1, 1, 2], dtype=int64))"
            ]
          },
          "execution_count": 581,
          "metadata": {},
          "output_type": "execute_result"
        }
      ],
      "source": [
        "from scipy.stats import zscore\n",
        "z=np.abs(zscore(df2))\n",
        "threshold=3\n",
        "np.where(z>3)"
      ]
    },
    {
      "cell_type": "code",
      "execution_count": null,
      "id": "1f37728f",
      "metadata": {
        "id": "1f37728f",
        "outputId": "68538ecd-34bb-413c-dc45-c2fd62aa0247"
      },
      "outputs": [
        {
          "data": {
            "text/html": [
              "<div>\n",
              "<style scoped>\n",
              "    .dataframe tbody tr th:only-of-type {\n",
              "        vertical-align: middle;\n",
              "    }\n",
              "\n",
              "    .dataframe tbody tr th {\n",
              "        vertical-align: top;\n",
              "    }\n",
              "\n",
              "    .dataframe thead th {\n",
              "        text-align: right;\n",
              "    }\n",
              "</style>\n",
              "<table border=\"1\" class=\"dataframe\">\n",
              "  <thead>\n",
              "    <tr style=\"text-align: right;\">\n",
              "      <th></th>\n",
              "      <th>ApplicantIncome</th>\n",
              "      <th>CoapplicantIncome</th>\n",
              "      <th>LoanAmount</th>\n",
              "    </tr>\n",
              "  </thead>\n",
              "  <tbody>\n",
              "    <tr>\n",
              "      <th>0</th>\n",
              "      <td>5849</td>\n",
              "      <td>0.0</td>\n",
              "      <td>146.412162</td>\n",
              "    </tr>\n",
              "    <tr>\n",
              "      <th>1</th>\n",
              "      <td>4583</td>\n",
              "      <td>1508.0</td>\n",
              "      <td>128.000000</td>\n",
              "    </tr>\n",
              "    <tr>\n",
              "      <th>2</th>\n",
              "      <td>3000</td>\n",
              "      <td>0.0</td>\n",
              "      <td>66.000000</td>\n",
              "    </tr>\n",
              "    <tr>\n",
              "      <th>3</th>\n",
              "      <td>2583</td>\n",
              "      <td>2358.0</td>\n",
              "      <td>120.000000</td>\n",
              "    </tr>\n",
              "    <tr>\n",
              "      <th>4</th>\n",
              "      <td>6000</td>\n",
              "      <td>0.0</td>\n",
              "      <td>141.000000</td>\n",
              "    </tr>\n",
              "    <tr>\n",
              "      <th>...</th>\n",
              "      <td>...</td>\n",
              "      <td>...</td>\n",
              "      <td>...</td>\n",
              "    </tr>\n",
              "    <tr>\n",
              "      <th>609</th>\n",
              "      <td>2900</td>\n",
              "      <td>0.0</td>\n",
              "      <td>71.000000</td>\n",
              "    </tr>\n",
              "    <tr>\n",
              "      <th>610</th>\n",
              "      <td>4106</td>\n",
              "      <td>0.0</td>\n",
              "      <td>40.000000</td>\n",
              "    </tr>\n",
              "    <tr>\n",
              "      <th>611</th>\n",
              "      <td>8072</td>\n",
              "      <td>240.0</td>\n",
              "      <td>253.000000</td>\n",
              "    </tr>\n",
              "    <tr>\n",
              "      <th>612</th>\n",
              "      <td>7583</td>\n",
              "      <td>0.0</td>\n",
              "      <td>187.000000</td>\n",
              "    </tr>\n",
              "    <tr>\n",
              "      <th>613</th>\n",
              "      <td>4583</td>\n",
              "      <td>0.0</td>\n",
              "      <td>133.000000</td>\n",
              "    </tr>\n",
              "  </tbody>\n",
              "</table>\n",
              "<p>589 rows × 3 columns</p>\n",
              "</div>"
            ],
            "text/plain": [
              "     ApplicantIncome  CoapplicantIncome  LoanAmount\n",
              "0               5849                0.0  146.412162\n",
              "1               4583             1508.0  128.000000\n",
              "2               3000                0.0   66.000000\n",
              "3               2583             2358.0  120.000000\n",
              "4               6000                0.0  141.000000\n",
              "..               ...                ...         ...\n",
              "609             2900                0.0   71.000000\n",
              "610             4106                0.0   40.000000\n",
              "611             8072              240.0  253.000000\n",
              "612             7583                0.0  187.000000\n",
              "613             4583                0.0  133.000000\n",
              "\n",
              "[589 rows x 3 columns]"
            ]
          },
          "execution_count": 582,
          "metadata": {},
          "output_type": "execute_result"
        }
      ],
      "source": [
        "df3 = df2[(z<3).all(axis = 1)]\n",
        "df3"
      ]
    },
    {
      "cell_type": "code",
      "execution_count": null,
      "id": "014a4290",
      "metadata": {
        "id": "014a4290",
        "outputId": "2e674c30-cb21-4a5c-c90d-3a828cc2a3d5"
      },
      "outputs": [
        {
          "data": {
            "text/plain": [
              "(589, 3)"
            ]
          },
          "execution_count": 583,
          "metadata": {},
          "output_type": "execute_result"
        }
      ],
      "source": [
        "df3.shape"
      ]
    },
    {
      "cell_type": "code",
      "execution_count": null,
      "id": "284fe405",
      "metadata": {
        "scrolled": false,
        "id": "284fe405",
        "outputId": "e40d9f50-96e4-4151-f337-7974cb82e64e"
      },
      "outputs": [
        {
          "data": {
            "text/plain": [
              "(614, 3)"
            ]
          },
          "execution_count": 584,
          "metadata": {},
          "output_type": "execute_result"
        }
      ],
      "source": [
        "df2.shape"
      ]
    },
    {
      "cell_type": "markdown",
      "id": "e7a1c0b6",
      "metadata": {
        "id": "e7a1c0b6"
      },
      "source": [
        "# % DATA LOSS"
      ]
    },
    {
      "cell_type": "code",
      "execution_count": null,
      "id": "84866aa3",
      "metadata": {
        "scrolled": true,
        "id": "84866aa3",
        "outputId": "4953cac8-4e26-4fa3-d2bb-d9c656b70c8e"
      },
      "outputs": [
        {
          "name": "stdout",
          "output_type": "stream",
          "text": [
            "Shape of the dataframe before removing outliers:  (614, 3)\n",
            "Shape of the dataframe after removing outliers:  (589, 3)\n",
            "Percentage of data loss post outlier removal:  4.071661237785016\n"
          ]
        }
      ],
      "source": [
        "# checking data loss percentage\n",
        "print (\"Shape of the dataframe before removing outliers: \", df2.shape)\n",
        "print (\"Shape of the dataframe after removing outliers: \", df3.shape)\n",
        "print (\"Percentage of data loss post outlier removal: \", (df2.shape[0]-df3.shape[0])/df2.shape[0]*100)\n",
        "\n"
      ]
    },
    {
      "cell_type": "markdown",
      "id": "21a003d7",
      "metadata": {
        "id": "21a003d7"
      },
      "source": [
        "4.071% data loss is within acceptable range"
      ]
    },
    {
      "cell_type": "code",
      "execution_count": null,
      "id": "8e03be36",
      "metadata": {
        "id": "8e03be36"
      },
      "outputs": [],
      "source": [
        "dropindx = X.index.difference(df3.index)"
      ]
    },
    {
      "cell_type": "code",
      "execution_count": null,
      "id": "ebc0a810",
      "metadata": {
        "id": "ebc0a810",
        "outputId": "d75b1c31-449d-43fd-be84-44a569ea99fe"
      },
      "outputs": [
        {
          "data": {
            "text/plain": [
              "Int64Index([  9, 126, 130, 155, 171, 177, 183, 185, 278, 308, 333, 369, 402,\n",
              "            409, 417, 432, 443, 487, 506, 523, 525, 561, 581, 600, 604],\n",
              "           dtype='int64')"
            ]
          },
          "execution_count": 587,
          "metadata": {},
          "output_type": "execute_result"
        }
      ],
      "source": [
        "dropindx"
      ]
    },
    {
      "cell_type": "code",
      "execution_count": null,
      "id": "6bbc53de",
      "metadata": {
        "id": "6bbc53de"
      },
      "outputs": [],
      "source": [
        "df.drop(dropindx,inplace = True) #dropping the outliers from original features Dataframe"
      ]
    },
    {
      "cell_type": "code",
      "execution_count": null,
      "id": "b509df33",
      "metadata": {
        "id": "b509df33"
      },
      "outputs": [],
      "source": [
        "df.reset_index(drop=True,inplace = True)"
      ]
    },
    {
      "cell_type": "code",
      "execution_count": null,
      "id": "5e5d321a",
      "metadata": {
        "id": "5e5d321a",
        "outputId": "141e2948-dda0-4472-cfd4-ada5d2ecd3f5"
      },
      "outputs": [
        {
          "data": {
            "text/plain": [
              "(589, 12)"
            ]
          },
          "execution_count": 590,
          "metadata": {},
          "output_type": "execute_result"
        }
      ],
      "source": [
        "df.shape\n"
      ]
    },
    {
      "cell_type": "markdown",
      "id": "97563d78",
      "metadata": {
        "id": "97563d78"
      },
      "source": [
        "# Checking for Skewness in Data"
      ]
    },
    {
      "cell_type": "code",
      "execution_count": null,
      "id": "3d7d7704",
      "metadata": {
        "id": "3d7d7704"
      },
      "outputs": [],
      "source": [
        "X = df.drop(columns = ['Loan_Status'])\n",
        "y = df['Loan_Status']"
      ]
    },
    {
      "cell_type": "code",
      "execution_count": null,
      "id": "3bbeb197",
      "metadata": {
        "id": "3bbeb197",
        "outputId": "63513145-1f73-4017-f51c-acf650abaa38"
      },
      "outputs": [
        {
          "data": {
            "image/png": "[encoded data removed]",
            "text/plain": [
              "<Figure size 1440x1800 with 3 Axes>"
            ]
          },
          "metadata": {},
          "output_type": "display_data"
        }
      ],
      "source": [
        "plt.figure(figsize=(20,25),facecolor='white')\n",
        "plotnum=1\n",
        "for col in X[['ApplicantIncome','CoapplicantIncome','LoanAmount']]:\n",
        "    if plotnum<=16:\n",
        "        plt.subplot(4,4,plotnum)\n",
        "        sns.boxplot(X[col])\n",
        "        plt.xlabel(col,fontsize=20)\n",
        "    plotnum+=1\n",
        "plt.show()"
      ]
    },
    {
      "cell_type": "markdown",
      "id": "0f6921fb",
      "metadata": {
        "id": "0f6921fb"
      },
      "source": [
        "Some outliers have been removed."
      ]
    },
    {
      "cell_type": "markdown",
      "id": "767bc1c4",
      "metadata": {
        "id": "767bc1c4"
      },
      "source": [
        "# Checking for Skewness"
      ]
    },
    {
      "cell_type": "code",
      "execution_count": null,
      "id": "a41e491a",
      "metadata": {
        "scrolled": true,
        "id": "a41e491a",
        "outputId": "1bd911f9-3cba-44e9-9cbe-ea1c0efcef77"
      },
      "outputs": [
        {
          "data": {
            "text/plain": [
              "ApplicantIncome      2.164762\n",
              "CoapplicantIncome    1.353191\n",
              "LoanAmount           1.076221\n",
              "Loan_Amount_Term    -2.433130\n",
              "Credit_History      -1.953298\n",
              "dtype: float64"
            ]
          },
          "execution_count": 593,
          "metadata": {},
          "output_type": "execute_result"
        }
      ],
      "source": [
        "X.skew()"
      ]
    },
    {
      "cell_type": "code",
      "execution_count": null,
      "id": "b4ea2b75",
      "metadata": {
        "scrolled": true,
        "id": "b4ea2b75",
        "outputId": "e6c4131e-89fb-4e70-b69a-a8063a71405a"
      },
      "outputs": [
        {
          "data": {
            "image/png": "[encoded data removed]",
            "text/plain": [
              "<Figure size 1440x1800 with 3 Axes>"
            ]
          },
          "metadata": {},
          "output_type": "display_data"
        }
      ],
      "source": [
        "plt.figure(figsize=(20,25),facecolor='white')\n",
        "plotnum=1\n",
        "for col in X[['ApplicantIncome','CoapplicantIncome','LoanAmount']]:\n",
        "    if plotnum<=35:\n",
        "        plt.subplot(5,5,plotnum)\n",
        "        sns.distplot(X[col])\n",
        "        plt.xlabel(col,fontsize=20)\n",
        "    plotnum+=1\n",
        "plt.show()"
      ]
    },
    {
      "cell_type": "markdown",
      "id": "d82ac50d",
      "metadata": {
        "id": "d82ac50d"
      },
      "source": [
        "Considerable skewness exists in the data distributions."
      ]
    },
    {
      "cell_type": "markdown",
      "id": "a3853431",
      "metadata": {
        "id": "a3853431"
      },
      "source": [
        "# Reducing skewness further using PowerTransformer"
      ]
    },
    {
      "cell_type": "code",
      "execution_count": null,
      "id": "95b42589",
      "metadata": {
        "id": "95b42589"
      },
      "outputs": [],
      "source": [
        "from sklearn.preprocessing import PowerTransformer"
      ]
    },
    {
      "cell_type": "code",
      "execution_count": null,
      "id": "8208a682",
      "metadata": {
        "id": "8208a682"
      },
      "outputs": [],
      "source": [
        "powtrans= PowerTransformer(method='yeo-johnson', standardize=True)"
      ]
    },
    {
      "cell_type": "code",
      "execution_count": null,
      "id": "2ba8bc89",
      "metadata": {
        "id": "2ba8bc89"
      },
      "outputs": [],
      "source": [
        "df4 = X[['ApplicantIncome','CoapplicantIncome','LoanAmount']]"
      ]
    },
    {
      "cell_type": "code",
      "execution_count": null,
      "id": "7dd8e996",
      "metadata": {
        "id": "7dd8e996"
      },
      "outputs": [],
      "source": [
        "transformed= powtrans.fit_transform(df4)"
      ]
    },
    {
      "cell_type": "code",
      "execution_count": null,
      "id": "a01b9646",
      "metadata": {
        "id": "a01b9646"
      },
      "outputs": [],
      "source": [
        "transformed = pd.DataFrame(transformed, columns=df4.columns) #to convert numpy array back into dataframe"
      ]
    },
    {
      "cell_type": "code",
      "execution_count": null,
      "id": "da0bfccb",
      "metadata": {
        "id": "da0bfccb",
        "outputId": "98078217-a882-4b55-a320-62cf1c73eb3a"
      },
      "outputs": [
        {
          "data": {
            "text/plain": [
              "ApplicantIncome      0.028063\n",
              "CoapplicantIncome   -0.186195\n",
              "LoanAmount           0.060143\n",
              "dtype: float64"
            ]
          },
          "execution_count": 600,
          "metadata": {},
          "output_type": "execute_result"
        }
      ],
      "source": [
        "transformed.skew()"
      ]
    },
    {
      "cell_type": "code",
      "execution_count": null,
      "id": "f7816717",
      "metadata": {
        "id": "f7816717"
      },
      "outputs": [],
      "source": [
        "transformed.index = X.index"
      ]
    },
    {
      "cell_type": "code",
      "execution_count": null,
      "id": "d183fd65",
      "metadata": {
        "id": "d183fd65"
      },
      "outputs": [],
      "source": [
        "df[['ApplicantIncome','CoapplicantIncome','LoanAmount']] = transformed[['ApplicantIncome','CoapplicantIncome','LoanAmount']]\n"
      ]
    },
    {
      "cell_type": "code",
      "execution_count": null,
      "id": "7e46d52c",
      "metadata": {
        "id": "7e46d52c",
        "outputId": "cafb2c4c-af7f-4a94-fc56-b046badcb785"
      },
      "outputs": [
        {
          "data": {
            "text/plain": [
              "ApplicantIncome      0.028063\n",
              "CoapplicantIncome   -0.186195\n",
              "LoanAmount           0.060143\n",
              "Loan_Amount_Term    -2.433130\n",
              "Credit_History      -1.953298\n",
              "dtype: float64"
            ]
          },
          "execution_count": 603,
          "metadata": {},
          "output_type": "execute_result"
        }
      ],
      "source": [
        "df.skew()"
      ]
    },
    {
      "cell_type": "code",
      "execution_count": null,
      "id": "140ca623",
      "metadata": {
        "scrolled": true,
        "id": "140ca623",
        "outputId": "e1720b25-e63a-40f5-c25a-3f3013ef2769"
      },
      "outputs": [
        {
          "data": {
            "image/png": "[encoded data removed]",
            "text/plain": [
              "<Figure size 1440x1800 with 3 Axes>"
            ]
          },
          "metadata": {},
          "output_type": "display_data"
        }
      ],
      "source": [
        "plt.figure(figsize=(20,25),facecolor='white')\n",
        "plotnum=1\n",
        "for col in df[['ApplicantIncome','CoapplicantIncome','LoanAmount']]:\n",
        "    if plotnum<=35:\n",
        "        plt.subplot(5,5,plotnum)\n",
        "        sns.distplot(df[col])\n",
        "        plt.xlabel(col,fontsize=20)\n",
        "    plotnum+=1\n",
        "plt.show()"
      ]
    },
    {
      "cell_type": "markdown",
      "id": "1dc78211",
      "metadata": {
        "id": "1dc78211"
      },
      "source": [
        "Distributions look much more Normalised."
      ]
    },
    {
      "cell_type": "markdown",
      "id": "f3ff23ef",
      "metadata": {
        "id": "f3ff23ef"
      },
      "source": [
        "# Encoding the categorical Feature Columns"
      ]
    },
    {
      "cell_type": "code",
      "execution_count": null,
      "id": "f22a3a39",
      "metadata": {
        "id": "f22a3a39",
        "outputId": "bb8f9abc-9a81-4c9b-d46c-fecd2efa04e2"
      },
      "outputs": [
        {
          "data": {
            "text/plain": [
              "Gender           2\n",
              "Married          2\n",
              "Education        2\n",
              "Self_Employed    2\n",
              "Property_Area    3\n",
              "dtype: int64"
            ]
          },
          "execution_count": 605,
          "metadata": {},
          "output_type": "execute_result"
        }
      ],
      "source": [
        "X[['Gender','Married','Education','Self_Employed','Property_Area']].nunique()"
      ]
    },
    {
      "cell_type": "code",
      "execution_count": null,
      "id": "e8ad0dd1",
      "metadata": {
        "id": "e8ad0dd1",
        "outputId": "6c0640ec-d0ac-45c7-8809-c8baa9cde47a"
      },
      "outputs": [
        {
          "data": {
            "text/plain": [
              "['Loan_ID',\n",
              " 'Gender',\n",
              " 'Married',\n",
              " 'Dependents',\n",
              " 'Education',\n",
              " 'Self_Employed',\n",
              " 'Property_Area',\n",
              " 'Loan_Status']"
            ]
          },
          "execution_count": 616,
          "metadata": {},
          "output_type": "execute_result"
        }
      ],
      "source": [
        "object_datatype"
      ]
    },
    {
      "cell_type": "code",
      "execution_count": null,
      "id": "2030b042",
      "metadata": {
        "id": "2030b042"
      },
      "outputs": [],
      "source": [
        "from sklearn.preprocessing import LabelEncoder\n",
        "le=LabelEncoder()\n",
        "for i in object_datatype[1:]:\n",
        "    df[i] = le.fit_transform(df[i].values.reshape(-1,1))"
      ]
    },
    {
      "cell_type": "code",
      "execution_count": null,
      "id": "2c0e05ce",
      "metadata": {
        "id": "2c0e05ce",
        "outputId": "51238f57-e591-4b89-c75c-9f6e15a48b1a"
      },
      "outputs": [
        {
          "data": {
            "text/plain": [
              "Gender                 int32\n",
              "Married                int32\n",
              "Dependents             int32\n",
              "Education              int32\n",
              "Self_Employed          int32\n",
              "ApplicantIncome      float64\n",
              "CoapplicantIncome    float64\n",
              "LoanAmount           float64\n",
              "Loan_Amount_Term     float64\n",
              "Credit_History       float64\n",
              "Property_Area          int32\n",
              "Loan_Status            int32\n",
              "dtype: object"
            ]
          },
          "execution_count": 618,
          "metadata": {},
          "output_type": "execute_result"
        }
      ],
      "source": [
        "df.dtypes"
      ]
    },
    {
      "cell_type": "code",
      "execution_count": null,
      "id": "73c07342",
      "metadata": {
        "id": "73c07342",
        "outputId": "6d378a5f-f1c3-4852-f8b2-0ca0cd61c01e"
      },
      "outputs": [
        {
          "data": {
            "text/html": [
              "<div>\n",
              "<style scoped>\n",
              "    .dataframe tbody tr th:only-of-type {\n",
              "        vertical-align: middle;\n",
              "    }\n",
              "\n",
              "    .dataframe tbody tr th {\n",
              "        vertical-align: top;\n",
              "    }\n",
              "\n",
              "    .dataframe thead th {\n",
              "        text-align: right;\n",
              "    }\n",
              "</style>\n",
              "<table border=\"1\" class=\"dataframe\">\n",
              "  <thead>\n",
              "    <tr style=\"text-align: right;\">\n",
              "      <th></th>\n",
              "      <th>Gender</th>\n",
              "      <th>Married</th>\n",
              "      <th>Dependents</th>\n",
              "      <th>Education</th>\n",
              "      <th>Self_Employed</th>\n",
              "      <th>ApplicantIncome</th>\n",
              "      <th>CoapplicantIncome</th>\n",
              "      <th>LoanAmount</th>\n",
              "      <th>Loan_Amount_Term</th>\n",
              "      <th>Credit_History</th>\n",
              "      <th>Property_Area</th>\n",
              "      <th>Loan_Status</th>\n",
              "    </tr>\n",
              "  </thead>\n",
              "  <tbody>\n",
              "    <tr>\n",
              "      <th>0</th>\n",
              "      <td>1</td>\n",
              "      <td>0</td>\n",
              "      <td>0</td>\n",
              "      <td>0</td>\n",
              "      <td>0</td>\n",
              "      <td>0.688986</td>\n",
              "      <td>-1.119438</td>\n",
              "      <td>0.316179</td>\n",
              "      <td>360.0</td>\n",
              "      <td>1.0</td>\n",
              "      <td>2</td>\n",
              "      <td>1</td>\n",
              "    </tr>\n",
              "    <tr>\n",
              "      <th>1</th>\n",
              "      <td>1</td>\n",
              "      <td>1</td>\n",
              "      <td>1</td>\n",
              "      <td>0</td>\n",
              "      <td>0</td>\n",
              "      <td>0.239843</td>\n",
              "      <td>0.748807</td>\n",
              "      <td>-0.012325</td>\n",
              "      <td>360.0</td>\n",
              "      <td>1.0</td>\n",
              "      <td>0</td>\n",
              "      <td>0</td>\n",
              "    </tr>\n",
              "    <tr>\n",
              "      <th>2</th>\n",
              "      <td>1</td>\n",
              "      <td>1</td>\n",
              "      <td>0</td>\n",
              "      <td>0</td>\n",
              "      <td>1</td>\n",
              "      <td>-0.525799</td>\n",
              "      <td>-1.119438</td>\n",
              "      <td>-1.391277</td>\n",
              "      <td>360.0</td>\n",
              "      <td>1.0</td>\n",
              "      <td>2</td>\n",
              "      <td>1</td>\n",
              "    </tr>\n",
              "    <tr>\n",
              "      <th>3</th>\n",
              "      <td>1</td>\n",
              "      <td>1</td>\n",
              "      <td>0</td>\n",
              "      <td>1</td>\n",
              "      <td>0</td>\n",
              "      <td>-0.791841</td>\n",
              "      <td>0.899419</td>\n",
              "      <td>-0.163769</td>\n",
              "      <td>360.0</td>\n",
              "      <td>1.0</td>\n",
              "      <td>2</td>\n",
              "      <td>1</td>\n",
              "    </tr>\n",
              "    <tr>\n",
              "      <th>4</th>\n",
              "      <td>1</td>\n",
              "      <td>0</td>\n",
              "      <td>0</td>\n",
              "      <td>0</td>\n",
              "      <td>0</td>\n",
              "      <td>0.736280</td>\n",
              "      <td>-1.119438</td>\n",
              "      <td>0.222283</td>\n",
              "      <td>360.0</td>\n",
              "      <td>1.0</td>\n",
              "      <td>2</td>\n",
              "      <td>1</td>\n",
              "    </tr>\n",
              "  </tbody>\n",
              "</table>\n",
              "</div>"
            ],
            "text/plain": [
              "   Gender  Married  Dependents  Education  Self_Employed  ApplicantIncome  \\\n",
              "0       1        0           0          0              0         0.688986   \n",
              "1       1        1           1          0              0         0.239843   \n",
              "2       1        1           0          0              1        -0.525799   \n",
              "3       1        1           0          1              0        -0.791841   \n",
              "4       1        0           0          0              0         0.736280   \n",
              "\n",
              "   CoapplicantIncome  LoanAmount  Loan_Amount_Term  Credit_History  \\\n",
              "0          -1.119438    0.316179             360.0             1.0   \n",
              "1           0.748807   -0.012325             360.0             1.0   \n",
              "2          -1.119438   -1.391277             360.0             1.0   \n",
              "3           0.899419   -0.163769             360.0             1.0   \n",
              "4          -1.119438    0.222283             360.0             1.0   \n",
              "\n",
              "   Property_Area  Loan_Status  \n",
              "0              2            1  \n",
              "1              0            0  \n",
              "2              2            1  \n",
              "3              2            1  \n",
              "4              2            1  "
            ]
          },
          "execution_count": 619,
          "metadata": {},
          "output_type": "execute_result"
        }
      ],
      "source": [
        "df.head()"
      ]
    },
    {
      "cell_type": "code",
      "execution_count": null,
      "id": "91ca93a1",
      "metadata": {
        "scrolled": true,
        "id": "91ca93a1",
        "outputId": "d3a8f2e0-1f36-4fa0-b8e3-cfabc9778ed5"
      },
      "outputs": [
        {
          "data": {
            "text/plain": [
              "array([1, 0])"
            ]
          },
          "execution_count": 620,
          "metadata": {},
          "output_type": "execute_result"
        }
      ],
      "source": [
        "df['Loan_Status'].unique()"
      ]
    },
    {
      "cell_type": "markdown",
      "id": "42e0cebc",
      "metadata": {
        "id": "42e0cebc"
      },
      "source": [
        "Loan Granted= 1, Loan not Granted=0"
      ]
    },
    {
      "cell_type": "markdown",
      "id": "1590f7f7",
      "metadata": {
        "id": "1590f7f7"
      },
      "source": [
        "# Finding Correlation"
      ]
    },
    {
      "cell_type": "code",
      "execution_count": null,
      "id": "dfa685fd",
      "metadata": {
        "scrolled": true,
        "id": "dfa685fd",
        "outputId": "e6bef9c0-1748-4829-9ffb-f783a3d7c41b"
      },
      "outputs": [
        {
          "data": {
            "text/html": [
              "<div>\n",
              "<style scoped>\n",
              "    .dataframe tbody tr th:only-of-type {\n",
              "        vertical-align: middle;\n",
              "    }\n",
              "\n",
              "    .dataframe tbody tr th {\n",
              "        vertical-align: top;\n",
              "    }\n",
              "\n",
              "    .dataframe thead th {\n",
              "        text-align: right;\n",
              "    }\n",
              "</style>\n",
              "<table border=\"1\" class=\"dataframe\">\n",
              "  <thead>\n",
              "    <tr style=\"text-align: right;\">\n",
              "      <th></th>\n",
              "      <th>Gender</th>\n",
              "      <th>Married</th>\n",
              "      <th>Dependents</th>\n",
              "      <th>Education</th>\n",
              "      <th>Self_Employed</th>\n",
              "      <th>ApplicantIncome</th>\n",
              "      <th>CoapplicantIncome</th>\n",
              "      <th>LoanAmount</th>\n",
              "      <th>Loan_Amount_Term</th>\n",
              "      <th>Credit_History</th>\n",
              "      <th>Property_Area</th>\n",
              "      <th>Loan_Status</th>\n",
              "    </tr>\n",
              "  </thead>\n",
              "  <tbody>\n",
              "    <tr>\n",
              "      <th>Gender</th>\n",
              "      <td>1.000000</td>\n",
              "      <td>0.374745</td>\n",
              "      <td>0.184580</td>\n",
              "      <td>0.050036</td>\n",
              "      <td>0.000841</td>\n",
              "      <td>0.058502</td>\n",
              "      <td>0.230767</td>\n",
              "      <td>0.158553</td>\n",
              "      <td>-0.084495</td>\n",
              "      <td>0.016096</td>\n",
              "      <td>-0.022807</td>\n",
              "      <td>0.021942</td>\n",
              "    </tr>\n",
              "    <tr>\n",
              "      <th>Married</th>\n",
              "      <td>0.374745</td>\n",
              "      <td>1.000000</td>\n",
              "      <td>0.333887</td>\n",
              "      <td>0.015846</td>\n",
              "      <td>-0.004453</td>\n",
              "      <td>-0.022535</td>\n",
              "      <td>0.334429</td>\n",
              "      <td>0.173314</td>\n",
              "      <td>-0.100764</td>\n",
              "      <td>0.012408</td>\n",
              "      <td>0.010586</td>\n",
              "      <td>0.095124</td>\n",
              "    </tr>\n",
              "    <tr>\n",
              "      <th>Dependents</th>\n",
              "      <td>0.184580</td>\n",
              "      <td>0.333887</td>\n",
              "      <td>1.000000</td>\n",
              "      <td>0.068588</td>\n",
              "      <td>0.055481</td>\n",
              "      <td>0.105559</td>\n",
              "      <td>0.001199</td>\n",
              "      <td>0.128371</td>\n",
              "      <td>-0.088304</td>\n",
              "      <td>-0.014654</td>\n",
              "      <td>0.006005</td>\n",
              "      <td>0.021937</td>\n",
              "    </tr>\n",
              "    <tr>\n",
              "      <th>Education</th>\n",
              "      <td>0.050036</td>\n",
              "      <td>0.015846</td>\n",
              "      <td>0.068588</td>\n",
              "      <td>1.000000</td>\n",
              "      <td>-0.003507</td>\n",
              "      <td>-0.168924</td>\n",
              "      <td>0.037050</td>\n",
              "      <td>-0.131758</td>\n",
              "      <td>-0.079807</td>\n",
              "      <td>-0.078559</td>\n",
              "      <td>-0.065623</td>\n",
              "      <td>-0.092852</td>\n",
              "    </tr>\n",
              "    <tr>\n",
              "      <th>Self_Employed</th>\n",
              "      <td>0.000841</td>\n",
              "      <td>-0.004453</td>\n",
              "      <td>0.055481</td>\n",
              "      <td>-0.003507</td>\n",
              "      <td>1.000000</td>\n",
              "      <td>0.215911</td>\n",
              "      <td>-0.100679</td>\n",
              "      <td>0.105670</td>\n",
              "      <td>-0.054191</td>\n",
              "      <td>-0.012904</td>\n",
              "      <td>-0.030248</td>\n",
              "      <td>-0.016617</td>\n",
              "    </tr>\n",
              "    <tr>\n",
              "      <th>ApplicantIncome</th>\n",
              "      <td>0.058502</td>\n",
              "      <td>-0.022535</td>\n",
              "      <td>0.105559</td>\n",
              "      <td>-0.168924</td>\n",
              "      <td>0.215911</td>\n",
              "      <td>1.000000</td>\n",
              "      <td>-0.359986</td>\n",
              "      <td>0.438097</td>\n",
              "      <td>-0.040969</td>\n",
              "      <td>0.032011</td>\n",
              "      <td>-0.016277</td>\n",
              "      <td>-0.003320</td>\n",
              "    </tr>\n",
              "    <tr>\n",
              "      <th>CoapplicantIncome</th>\n",
              "      <td>0.230767</td>\n",
              "      <td>0.334429</td>\n",
              "      <td>0.001199</td>\n",
              "      <td>0.037050</td>\n",
              "      <td>-0.100679</td>\n",
              "      <td>-0.359986</td>\n",
              "      <td>1.000000</td>\n",
              "      <td>0.196155</td>\n",
              "      <td>0.012664</td>\n",
              "      <td>0.000218</td>\n",
              "      <td>-0.068086</td>\n",
              "      <td>0.080277</td>\n",
              "    </tr>\n",
              "    <tr>\n",
              "      <th>LoanAmount</th>\n",
              "      <td>0.158553</td>\n",
              "      <td>0.173314</td>\n",
              "      <td>0.128371</td>\n",
              "      <td>-0.131758</td>\n",
              "      <td>0.105670</td>\n",
              "      <td>0.438097</td>\n",
              "      <td>0.196155</td>\n",
              "      <td>1.000000</td>\n",
              "      <td>0.094820</td>\n",
              "      <td>-0.012470</td>\n",
              "      <td>-0.098616</td>\n",
              "      <td>-0.039999</td>\n",
              "    </tr>\n",
              "    <tr>\n",
              "      <th>Loan_Amount_Term</th>\n",
              "      <td>-0.084495</td>\n",
              "      <td>-0.100764</td>\n",
              "      <td>-0.088304</td>\n",
              "      <td>-0.079807</td>\n",
              "      <td>-0.054191</td>\n",
              "      <td>-0.040969</td>\n",
              "      <td>0.012664</td>\n",
              "      <td>0.094820</td>\n",
              "      <td>1.000000</td>\n",
              "      <td>-0.007756</td>\n",
              "      <td>-0.071976</td>\n",
              "      <td>-0.021418</td>\n",
              "    </tr>\n",
              "    <tr>\n",
              "      <th>Credit_History</th>\n",
              "      <td>0.016096</td>\n",
              "      <td>0.012408</td>\n",
              "      <td>-0.014654</td>\n",
              "      <td>-0.078559</td>\n",
              "      <td>-0.012904</td>\n",
              "      <td>0.032011</td>\n",
              "      <td>0.000218</td>\n",
              "      <td>-0.012470</td>\n",
              "      <td>-0.007756</td>\n",
              "      <td>1.000000</td>\n",
              "      <td>-0.007020</td>\n",
              "      <td>0.555902</td>\n",
              "    </tr>\n",
              "    <tr>\n",
              "      <th>Property_Area</th>\n",
              "      <td>-0.022807</td>\n",
              "      <td>0.010586</td>\n",
              "      <td>0.006005</td>\n",
              "      <td>-0.065623</td>\n",
              "      <td>-0.030248</td>\n",
              "      <td>-0.016277</td>\n",
              "      <td>-0.068086</td>\n",
              "      <td>-0.098616</td>\n",
              "      <td>-0.071976</td>\n",
              "      <td>-0.007020</td>\n",
              "      <td>1.000000</td>\n",
              "      <td>0.034894</td>\n",
              "    </tr>\n",
              "    <tr>\n",
              "      <th>Loan_Status</th>\n",
              "      <td>0.021942</td>\n",
              "      <td>0.095124</td>\n",
              "      <td>0.021937</td>\n",
              "      <td>-0.092852</td>\n",
              "      <td>-0.016617</td>\n",
              "      <td>-0.003320</td>\n",
              "      <td>0.080277</td>\n",
              "      <td>-0.039999</td>\n",
              "      <td>-0.021418</td>\n",
              "      <td>0.555902</td>\n",
              "      <td>0.034894</td>\n",
              "      <td>1.000000</td>\n",
              "    </tr>\n",
              "  </tbody>\n",
              "</table>\n",
              "</div>"
            ],
            "text/plain": [
              "                     Gender   Married  Dependents  Education  Self_Employed  \\\n",
              "Gender             1.000000  0.374745    0.184580   0.050036       0.000841   \n",
              "Married            0.374745  1.000000    0.333887   0.015846      -0.004453   \n",
              "Dependents         0.184580  0.333887    1.000000   0.068588       0.055481   \n",
              "Education          0.050036  0.015846    0.068588   1.000000      -0.003507   \n",
              "Self_Employed      0.000841 -0.004453    0.055481  -0.003507       1.000000   \n",
              "ApplicantIncome    0.058502 -0.022535    0.105559  -0.168924       0.215911   \n",
              "CoapplicantIncome  0.230767  0.334429    0.001199   0.037050      -0.100679   \n",
              "LoanAmount         0.158553  0.173314    0.128371  -0.131758       0.105670   \n",
              "Loan_Amount_Term  -0.084495 -0.100764   -0.088304  -0.079807      -0.054191   \n",
              "Credit_History     0.016096  0.012408   -0.014654  -0.078559      -0.012904   \n",
              "Property_Area     -0.022807  0.010586    0.006005  -0.065623      -0.030248   \n",
              "Loan_Status        0.021942  0.095124    0.021937  -0.092852      -0.016617   \n",
              "\n",
              "                   ApplicantIncome  CoapplicantIncome  LoanAmount  \\\n",
              "Gender                    0.058502           0.230767    0.158553   \n",
              "Married                  -0.022535           0.334429    0.173314   \n",
              "Dependents                0.105559           0.001199    0.128371   \n",
              "Education                -0.168924           0.037050   -0.131758   \n",
              "Self_Employed             0.215911          -0.100679    0.105670   \n",
              "ApplicantIncome           1.000000          -0.359986    0.438097   \n",
              "CoapplicantIncome        -0.359986           1.000000    0.196155   \n",
              "LoanAmount                0.438097           0.196155    1.000000   \n",
              "Loan_Amount_Term         -0.040969           0.012664    0.094820   \n",
              "Credit_History            0.032011           0.000218   -0.012470   \n",
              "Property_Area            -0.016277          -0.068086   -0.098616   \n",
              "Loan_Status              -0.003320           0.080277   -0.039999   \n",
              "\n",
              "                   Loan_Amount_Term  Credit_History  Property_Area  \\\n",
              "Gender                    -0.084495        0.016096      -0.022807   \n",
              "Married                   -0.100764        0.012408       0.010586   \n",
              "Dependents                -0.088304       -0.014654       0.006005   \n",
              "Education                 -0.079807       -0.078559      -0.065623   \n",
              "Self_Employed             -0.054191       -0.012904      -0.030248   \n",
              "ApplicantIncome           -0.040969        0.032011      -0.016277   \n",
              "CoapplicantIncome          0.012664        0.000218      -0.068086   \n",
              "LoanAmount                 0.094820       -0.012470      -0.098616   \n",
              "Loan_Amount_Term           1.000000       -0.007756      -0.071976   \n",
              "Credit_History            -0.007756        1.000000      -0.007020   \n",
              "Property_Area             -0.071976       -0.007020       1.000000   \n",
              "Loan_Status               -0.021418        0.555902       0.034894   \n",
              "\n",
              "                   Loan_Status  \n",
              "Gender                0.021942  \n",
              "Married               0.095124  \n",
              "Dependents            0.021937  \n",
              "Education            -0.092852  \n",
              "Self_Employed        -0.016617  \n",
              "ApplicantIncome      -0.003320  \n",
              "CoapplicantIncome     0.080277  \n",
              "LoanAmount           -0.039999  \n",
              "Loan_Amount_Term     -0.021418  \n",
              "Credit_History        0.555902  \n",
              "Property_Area         0.034894  \n",
              "Loan_Status           1.000000  "
            ]
          },
          "execution_count": 621,
          "metadata": {},
          "output_type": "execute_result"
        }
      ],
      "source": [
        "df.corr()"
      ]
    },
    {
      "cell_type": "code",
      "execution_count": null,
      "id": "a0806903",
      "metadata": {
        "id": "a0806903",
        "outputId": "ef5502da-162f-4081-fb98-f912419762fe"
      },
      "outputs": [
        {
          "data": {
            "image/png": "[encoded data removed]",
            "text/plain": [
              "<Figure size 1080x1152 with 2 Axes>"
            ]
          },
          "metadata": {
            "needs_background": "light"
          },
          "output_type": "display_data"
        }
      ],
      "source": [
        "plt.figure(figsize=(15,16))\n",
        "sns.heatmap(df.corr(),annot=True,)\n",
        "plt.show()"
      ]
    },
    {
      "cell_type": "markdown",
      "id": "23a7f1a6",
      "metadata": {
        "id": "23a7f1a6"
      },
      "source": [
        "# Visualizing correlation of feature columns with label column"
      ]
    },
    {
      "cell_type": "code",
      "execution_count": null,
      "id": "9a8827dc",
      "metadata": {
        "id": "9a8827dc",
        "outputId": "cfaa0c56-c326-43b6-e7a1-020e2a348b3d"
      },
      "outputs": [
        {
          "data": {
            "image/png": "[encoded data removed]",
            "text/plain": [
              "<Figure size 1080x576 with 1 Axes>"
            ]
          },
          "metadata": {
            "needs_background": "light"
          },
          "output_type": "display_data"
        }
      ],
      "source": [
        "plt.figure(figsize = (15,8))\n",
        "df.corr()['Loan_Status'].sort_values(ascending = False).drop(['Loan_Status']).plot(kind='bar',color = 'c')\n",
        "plt.xlabel('Features',fontsize=25)\n",
        "plt.ylabel('Loan_Status',fontsize=25)\n",
        "plt.title('Correlation',fontsize = 25)\n",
        "plt.show()"
      ]
    },
    {
      "cell_type": "markdown",
      "id": "6a290ddd",
      "metadata": {
        "id": "6a290ddd"
      },
      "source": [
        "Credit_History,Married,CoapplicantIncome,Property_Area,Gender,Dependents have the positive correlation with Loan_Status, while ApplicantIncome,Self_Employed,Load_Amount_Term,LoanAmount & Education have the highest negative correlation with Loan_Status."
      ]
    },
    {
      "cell_type": "code",
      "execution_count": null,
      "id": "5e8ff88f",
      "metadata": {
        "id": "5e8ff88f",
        "outputId": "8163c9ae-b692-476f-d3bd-11d6e88e6233"
      },
      "outputs": [
        {
          "data": {
            "text/plain": [
              "<seaborn.axisgrid.PairGrid at 0x29486064160>"
            ]
          },
          "execution_count": 610,
          "metadata": {},
          "output_type": "execute_result"
        },
        {
          "data": {
            "image/png": "[encoded data removed]",
            "text/plain": [
              "<Figure size 900x900 with 30 Axes>"
            ]
          },
          "metadata": {
            "needs_background": "light"
          },
          "output_type": "display_data"
        }
      ],
      "source": [
        "sns.pairplot(df)"
      ]
    },
    {
      "cell_type": "code",
      "execution_count": null,
      "id": "f810d3b6",
      "metadata": {
        "id": "f810d3b6"
      },
      "outputs": [],
      "source": [
        "# LoanAmount have positive correlation with ApplicantIncome"
      ]
    },
    {
      "cell_type": "code",
      "execution_count": null,
      "id": "ad125f11",
      "metadata": {
        "id": "ad125f11"
      },
      "outputs": [],
      "source": [
        "X = df.drop(columns = ['Loan_Status'])\n",
        "Y = df['Loan_Status']"
      ]
    },
    {
      "cell_type": "markdown",
      "id": "5d87de8c",
      "metadata": {
        "id": "5d87de8c"
      },
      "source": [
        "# Feature Selection"
      ]
    },
    {
      "cell_type": "code",
      "execution_count": null,
      "id": "8a78624c",
      "metadata": {
        "id": "8a78624c"
      },
      "outputs": [],
      "source": [
        "from sklearn.preprocessing import StandardScaler"
      ]
    },
    {
      "cell_type": "code",
      "execution_count": null,
      "id": "e644bd6c",
      "metadata": {
        "id": "e644bd6c"
      },
      "outputs": [],
      "source": [
        "scaler= StandardScaler()\n",
        "scaled_X = scaler.fit_transform(X)"
      ]
    },
    {
      "cell_type": "code",
      "execution_count": null,
      "id": "0e966df5",
      "metadata": {
        "id": "0e966df5",
        "outputId": "2f9ef6d8-afc5-4605-b9ea-256a4bc4395a"
      },
      "outputs": [
        {
          "data": {
            "text/plain": [
              "array([[ 0.47653262, -1.36353339, -0.72840172, ...,  0.27920736,\n",
              "         0.45251671,  1.22292864],\n",
              "       [ 0.47653262,  0.73338872,  0.27634913, ...,  0.27920736,\n",
              "         0.45251671, -1.31335646],\n",
              "       [ 0.47653262,  0.73338872, -0.72840172, ...,  0.27920736,\n",
              "         0.45251671,  1.22292864],\n",
              "       ...,\n",
              "       [ 0.47653262,  0.73338872,  0.27634913, ...,  0.27920736,\n",
              "         0.45251671,  1.22292864],\n",
              "       [ 0.47653262,  0.73338872,  1.28109999, ...,  0.27920736,\n",
              "         0.45251671,  1.22292864],\n",
              "       [-2.09849225, -1.36353339, -0.72840172, ...,  0.27920736,\n",
              "        -2.40063947, -0.04521391]])"
            ]
          },
          "execution_count": 633,
          "metadata": {},
          "output_type": "execute_result"
        }
      ],
      "source": [
        "scaled_X"
      ]
    },
    {
      "cell_type": "markdown",
      "id": "dadd6542",
      "metadata": {
        "id": "dadd6542"
      },
      "source": [
        "# Checking for Multicollinearity using Variance Inflation Factor"
      ]
    },
    {
      "cell_type": "code",
      "execution_count": null,
      "id": "9baa32b5",
      "metadata": {
        "id": "9baa32b5"
      },
      "outputs": [],
      "source": [
        "from statsmodels.stats.outliers_influence import variance_inflation_factor"
      ]
    },
    {
      "cell_type": "code",
      "execution_count": null,
      "id": "f170cd97",
      "metadata": {
        "id": "f170cd97"
      },
      "outputs": [],
      "source": [
        "vif = pd.DataFrame()\n"
      ]
    },
    {
      "cell_type": "code",
      "execution_count": null,
      "id": "bc8239a9",
      "metadata": {
        "id": "bc8239a9"
      },
      "outputs": [],
      "source": [
        "vif[\"Features\"] = X.columns\n",
        "vif['vif'] = [variance_inflation_factor(scaled_X,i) for i in range(scaled_X.shape[1])]"
      ]
    },
    {
      "cell_type": "code",
      "execution_count": null,
      "id": "48a73fb3",
      "metadata": {
        "id": "48a73fb3",
        "outputId": "caed23ab-7c73-46ee-fd60-a31a30f7d41d"
      },
      "outputs": [
        {
          "data": {
            "text/html": [
              "<div>\n",
              "<style scoped>\n",
              "    .dataframe tbody tr th:only-of-type {\n",
              "        vertical-align: middle;\n",
              "    }\n",
              "\n",
              "    .dataframe tbody tr th {\n",
              "        vertical-align: top;\n",
              "    }\n",
              "\n",
              "    .dataframe thead th {\n",
              "        text-align: right;\n",
              "    }\n",
              "</style>\n",
              "<table border=\"1\" class=\"dataframe\">\n",
              "  <thead>\n",
              "    <tr style=\"text-align: right;\">\n",
              "      <th></th>\n",
              "      <th>Features</th>\n",
              "      <th>vif</th>\n",
              "    </tr>\n",
              "  </thead>\n",
              "  <tbody>\n",
              "    <tr>\n",
              "      <th>0</th>\n",
              "      <td>Gender</td>\n",
              "      <td>1.215437</td>\n",
              "    </tr>\n",
              "    <tr>\n",
              "      <th>1</th>\n",
              "      <td>Married</td>\n",
              "      <td>1.411776</td>\n",
              "    </tr>\n",
              "    <tr>\n",
              "      <th>2</th>\n",
              "      <td>Dependents</td>\n",
              "      <td>1.174352</td>\n",
              "    </tr>\n",
              "    <tr>\n",
              "      <th>3</th>\n",
              "      <td>Education</td>\n",
              "      <td>1.066578</td>\n",
              "    </tr>\n",
              "    <tr>\n",
              "      <th>4</th>\n",
              "      <td>Self_Employed</td>\n",
              "      <td>1.056177</td>\n",
              "    </tr>\n",
              "    <tr>\n",
              "      <th>5</th>\n",
              "      <td>ApplicantIncome</td>\n",
              "      <td>1.767331</td>\n",
              "    </tr>\n",
              "    <tr>\n",
              "      <th>6</th>\n",
              "      <td>CoapplicantIncome</td>\n",
              "      <td>1.591527</td>\n",
              "    </tr>\n",
              "    <tr>\n",
              "      <th>7</th>\n",
              "      <td>LoanAmount</td>\n",
              "      <td>1.572401</td>\n",
              "    </tr>\n",
              "    <tr>\n",
              "      <th>8</th>\n",
              "      <td>Loan_Amount_Term</td>\n",
              "      <td>1.055043</td>\n",
              "    </tr>\n",
              "    <tr>\n",
              "      <th>9</th>\n",
              "      <td>Credit_History</td>\n",
              "      <td>1.009754</td>\n",
              "    </tr>\n",
              "    <tr>\n",
              "      <th>10</th>\n",
              "      <td>Property_Area</td>\n",
              "      <td>1.026291</td>\n",
              "    </tr>\n",
              "  </tbody>\n",
              "</table>\n",
              "</div>"
            ],
            "text/plain": [
              "             Features       vif\n",
              "0              Gender  1.215437\n",
              "1             Married  1.411776\n",
              "2          Dependents  1.174352\n",
              "3           Education  1.066578\n",
              "4       Self_Employed  1.056177\n",
              "5     ApplicantIncome  1.767331\n",
              "6   CoapplicantIncome  1.591527\n",
              "7          LoanAmount  1.572401\n",
              "8    Loan_Amount_Term  1.055043\n",
              "9      Credit_History  1.009754\n",
              "10      Property_Area  1.026291"
            ]
          },
          "execution_count": 637,
          "metadata": {},
          "output_type": "execute_result"
        }
      ],
      "source": [
        "vif"
      ]
    },
    {
      "cell_type": "markdown",
      "id": "bd25f779",
      "metadata": {
        "id": "bd25f779"
      },
      "source": [
        "There is no Multicollinearity"
      ]
    },
    {
      "cell_type": "markdown",
      "id": "62dfb06b",
      "metadata": {
        "id": "62dfb06b"
      },
      "source": [
        "# This is a Classification problem since Target/ Lable column ('Loan_Status') has Categorical type of Data."
      ]
    },
    {
      "cell_type": "markdown",
      "id": "7cbc745a",
      "metadata": {
        "id": "7cbc745a"
      },
      "source": [
        "# Classification Model Building"
      ]
    },
    {
      "cell_type": "code",
      "execution_count": null,
      "id": "bcc7472e",
      "metadata": {
        "id": "bcc7472e"
      },
      "outputs": [],
      "source": [
        "from sklearn.model_selection import train_test_split\n",
        "from sklearn.linear_model import LogisticRegression\n",
        "from sklearn.svm import SVC\n",
        "from sklearn.tree import DecisionTreeClassifier\n",
        "from sklearn.ensemble import RandomForestClassifier\n",
        "from sklearn.ensemble import AdaBoostClassifier, RandomForestClassifier\n",
        "from sklearn.naive_bayes import GaussianNB\n",
        "from sklearn.ensemble import ExtraTreesClassifier\n",
        "from sklearn.neighbors import KNeighborsClassifier\n",
        "from sklearn.ensemble import GradientBoostingClassifier\n",
        "from sklearn.ensemble import VotingClassifier\n",
        "from sklearn import metrics\n",
        "from sklearn.metrics import classification_report\n",
        "from sklearn.metrics import accuracy_score\n",
        "from sklearn.model_selection import cross_val_score\n",
        "from sklearn.metrics import roc_auc_score, confusion_matrix"
      ]
    },
    {
      "cell_type": "code",
      "execution_count": null,
      "id": "be4c2169",
      "metadata": {
        "id": "be4c2169",
        "outputId": "abe54e4c-7a59-4ae2-a503-abba163385fb"
      },
      "outputs": [
        {
          "name": "stdout",
          "output_type": "stream",
          "text": [
            "Best accuracy score is 90.67796610169492 on Random State 744\n"
          ]
        }
      ],
      "source": [
        "maxAccu=0\n",
        "maxRS=0\n",
        "\n",
        "for i in range(1, 1000):\n",
        "    X_train, X_test, Y_train, Y_test = train_test_split(scaled_X, Y, test_size=0.20, random_state=i)\n",
        "    lr=LogisticRegression()\n",
        "    lr.fit(X_train, Y_train)\n",
        "    pred = lr.predict(X_test)\n",
        "    acc_score = (accuracy_score(Y_test, pred))*100\n",
        "    \n",
        "    if acc_score>maxAccu:\n",
        "        maxAccu=acc_score\n",
        "        maxRS=i\n",
        "\n",
        "print(\"Best accuracy score is\", maxAccu,\"on Random State\", maxRS)"
      ]
    },
    {
      "cell_type": "code",
      "execution_count": null,
      "id": "dee5f3ec",
      "metadata": {
        "id": "dee5f3ec"
      },
      "outputs": [],
      "source": [
        "lg= LogisticRegression()\n",
        "dtc=DecisionTreeClassifier()\n",
        "SV =  SVC()\n",
        "knn = KNeighborsClassifier()\n",
        "rfc = RandomForestClassifier()\n",
        "adbc = AdaBoostClassifier()\n",
        "gnb = GaussianNB()\n",
        "etc=ExtraTreesClassifier()\n",
        "gbc = GradientBoostingClassifier()"
      ]
    },
    {
      "cell_type": "markdown",
      "id": "4b3d2068",
      "metadata": {
        "id": "4b3d2068"
      },
      "source": [
        "# Training the Models"
      ]
    },
    {
      "cell_type": "code",
      "execution_count": null,
      "id": "b87c6aed",
      "metadata": {
        "id": "b87c6aed",
        "outputId": "9cecf076-ac6e-4d50-9e26-a4d869c67b6b"
      },
      "outputs": [
        {
          "data": {
            "text/html": [
              "<style>#sk-container-id-2 {color: black;background-color: white;}#sk-container-id-2 pre{padding: 0;}#sk-container-id-2 div.sk-toggleable {background-color: white;}#sk-container-id-2 label.sk-toggleable__label {cursor: pointer;display: block;width: 100%;margin-bottom: 0;padding: 0.3em;box-sizing: border-box;text-align: center;}#sk-container-id-2 label.sk-toggleable__label-arrow:before {content: \"▸\";float: left;margin-right: 0.25em;color: #696969;}#sk-container-id-2 label.sk-toggleable__label-arrow:hover:before {color: black;}#sk-container-id-2 div.sk-estimator:hover label.sk-toggleable__label-arrow:before {color: black;}#sk-container-id-2 div.sk-toggleable__content {max-height: 0;max-width: 0;overflow: hidden;text-align: left;background-color: #f0f8ff;}#sk-container-id-2 div.sk-toggleable__content pre {margin: 0.2em;color: black;border-radius: 0.25em;background-color: #f0f8ff;}#sk-container-id-2 input.sk-toggleable__control:checked~div.sk-toggleable__content {max-height: 200px;max-width: 100%;overflow: auto;}#sk-container-id-2 input.sk-toggleable__control:checked~label.sk-toggleable__label-arrow:before {content: \"▾\";}#sk-container-id-2 div.sk-estimator input.sk-toggleable__control:checked~label.sk-toggleable__label {background-color: #d4ebff;}#sk-container-id-2 div.sk-label input.sk-toggleable__control:checked~label.sk-toggleable__label {background-color: #d4ebff;}#sk-container-id-2 input.sk-hidden--visually {border: 0;clip: rect(1px 1px 1px 1px);clip: rect(1px, 1px, 1px, 1px);height: 1px;margin: -1px;overflow: hidden;padding: 0;position: absolute;width: 1px;}#sk-container-id-2 div.sk-estimator {font-family: monospace;background-color: #f0f8ff;border: 1px dotted black;border-radius: 0.25em;box-sizing: border-box;margin-bottom: 0.5em;}#sk-container-id-2 div.sk-estimator:hover {background-color: #d4ebff;}#sk-container-id-2 div.sk-parallel-item::after {content: \"\";width: 100%;border-bottom: 1px solid gray;flex-grow: 1;}#sk-container-id-2 div.sk-label:hover label.sk-toggleable__label {background-color: #d4ebff;}#sk-container-id-2 div.sk-serial::before {content: \"\";position: absolute;border-left: 1px solid gray;box-sizing: border-box;top: 0;bottom: 0;left: 50%;z-index: 0;}#sk-container-id-2 div.sk-serial {display: flex;flex-direction: column;align-items: center;background-color: white;padding-right: 0.2em;padding-left: 0.2em;position: relative;}#sk-container-id-2 div.sk-item {position: relative;z-index: 1;}#sk-container-id-2 div.sk-parallel {display: flex;align-items: stretch;justify-content: center;background-color: white;position: relative;}#sk-container-id-2 div.sk-item::before, #sk-container-id-2 div.sk-parallel-item::before {content: \"\";position: absolute;border-left: 1px solid gray;box-sizing: border-box;top: 0;bottom: 0;left: 50%;z-index: -1;}#sk-container-id-2 div.sk-parallel-item {display: flex;flex-direction: column;z-index: 1;position: relative;background-color: white;}#sk-container-id-2 div.sk-parallel-item:first-child::after {align-self: flex-end;width: 50%;}#sk-container-id-2 div.sk-parallel-item:last-child::after {align-self: flex-start;width: 50%;}#sk-container-id-2 div.sk-parallel-item:only-child::after {width: 0;}#sk-container-id-2 div.sk-dashed-wrapped {border: 1px dashed gray;margin: 0 0.4em 0.5em 0.4em;box-sizing: border-box;padding-bottom: 0.4em;background-color: white;}#sk-container-id-2 div.sk-label label {font-family: monospace;font-weight: bold;display: inline-block;line-height: 1.2em;}#sk-container-id-2 div.sk-label-container {text-align: center;}#sk-container-id-2 div.sk-container {/* jupyter's `normalize.less` sets `[hidden] { display: none; }` but bootstrap.min.css set `[hidden] { display: none !important; }` so we also need the `!important` here to be able to override the default hidden behavior on the sphinx rendered scikit-learn.org. See: https://github.com/scikit-learn/scikit-learn/issues/21755 */display: inline-block !important;position: relative;}#sk-container-id-2 div.sk-text-repr-fallback {display: none;}</style><div id=\"sk-container-id-2\" class=\"sk-top-container\"><div class=\"sk-text-repr-fallback\"><pre>GradientBoostingClassifier()</pre><b>In a Jupyter environment, please rerun this cell to show the HTML representation or trust the notebook. <br />On GitHub, the HTML representation is unable to render, please try loading this page with nbviewer.org.</b></div><div class=\"sk-container\" hidden><div class=\"sk-item\"><div class=\"sk-estimator sk-toggleable\"><input class=\"sk-toggleable__control sk-hidden--visually\" id=\"sk-estimator-id-2\" type=\"checkbox\" checked><label for=\"sk-estimator-id-2\" class=\"sk-toggleable__label sk-toggleable__label-arrow\">GradientBoostingClassifier</label><div class=\"sk-toggleable__content\"><pre>GradientBoostingClassifier()</pre></div></div></div></div></div>"
            ],
            "text/plain": [
              "GradientBoostingClassifier()"
            ]
          },
          "execution_count": 670,
          "metadata": {},
          "output_type": "execute_result"
        }
      ],
      "source": [
        "lg.fit(X_train,Y_train)\n",
        "dtc.fit(X_train,Y_train)\n",
        "SV.fit(X_train,Y_train)\n",
        "knn.fit(X_train,Y_train)\n",
        "rfc.fit(X_train,Y_train)\n",
        "adbc.fit(X_train,Y_train)\n",
        "gnb.fit(X_train,Y_train)\n",
        "etc.fit(X_train,Y_train)\n",
        "gbc.fit(X_train,Y_train)"
      ]
    },
    {
      "cell_type": "markdown",
      "id": "0f82758a",
      "metadata": {
        "id": "0f82758a"
      },
      "source": [
        "All Models have been trained"
      ]
    },
    {
      "cell_type": "markdown",
      "id": "670254fe",
      "metadata": {
        "id": "670254fe"
      },
      "source": [
        "# Logistic Regression Model Accuracy"
      ]
    },
    {
      "cell_type": "code",
      "execution_count": null,
      "id": "97f8341e",
      "metadata": {
        "id": "97f8341e"
      },
      "outputs": [],
      "source": [
        "lgpred = lg.predict(X_test)\n",
        "accu = classification_report(Y_test,lgpred)"
      ]
    },
    {
      "cell_type": "code",
      "execution_count": null,
      "id": "f8d700bb",
      "metadata": {
        "id": "f8d700bb",
        "outputId": "4653159e-3525-49e1-b900-bbf6a7c09b52"
      },
      "outputs": [
        {
          "data": {
            "text/plain": [
              "array([[15, 25],\n",
              "       [ 1, 77]], dtype=int64)"
            ]
          },
          "execution_count": 672,
          "metadata": {},
          "output_type": "execute_result"
        }
      ],
      "source": [
        "conf_matrx = confusion_matrix(Y_test,lgpred)\n",
        "conf_matrx"
      ]
    },
    {
      "cell_type": "code",
      "execution_count": null,
      "id": "1392ce7a",
      "metadata": {
        "scrolled": true,
        "id": "1392ce7a",
        "outputId": "7527e7fa-123a-448f-c510-ea195653087a"
      },
      "outputs": [
        {
          "name": "stdout",
          "output_type": "stream",
          "text": [
            "              precision    recall  f1-score   support\n",
            "\n",
            "           0       0.94      0.38      0.54        40\n",
            "           1       0.75      0.99      0.86        78\n",
            "\n",
            "    accuracy                           0.78       118\n",
            "   macro avg       0.85      0.68      0.70       118\n",
            "weighted avg       0.82      0.78      0.75       118\n",
            "\n"
          ]
        }
      ],
      "source": [
        "print(accu)"
      ]
    },
    {
      "cell_type": "markdown",
      "id": "ad392fa0",
      "metadata": {
        "id": "ad392fa0"
      },
      "source": [
        "# Decision Tree Model Accuracy"
      ]
    },
    {
      "cell_type": "code",
      "execution_count": null,
      "id": "1e55e246",
      "metadata": {
        "id": "1e55e246"
      },
      "outputs": [],
      "source": [
        "dtcpred = dtc.predict(X_test)\n",
        "accu = classification_report(Y_test,dtcpred)"
      ]
    },
    {
      "cell_type": "code",
      "execution_count": null,
      "id": "54f4dbb5",
      "metadata": {
        "id": "54f4dbb5",
        "outputId": "34c6ffdf-3e8a-4602-e30d-1e06f32d4c0e"
      },
      "outputs": [
        {
          "data": {
            "text/plain": [
              "array([[19, 21],\n",
              "       [16, 62]], dtype=int64)"
            ]
          },
          "execution_count": 675,
          "metadata": {},
          "output_type": "execute_result"
        }
      ],
      "source": [
        "conf_matrx = confusion_matrix(Y_test,dtcpred)\n",
        "conf_matrx"
      ]
    },
    {
      "cell_type": "code",
      "execution_count": null,
      "id": "89de8027",
      "metadata": {
        "scrolled": false,
        "id": "89de8027",
        "outputId": "7bd78b03-e5fc-41a3-b835-86607bac7e0b"
      },
      "outputs": [
        {
          "name": "stdout",
          "output_type": "stream",
          "text": [
            "              precision    recall  f1-score   support\n",
            "\n",
            "           0       0.54      0.47      0.51        40\n",
            "           1       0.75      0.79      0.77        78\n",
            "\n",
            "    accuracy                           0.69       118\n",
            "   macro avg       0.64      0.63      0.64       118\n",
            "weighted avg       0.68      0.69      0.68       118\n",
            "\n"
          ]
        }
      ],
      "source": [
        "print(accu)"
      ]
    },
    {
      "cell_type": "markdown",
      "id": "2a79d5a6",
      "metadata": {
        "id": "2a79d5a6"
      },
      "source": [
        "# Supplier Vector Model Accuracy"
      ]
    },
    {
      "cell_type": "code",
      "execution_count": null,
      "id": "549176d4",
      "metadata": {
        "id": "549176d4"
      },
      "outputs": [],
      "source": [
        "SVpred = SV.predict(X_test)\n",
        "accu = classification_report(Y_test,SVpred)"
      ]
    },
    {
      "cell_type": "code",
      "execution_count": null,
      "id": "aad16ddc",
      "metadata": {
        "id": "aad16ddc",
        "outputId": "c2a95bdc-91d5-41bd-d27e-b822f3cc871c"
      },
      "outputs": [
        {
          "data": {
            "text/plain": [
              "array([[15, 25],\n",
              "       [ 1, 77]], dtype=int64)"
            ]
          },
          "execution_count": 678,
          "metadata": {},
          "output_type": "execute_result"
        }
      ],
      "source": [
        "conf_matrx = confusion_matrix(Y_test,SVpred)\n",
        "conf_matrx"
      ]
    },
    {
      "cell_type": "code",
      "execution_count": null,
      "id": "4bd562eb",
      "metadata": {
        "scrolled": true,
        "id": "4bd562eb",
        "outputId": "50d20347-3a4f-4381-bea0-5d3bb9ef2eee"
      },
      "outputs": [
        {
          "name": "stdout",
          "output_type": "stream",
          "text": [
            "              precision    recall  f1-score   support\n",
            "\n",
            "           0       0.94      0.38      0.54        40\n",
            "           1       0.75      0.99      0.86        78\n",
            "\n",
            "    accuracy                           0.78       118\n",
            "   macro avg       0.85      0.68      0.70       118\n",
            "weighted avg       0.82      0.78      0.75       118\n",
            "\n"
          ]
        }
      ],
      "source": [
        "print(accu)"
      ]
    },
    {
      "cell_type": "markdown",
      "id": "3ff6db8c",
      "metadata": {
        "id": "3ff6db8c"
      },
      "source": [
        "# K Nearest Neighbours Classifier Model Accuracy"
      ]
    },
    {
      "cell_type": "code",
      "execution_count": null,
      "id": "4fcacc47",
      "metadata": {
        "id": "4fcacc47"
      },
      "outputs": [],
      "source": [
        "knnpred = knn.predict(X_test)\n",
        "accu = classification_report(Y_test,knnpred)"
      ]
    },
    {
      "cell_type": "code",
      "execution_count": null,
      "id": "5a1d2e6d",
      "metadata": {
        "id": "5a1d2e6d",
        "outputId": "f90e09cc-a6a4-4475-c36f-fa4ddcad996c"
      },
      "outputs": [
        {
          "data": {
            "text/plain": [
              "array([[16, 24],\n",
              "       [ 5, 73]], dtype=int64)"
            ]
          },
          "execution_count": 681,
          "metadata": {},
          "output_type": "execute_result"
        }
      ],
      "source": [
        "conf_matrx = confusion_matrix(Y_test,knnpred)\n",
        "conf_matrx"
      ]
    },
    {
      "cell_type": "code",
      "execution_count": null,
      "id": "e86f970f",
      "metadata": {
        "id": "e86f970f",
        "outputId": "a6e17b7c-4f3e-4d31-84c2-a07d7d38e3ad"
      },
      "outputs": [
        {
          "name": "stdout",
          "output_type": "stream",
          "text": [
            "              precision    recall  f1-score   support\n",
            "\n",
            "           0       0.76      0.40      0.52        40\n",
            "           1       0.75      0.94      0.83        78\n",
            "\n",
            "    accuracy                           0.75       118\n",
            "   macro avg       0.76      0.67      0.68       118\n",
            "weighted avg       0.76      0.75      0.73       118\n",
            "\n"
          ]
        }
      ],
      "source": [
        "print(accu)"
      ]
    },
    {
      "cell_type": "markdown",
      "id": "fb4f62af",
      "metadata": {
        "id": "fb4f62af"
      },
      "source": [
        "# Random Forest Classifier Model Accuracy"
      ]
    },
    {
      "cell_type": "code",
      "execution_count": null,
      "id": "07b35ab5",
      "metadata": {
        "id": "07b35ab5"
      },
      "outputs": [],
      "source": [
        "rfcpred = rfc.predict(X_test)\n",
        "accu = classification_report(Y_test,rfcpred)"
      ]
    },
    {
      "cell_type": "code",
      "execution_count": null,
      "id": "61266c16",
      "metadata": {
        "id": "61266c16",
        "outputId": "1bb1f34c-21c5-46d9-937c-d036254d2969"
      },
      "outputs": [
        {
          "data": {
            "text/plain": [
              "array([[15, 25],\n",
              "       [ 5, 73]], dtype=int64)"
            ]
          },
          "execution_count": 684,
          "metadata": {},
          "output_type": "execute_result"
        }
      ],
      "source": [
        "conf_matrx = confusion_matrix(Y_test,rfcpred)\n",
        "conf_matrx"
      ]
    },
    {
      "cell_type": "code",
      "execution_count": null,
      "id": "9253b97f",
      "metadata": {
        "id": "9253b97f",
        "outputId": "dda14e88-0abd-41d1-a9b1-ecc2d10f1b8e"
      },
      "outputs": [
        {
          "name": "stdout",
          "output_type": "stream",
          "text": [
            "              precision    recall  f1-score   support\n",
            "\n",
            "           0       0.75      0.38      0.50        40\n",
            "           1       0.74      0.94      0.83        78\n",
            "\n",
            "    accuracy                           0.75       118\n",
            "   macro avg       0.75      0.66      0.66       118\n",
            "weighted avg       0.75      0.75      0.72       118\n",
            "\n"
          ]
        }
      ],
      "source": [
        "print(accu)"
      ]
    },
    {
      "cell_type": "markdown",
      "id": "c9003ec6",
      "metadata": {
        "id": "c9003ec6"
      },
      "source": [
        "# AdaBoost Classifier Model Accuracy"
      ]
    },
    {
      "cell_type": "code",
      "execution_count": null,
      "id": "9ba11870",
      "metadata": {
        "id": "9ba11870"
      },
      "outputs": [],
      "source": [
        "adbcpred = adbc.predict(X_test)\n",
        "accu = classification_report(Y_test,adbcpred)"
      ]
    },
    {
      "cell_type": "code",
      "execution_count": null,
      "id": "6a35fab0",
      "metadata": {
        "id": "6a35fab0",
        "outputId": "7aca1c5b-50da-4085-8247-eae5b9bf6fda"
      },
      "outputs": [
        {
          "data": {
            "text/plain": [
              "array([[15, 25],\n",
              "       [ 4, 74]], dtype=int64)"
            ]
          },
          "execution_count": 687,
          "metadata": {},
          "output_type": "execute_result"
        }
      ],
      "source": [
        "conf_matrx = confusion_matrix(Y_test,adbcpred)\n",
        "conf_matrx"
      ]
    },
    {
      "cell_type": "code",
      "execution_count": null,
      "id": "7523915b",
      "metadata": {
        "id": "7523915b",
        "outputId": "453ec5ae-e121-48dc-8a02-0b1874cc0681"
      },
      "outputs": [
        {
          "name": "stdout",
          "output_type": "stream",
          "text": [
            "              precision    recall  f1-score   support\n",
            "\n",
            "           0       0.79      0.38      0.51        40\n",
            "           1       0.75      0.95      0.84        78\n",
            "\n",
            "    accuracy                           0.75       118\n",
            "   macro avg       0.77      0.66      0.67       118\n",
            "weighted avg       0.76      0.75      0.73       118\n",
            "\n"
          ]
        }
      ],
      "source": [
        "print(accu)"
      ]
    },
    {
      "cell_type": "markdown",
      "id": "fa567b5a",
      "metadata": {
        "id": "fa567b5a"
      },
      "source": [
        "# Model Cross Validation"
      ]
    },
    {
      "cell_type": "code",
      "execution_count": null,
      "id": "c5aacc8f",
      "metadata": {
        "id": "c5aacc8f"
      },
      "outputs": [],
      "source": [
        "from sklearn.model_selection import cross_val_score as cvs"
      ]
    },
    {
      "cell_type": "markdown",
      "id": "426cc235",
      "metadata": {
        "id": "426cc235"
      },
      "source": [
        "# Logistic Regression"
      ]
    },
    {
      "cell_type": "code",
      "execution_count": null,
      "id": "e9db053f",
      "metadata": {
        "id": "e9db053f",
        "outputId": "6ba98417-d003-4dd9-bd9f-8d84fe83a5bd"
      },
      "outputs": [
        {
          "name": "stdout",
          "output_type": "stream",
          "text": [
            "0.8166594234390845\n"
          ]
        }
      ],
      "source": [
        "print(cvs(lg,scaled_X,Y,cv=5).mean())\n"
      ]
    },
    {
      "cell_type": "markdown",
      "id": "56cd15d8",
      "metadata": {
        "id": "56cd15d8"
      },
      "source": [
        "# Random Forest Classifier"
      ]
    },
    {
      "cell_type": "code",
      "execution_count": null,
      "id": "5357d85f",
      "metadata": {
        "id": "5357d85f",
        "outputId": "823ee8e0-9a6f-478b-ba42-9251c8f4b488"
      },
      "outputs": [
        {
          "name": "stdout",
          "output_type": "stream",
          "text": [
            "0.8013762132406201\n"
          ]
        }
      ],
      "source": [
        "print(cvs(rfc,scaled_X,Y,cv=5).mean())"
      ]
    },
    {
      "cell_type": "markdown",
      "id": "daf52caa",
      "metadata": {
        "id": "daf52caa"
      },
      "source": [
        "# Decision Tree Classifier"
      ]
    },
    {
      "cell_type": "code",
      "execution_count": null,
      "id": "519e6cdd",
      "metadata": {
        "scrolled": true,
        "id": "519e6cdd",
        "outputId": "61f9bd02-ca3a-44a1-c8fb-55ca1f4ab52d"
      },
      "outputs": [
        {
          "name": "stdout",
          "output_type": "stream",
          "text": [
            "0.6978415181805012\n"
          ]
        }
      ],
      "source": [
        "print(cvs(dtc,scaled_X,Y,cv=5).mean())"
      ]
    },
    {
      "cell_type": "markdown",
      "id": "2fe311c2",
      "metadata": {
        "id": "2fe311c2"
      },
      "source": [
        "# K Nearest Neighbours Classifier"
      ]
    },
    {
      "cell_type": "code",
      "execution_count": null,
      "id": "8c7835b0",
      "metadata": {
        "id": "8c7835b0",
        "outputId": "822c5992-48da-418d-cd91-e2aa8d29c1d3"
      },
      "outputs": [
        {
          "name": "stdout",
          "output_type": "stream",
          "text": [
            "0.7894538606403013\n"
          ]
        }
      ],
      "source": [
        "print(cvs(knn,scaled_X,Y,cv=5).mean())"
      ]
    },
    {
      "cell_type": "markdown",
      "id": "8980017c",
      "metadata": {
        "id": "8980017c"
      },
      "source": [
        "# Support Vector Classifier"
      ]
    },
    {
      "cell_type": "code",
      "execution_count": null,
      "id": "5b527513",
      "metadata": {
        "id": "5b527513",
        "outputId": "ef483e1e-67f2-41a3-d238-bb1b02825505"
      },
      "outputs": [
        {
          "name": "stdout",
          "output_type": "stream",
          "text": [
            "0.8183543386933219\n"
          ]
        }
      ],
      "source": [
        "print(cvs(SV,scaled_X,Y,cv=5).mean())"
      ]
    },
    {
      "cell_type": "markdown",
      "id": "1f3b95c5",
      "metadata": {
        "id": "1f3b95c5"
      },
      "source": [
        "# AdaBoost Classifier"
      ]
    },
    {
      "cell_type": "code",
      "execution_count": null,
      "id": "36b194e9",
      "metadata": {
        "id": "36b194e9",
        "outputId": "59882c09-5cc0-4378-ea98-b70d9ce0e929"
      },
      "outputs": [
        {
          "name": "stdout",
          "output_type": "stream",
          "text": [
            "0.7877879182963928\n"
          ]
        }
      ],
      "source": [
        "print(cvs(adbc,scaled_X,Y,cv=5).mean())"
      ]
    },
    {
      "cell_type": "markdown",
      "id": "cc91ed28",
      "metadata": {
        "id": "cc91ed28"
      },
      "source": [
        "# Based on comparing Accuracy Score results, with Cross Validation results, it is determined that Logistic Regression is the best model."
      ]
    },
    {
      "cell_type": "markdown",
      "id": "9121d65c",
      "metadata": {
        "id": "9121d65c"
      },
      "source": [
        "# ROC AUC Scores"
      ]
    },
    {
      "cell_type": "markdown",
      "id": "775226ef",
      "metadata": {
        "id": "775226ef"
      },
      "source": [
        "# Logistic Regression"
      ]
    },
    {
      "cell_type": "code",
      "execution_count": null,
      "id": "e17b44a1",
      "metadata": {
        "id": "e17b44a1",
        "outputId": "fc222237-1afa-467d-fe45-67f278baec16"
      },
      "outputs": [
        {
          "data": {
            "text/plain": [
              "0.6810897435897436"
            ]
          },
          "execution_count": 698,
          "metadata": {},
          "output_type": "execute_result"
        }
      ],
      "source": [
        "roc_auc_score(Y_test,lgpred)"
      ]
    },
    {
      "cell_type": "markdown",
      "id": "5e98c55a",
      "metadata": {
        "id": "5e98c55a"
      },
      "source": [
        "# Random Forest Classifier"
      ]
    },
    {
      "cell_type": "code",
      "execution_count": null,
      "id": "36b754dd",
      "metadata": {
        "id": "36b754dd",
        "outputId": "9f62fa39-7013-4fa9-c052-c618dc03c4e1"
      },
      "outputs": [
        {
          "data": {
            "text/plain": [
              "0.655448717948718"
            ]
          },
          "execution_count": 699,
          "metadata": {},
          "output_type": "execute_result"
        }
      ],
      "source": [
        "roc_auc_score(Y_test,rfcpred)"
      ]
    },
    {
      "cell_type": "markdown",
      "id": "38558c6c",
      "metadata": {
        "id": "38558c6c"
      },
      "source": [
        "# Decision Tree Classifier"
      ]
    },
    {
      "cell_type": "code",
      "execution_count": null,
      "id": "d22e282b",
      "metadata": {
        "id": "d22e282b",
        "outputId": "7868dfc4-c5ca-40f9-9edc-f830133cea20"
      },
      "outputs": [
        {
          "data": {
            "text/plain": [
              "0.6349358974358974"
            ]
          },
          "execution_count": 703,
          "metadata": {},
          "output_type": "execute_result"
        }
      ],
      "source": [
        "roc_auc_score(Y_test,dtcpred)"
      ]
    },
    {
      "cell_type": "markdown",
      "id": "3920201d",
      "metadata": {
        "id": "3920201d"
      },
      "source": [
        "# K Nearest Neighbours Classifier"
      ]
    },
    {
      "cell_type": "code",
      "execution_count": null,
      "id": "7bd198fb",
      "metadata": {
        "id": "7bd198fb",
        "outputId": "d0b42cef-c569-4e0e-a09e-ea5c6cbcb7f6"
      },
      "outputs": [
        {
          "data": {
            "text/plain": [
              "0.667948717948718"
            ]
          },
          "execution_count": 704,
          "metadata": {},
          "output_type": "execute_result"
        }
      ],
      "source": [
        "roc_auc_score(Y_test,knnpred)"
      ]
    },
    {
      "cell_type": "markdown",
      "id": "1687f1a8",
      "metadata": {
        "id": "1687f1a8"
      },
      "source": [
        "# Support Vector Classifier"
      ]
    },
    {
      "cell_type": "code",
      "execution_count": null,
      "id": "4b4ea680",
      "metadata": {
        "id": "4b4ea680",
        "outputId": "44320b5c-8670-445b-908b-aebe0bf20224"
      },
      "outputs": [
        {
          "data": {
            "text/plain": [
              "0.6810897435897436"
            ]
          },
          "execution_count": 701,
          "metadata": {},
          "output_type": "execute_result"
        }
      ],
      "source": [
        "roc_auc_score(Y_test,SVpred)"
      ]
    },
    {
      "cell_type": "markdown",
      "id": "689882eb",
      "metadata": {
        "id": "689882eb"
      },
      "source": [
        "# AdaBoost Classifier"
      ]
    },
    {
      "cell_type": "code",
      "execution_count": null,
      "id": "47b98b8d",
      "metadata": {
        "id": "47b98b8d",
        "outputId": "57a910e3-b3bc-46c4-96de-94a3fd0d1db7"
      },
      "outputs": [
        {
          "data": {
            "text/plain": [
              "0.6618589743589743"
            ]
          },
          "execution_count": 702,
          "metadata": {},
          "output_type": "execute_result"
        }
      ],
      "source": [
        "roc_auc_score(Y_test,adbcpred)"
      ]
    },
    {
      "cell_type": "markdown",
      "id": "a7e40aba",
      "metadata": {
        "id": "a7e40aba"
      },
      "source": [
        "# ROC AUC curves\n"
      ]
    },
    {
      "cell_type": "code",
      "execution_count": null,
      "id": "6d025cbe",
      "metadata": {
        "id": "6d025cbe"
      },
      "outputs": [],
      "source": [
        "from sklearn.metrics import plot_roc_curve"
      ]
    },
    {
      "cell_type": "code",
      "execution_count": null,
      "id": "14dcb762",
      "metadata": {
        "id": "14dcb762",
        "outputId": "e6f71ba7-a077-46b6-ba40-cf159c22f25f"
      },
      "outputs": [
        {
          "data": {
            "image/png": "[encoded data removed]",
            "text/plain": [
              "<Figure size 432x288 with 1 Axes>"
            ]
          },
          "metadata": {
            "needs_background": "light"
          },
          "output_type": "display_data"
        }
      ],
      "source": [
        "disp = plot_roc_curve(rfc,X_test,Y_test)\n",
        "mod = [lg,dtc,knn,SV,rfc,adbc]\n",
        "for i in mod:\n",
        "    plot_roc_curve(i,X_test,Y_test, ax=disp.ax_)\n",
        "plt.legend(prop={'size':10}, loc = 'lower right')\n",
        "plt.show()"
      ]
    },
    {
      "cell_type": "markdown",
      "id": "a520afce",
      "metadata": {
        "id": "a520afce"
      },
      "source": [
        "# Based on the above graph and roc_auc_scores, Logistic Regression is the best model for the dataset, with AUC = 0.77 and roc_auc_score = 0.68"
      ]
    },
    {
      "cell_type": "markdown",
      "id": "865b71e0",
      "metadata": {
        "id": "865b71e0"
      },
      "source": [
        "# Hyper Parameter Tuning"
      ]
    },
    {
      "cell_type": "code",
      "execution_count": null,
      "id": "48e4f211",
      "metadata": {
        "id": "48e4f211"
      },
      "outputs": [],
      "source": [
        "from sklearn.model_selection import GridSearchCV"
      ]
    },
    {
      "cell_type": "markdown",
      "id": "73e7451e",
      "metadata": {
        "id": "73e7451e"
      },
      "source": [
        "# Logistic Regression"
      ]
    },
    {
      "cell_type": "code",
      "execution_count": null,
      "id": "13461536",
      "metadata": {
        "id": "13461536"
      },
      "outputs": [],
      "source": [
        "parameter = {'C':[0.001,0.01],'penalty':['l1', 'l2'],'dual': [True,False],'fit_intercept':[True,False],'random_state':[1,2,3],'solver':['liblinear'],'max_iter':[100,200]}"
      ]
    },
    {
      "cell_type": "code",
      "execution_count": null,
      "id": "5f9b1c99",
      "metadata": {
        "id": "5f9b1c99"
      },
      "outputs": [],
      "source": [
        "GridCV = GridSearchCV(LogisticRegression(),parameter,cv=5,n_jobs = -1,verbose=2)"
      ]
    },
    {
      "cell_type": "code",
      "execution_count": null,
      "id": "d75871af",
      "metadata": {
        "id": "d75871af",
        "outputId": "409f320b-e983-4024-968c-41cc3cbc0517"
      },
      "outputs": [
        {
          "name": "stdout",
          "output_type": "stream",
          "text": [
            "Fitting 5 folds for each of 96 candidates, totalling 480 fits\n"
          ]
        },
        {
          "data": {
            "text/html": [
              "<style>#sk-container-id-3 {color: black;background-color: white;}#sk-container-id-3 pre{padding: 0;}#sk-container-id-3 div.sk-toggleable {background-color: white;}#sk-container-id-3 label.sk-toggleable__label {cursor: pointer;display: block;width: 100%;margin-bottom: 0;padding: 0.3em;box-sizing: border-box;text-align: center;}#sk-container-id-3 label.sk-toggleable__label-arrow:before {content: \"▸\";float: left;margin-right: 0.25em;color: #696969;}#sk-container-id-3 label.sk-toggleable__label-arrow:hover:before {color: black;}#sk-container-id-3 div.sk-estimator:hover label.sk-toggleable__label-arrow:before {color: black;}#sk-container-id-3 div.sk-toggleable__content {max-height: 0;max-width: 0;overflow: hidden;text-align: left;background-color: #f0f8ff;}#sk-container-id-3 div.sk-toggleable__content pre {margin: 0.2em;color: black;border-radius: 0.25em;background-color: #f0f8ff;}#sk-container-id-3 input.sk-toggleable__control:checked~div.sk-toggleable__content {max-height: 200px;max-width: 100%;overflow: auto;}#sk-container-id-3 input.sk-toggleable__control:checked~label.sk-toggleable__label-arrow:before {content: \"▾\";}#sk-container-id-3 div.sk-estimator input.sk-toggleable__control:checked~label.sk-toggleable__label {background-color: #d4ebff;}#sk-container-id-3 div.sk-label input.sk-toggleable__control:checked~label.sk-toggleable__label {background-color: #d4ebff;}#sk-container-id-3 input.sk-hidden--visually {border: 0;clip: rect(1px 1px 1px 1px);clip: rect(1px, 1px, 1px, 1px);height: 1px;margin: -1px;overflow: hidden;padding: 0;position: absolute;width: 1px;}#sk-container-id-3 div.sk-estimator {font-family: monospace;background-color: #f0f8ff;border: 1px dotted black;border-radius: 0.25em;box-sizing: border-box;margin-bottom: 0.5em;}#sk-container-id-3 div.sk-estimator:hover {background-color: #d4ebff;}#sk-container-id-3 div.sk-parallel-item::after {content: \"\";width: 100%;border-bottom: 1px solid gray;flex-grow: 1;}#sk-container-id-3 div.sk-label:hover label.sk-toggleable__label {background-color: #d4ebff;}#sk-container-id-3 div.sk-serial::before {content: \"\";position: absolute;border-left: 1px solid gray;box-sizing: border-box;top: 0;bottom: 0;left: 50%;z-index: 0;}#sk-container-id-3 div.sk-serial {display: flex;flex-direction: column;align-items: center;background-color: white;padding-right: 0.2em;padding-left: 0.2em;position: relative;}#sk-container-id-3 div.sk-item {position: relative;z-index: 1;}#sk-container-id-3 div.sk-parallel {display: flex;align-items: stretch;justify-content: center;background-color: white;position: relative;}#sk-container-id-3 div.sk-item::before, #sk-container-id-3 div.sk-parallel-item::before {content: \"\";position: absolute;border-left: 1px solid gray;box-sizing: border-box;top: 0;bottom: 0;left: 50%;z-index: -1;}#sk-container-id-3 div.sk-parallel-item {display: flex;flex-direction: column;z-index: 1;position: relative;background-color: white;}#sk-container-id-3 div.sk-parallel-item:first-child::after {align-self: flex-end;width: 50%;}#sk-container-id-3 div.sk-parallel-item:last-child::after {align-self: flex-start;width: 50%;}#sk-container-id-3 div.sk-parallel-item:only-child::after {width: 0;}#sk-container-id-3 div.sk-dashed-wrapped {border: 1px dashed gray;margin: 0 0.4em 0.5em 0.4em;box-sizing: border-box;padding-bottom: 0.4em;background-color: white;}#sk-container-id-3 div.sk-label label {font-family: monospace;font-weight: bold;display: inline-block;line-height: 1.2em;}#sk-container-id-3 div.sk-label-container {text-align: center;}#sk-container-id-3 div.sk-container {/* jupyter's `normalize.less` sets `[hidden] { display: none; }` but bootstrap.min.css set `[hidden] { display: none !important; }` so we also need the `!important` here to be able to override the default hidden behavior on the sphinx rendered scikit-learn.org. See: https://github.com/scikit-learn/scikit-learn/issues/21755 */display: inline-block !important;position: relative;}#sk-container-id-3 div.sk-text-repr-fallback {display: none;}</style><div id=\"sk-container-id-3\" class=\"sk-top-container\"><div class=\"sk-text-repr-fallback\"><pre>GridSearchCV(cv=5, estimator=LogisticRegression(), n_jobs=-1,\n",
              "             param_grid={&#x27;C&#x27;: [0.001, 0.01], &#x27;dual&#x27;: [True, False],\n",
              "                         &#x27;fit_intercept&#x27;: [True, False], &#x27;max_iter&#x27;: [100, 200],\n",
              "                         &#x27;penalty&#x27;: [&#x27;l1&#x27;, &#x27;l2&#x27;], &#x27;random_state&#x27;: [1, 2, 3],\n",
              "                         &#x27;solver&#x27;: [&#x27;liblinear&#x27;]},\n",
              "             verbose=2)</pre><b>In a Jupyter environment, please rerun this cell to show the HTML representation or trust the notebook. <br />On GitHub, the HTML representation is unable to render, please try loading this page with nbviewer.org.</b></div><div class=\"sk-container\" hidden><div class=\"sk-item sk-dashed-wrapped\"><div class=\"sk-label-container\"><div class=\"sk-label sk-toggleable\"><input class=\"sk-toggleable__control sk-hidden--visually\" id=\"sk-estimator-id-3\" type=\"checkbox\" ><label for=\"sk-estimator-id-3\" class=\"sk-toggleable__label sk-toggleable__label-arrow\">GridSearchCV</label><div class=\"sk-toggleable__content\"><pre>GridSearchCV(cv=5, estimator=LogisticRegression(), n_jobs=-1,\n",
              "             param_grid={&#x27;C&#x27;: [0.001, 0.01], &#x27;dual&#x27;: [True, False],\n",
              "                         &#x27;fit_intercept&#x27;: [True, False], &#x27;max_iter&#x27;: [100, 200],\n",
              "                         &#x27;penalty&#x27;: [&#x27;l1&#x27;, &#x27;l2&#x27;], &#x27;random_state&#x27;: [1, 2, 3],\n",
              "                         &#x27;solver&#x27;: [&#x27;liblinear&#x27;]},\n",
              "             verbose=2)</pre></div></div></div><div class=\"sk-parallel\"><div class=\"sk-parallel-item\"><div class=\"sk-item\"><div class=\"sk-label-container\"><div class=\"sk-label sk-toggleable\"><input class=\"sk-toggleable__control sk-hidden--visually\" id=\"sk-estimator-id-4\" type=\"checkbox\" ><label for=\"sk-estimator-id-4\" class=\"sk-toggleable__label sk-toggleable__label-arrow\">estimator: LogisticRegression</label><div class=\"sk-toggleable__content\"><pre>LogisticRegression()</pre></div></div></div><div class=\"sk-serial\"><div class=\"sk-item\"><div class=\"sk-estimator sk-toggleable\"><input class=\"sk-toggleable__control sk-hidden--visually\" id=\"sk-estimator-id-5\" type=\"checkbox\" ><label for=\"sk-estimator-id-5\" class=\"sk-toggleable__label sk-toggleable__label-arrow\">LogisticRegression</label><div class=\"sk-toggleable__content\"><pre>LogisticRegression()</pre></div></div></div></div></div></div></div></div></div></div>"
            ],
            "text/plain": [
              "GridSearchCV(cv=5, estimator=LogisticRegression(), n_jobs=-1,\n",
              "             param_grid={'C': [0.001, 0.01], 'dual': [True, False],\n",
              "                         'fit_intercept': [True, False], 'max_iter': [100, 200],\n",
              "                         'penalty': ['l1', 'l2'], 'random_state': [1, 2, 3],\n",
              "                         'solver': ['liblinear']},\n",
              "             verbose=2)"
            ]
          },
          "execution_count": 716,
          "metadata": {},
          "output_type": "execute_result"
        }
      ],
      "source": [
        "GridCV.fit(X_train,Y_train)"
      ]
    },
    {
      "cell_type": "code",
      "execution_count": null,
      "id": "d573ed8e",
      "metadata": {
        "id": "d573ed8e",
        "outputId": "d78a33c4-9ef4-4a3c-d1a1-28ead34c14de"
      },
      "outputs": [
        {
          "data": {
            "text/plain": [
              "{'C': 0.001,\n",
              " 'dual': True,\n",
              " 'fit_intercept': True,\n",
              " 'max_iter': 100,\n",
              " 'penalty': 'l2',\n",
              " 'random_state': 1,\n",
              " 'solver': 'liblinear'}"
            ]
          },
          "execution_count": 723,
          "metadata": {},
          "output_type": "execute_result"
        }
      ],
      "source": [
        "GridCV.best_params_"
      ]
    },
    {
      "cell_type": "code",
      "execution_count": null,
      "id": "2172d130",
      "metadata": {
        "id": "2172d130",
        "outputId": "91ef17be-e8ba-4bd1-bd8c-b910e8903f5c"
      },
      "outputs": [
        {
          "name": "stdout",
          "output_type": "stream",
          "text": [
            "77.96610169491525\n"
          ]
        }
      ],
      "source": [
        "Best_mod1 = LogisticRegression(C = 0.01,dual = True,fit_intercept = True,max_iter = 100,multi_class = 'auto', penalty = 'l2',random_state= 1,solver = 'liblinear')\n",
        "Best_mod1.fit(X_train,Y_train)\n",
        "lgpred = Best_mod1.predict(X_test)\n",
        "acc = accuracy_score(Y_test,lgpred)\n",
        "print(acc*100)"
      ]
    },
    {
      "cell_type": "markdown",
      "id": "88ced0c2",
      "metadata": {
        "id": "88ced0c2"
      },
      "source": [
        "# Logistic Regression has an accuracy score of 77.96%"
      ]
    },
    {
      "cell_type": "code",
      "execution_count": null,
      "id": "faf36391",
      "metadata": {
        "scrolled": true,
        "id": "faf36391",
        "outputId": "3c629d5c-ab11-40a0-f00c-a65268dd3f23"
      },
      "outputs": [
        {
          "data": {
            "text/plain": [
              "array([[15, 25],\n",
              "       [ 1, 77]], dtype=int64)"
            ]
          },
          "execution_count": 725,
          "metadata": {},
          "output_type": "execute_result"
        }
      ],
      "source": [
        "conf_matrx = confusion_matrix(Y_test,lgpred)\n",
        "conf_matrx"
      ]
    },
    {
      "cell_type": "markdown",
      "id": "89c98674",
      "metadata": {
        "id": "89c98674"
      },
      "source": [
        "# Saving The Model"
      ]
    },
    {
      "cell_type": "code",
      "execution_count": null,
      "id": "0a8a6371",
      "metadata": {
        "id": "0a8a6371",
        "outputId": "9119a0bc-2d8a-40ed-8277-96d188b958f0"
      },
      "outputs": [
        {
          "data": {
            "text/plain": [
              "['BestModelLoan.pkl']"
            ]
          },
          "execution_count": 726,
          "metadata": {},
          "output_type": "execute_result"
        }
      ],
      "source": [
        "import joblib\n",
        "joblib.dump(Best_mod1,\"BestModelLoan.pkl\")"
      ]
    },
    {
      "cell_type": "markdown",
      "id": "cc5783ac",
      "metadata": {
        "id": "cc5783ac"
      },
      "source": [
        "# Loading The Model"
      ]
    },
    {
      "cell_type": "code",
      "execution_count": null,
      "id": "1d599308",
      "metadata": {
        "id": "1d599308"
      },
      "outputs": [],
      "source": [
        "mod=joblib.load(\"BestModelLoan.pkl\")"
      ]
    },
    {
      "cell_type": "code",
      "execution_count": null,
      "id": "7e76d6ef",
      "metadata": {
        "id": "7e76d6ef",
        "outputId": "2c9977cc-9bec-4bea-9636-e023aadd1877"
      },
      "outputs": [
        {
          "name": "stdout",
          "output_type": "stream",
          "text": [
            "[1 1 1 1 1 1 0 1 1 1 1 1 1 0 1 1 1 1 1 1 1 1 0 1 1 1 1 1 0 1 0 1 1 1 1 1 1\n",
            " 0 1 1 1 0 1 1 1 1 0 1 1 1 1 1 1 1 0 1 1 1 1 1 0 1 1 1 1 1 1 0 1 1 1 1 1 1\n",
            " 1 1 1 1 1 0 1 1 1 1 1 1 1 0 1 1 1 1 0 1 1 1 1 1 1 1 1 0 1 1 1 1 1 1 1 1 1\n",
            " 1 1 1 1 1 0 1]\n"
          ]
        }
      ],
      "source": [
        "print(mod.predict(X_test))"
      ]
    },
    {
      "cell_type": "code",
      "execution_count": null,
      "id": "258fc577",
      "metadata": {
        "id": "258fc577",
        "outputId": "6a0c3b40-729a-45d7-e467-a9fc55dc8f37"
      },
      "outputs": [
        {
          "data": {
            "text/html": [
              "<div>\n",
              "<style scoped>\n",
              "    .dataframe tbody tr th:only-of-type {\n",
              "        vertical-align: middle;\n",
              "    }\n",
              "\n",
              "    .dataframe tbody tr th {\n",
              "        vertical-align: top;\n",
              "    }\n",
              "\n",
              "    .dataframe thead th {\n",
              "        text-align: right;\n",
              "    }\n",
              "</style>\n",
              "<table border=\"1\" class=\"dataframe\">\n",
              "  <thead>\n",
              "    <tr style=\"text-align: right;\">\n",
              "      <th></th>\n",
              "      <th>Predictions</th>\n",
              "      <th>Actual Values</th>\n",
              "    </tr>\n",
              "  </thead>\n",
              "  <tbody>\n",
              "    <tr>\n",
              "      <th>241</th>\n",
              "      <td>1</td>\n",
              "      <td>1</td>\n",
              "    </tr>\n",
              "    <tr>\n",
              "      <th>267</th>\n",
              "      <td>1</td>\n",
              "      <td>1</td>\n",
              "    </tr>\n",
              "    <tr>\n",
              "      <th>230</th>\n",
              "      <td>1</td>\n",
              "      <td>1</td>\n",
              "    </tr>\n",
              "    <tr>\n",
              "      <th>108</th>\n",
              "      <td>1</td>\n",
              "      <td>1</td>\n",
              "    </tr>\n",
              "    <tr>\n",
              "      <th>57</th>\n",
              "      <td>1</td>\n",
              "      <td>1</td>\n",
              "    </tr>\n",
              "    <tr>\n",
              "      <th>412</th>\n",
              "      <td>1</td>\n",
              "      <td>1</td>\n",
              "    </tr>\n",
              "    <tr>\n",
              "      <th>246</th>\n",
              "      <td>0</td>\n",
              "      <td>0</td>\n",
              "    </tr>\n",
              "    <tr>\n",
              "      <th>390</th>\n",
              "      <td>1</td>\n",
              "      <td>1</td>\n",
              "    </tr>\n",
              "    <tr>\n",
              "      <th>401</th>\n",
              "      <td>1</td>\n",
              "      <td>1</td>\n",
              "    </tr>\n",
              "    <tr>\n",
              "      <th>42</th>\n",
              "      <td>1</td>\n",
              "      <td>1</td>\n",
              "    </tr>\n",
              "    <tr>\n",
              "      <th>351</th>\n",
              "      <td>1</td>\n",
              "      <td>1</td>\n",
              "    </tr>\n",
              "    <tr>\n",
              "      <th>94</th>\n",
              "      <td>1</td>\n",
              "      <td>0</td>\n",
              "    </tr>\n",
              "    <tr>\n",
              "      <th>305</th>\n",
              "      <td>1</td>\n",
              "      <td>1</td>\n",
              "    </tr>\n",
              "    <tr>\n",
              "      <th>566</th>\n",
              "      <td>0</td>\n",
              "      <td>0</td>\n",
              "    </tr>\n",
              "    <tr>\n",
              "      <th>274</th>\n",
              "      <td>1</td>\n",
              "      <td>1</td>\n",
              "    </tr>\n",
              "    <tr>\n",
              "      <th>238</th>\n",
              "      <td>1</td>\n",
              "      <td>1</td>\n",
              "    </tr>\n",
              "    <tr>\n",
              "      <th>585</th>\n",
              "      <td>1</td>\n",
              "      <td>1</td>\n",
              "    </tr>\n",
              "    <tr>\n",
              "      <th>141</th>\n",
              "      <td>1</td>\n",
              "      <td>1</td>\n",
              "    </tr>\n",
              "    <tr>\n",
              "      <th>270</th>\n",
              "      <td>1</td>\n",
              "      <td>1</td>\n",
              "    </tr>\n",
              "    <tr>\n",
              "      <th>464</th>\n",
              "      <td>1</td>\n",
              "      <td>1</td>\n",
              "    </tr>\n",
              "    <tr>\n",
              "      <th>129</th>\n",
              "      <td>1</td>\n",
              "      <td>1</td>\n",
              "    </tr>\n",
              "    <tr>\n",
              "      <th>245</th>\n",
              "      <td>1</td>\n",
              "      <td>1</td>\n",
              "    </tr>\n",
              "    <tr>\n",
              "      <th>361</th>\n",
              "      <td>0</td>\n",
              "      <td>0</td>\n",
              "    </tr>\n",
              "    <tr>\n",
              "      <th>472</th>\n",
              "      <td>1</td>\n",
              "      <td>1</td>\n",
              "    </tr>\n",
              "    <tr>\n",
              "      <th>411</th>\n",
              "      <td>1</td>\n",
              "      <td>0</td>\n",
              "    </tr>\n",
              "    <tr>\n",
              "      <th>222</th>\n",
              "      <td>1</td>\n",
              "      <td>1</td>\n",
              "    </tr>\n",
              "    <tr>\n",
              "      <th>133</th>\n",
              "      <td>1</td>\n",
              "      <td>0</td>\n",
              "    </tr>\n",
              "    <tr>\n",
              "      <th>229</th>\n",
              "      <td>1</td>\n",
              "      <td>1</td>\n",
              "    </tr>\n",
              "    <tr>\n",
              "      <th>511</th>\n",
              "      <td>0</td>\n",
              "      <td>0</td>\n",
              "    </tr>\n",
              "    <tr>\n",
              "      <th>360</th>\n",
              "      <td>1</td>\n",
              "      <td>1</td>\n",
              "    </tr>\n",
              "    <tr>\n",
              "      <th>532</th>\n",
              "      <td>0</td>\n",
              "      <td>0</td>\n",
              "    </tr>\n",
              "    <tr>\n",
              "      <th>307</th>\n",
              "      <td>1</td>\n",
              "      <td>1</td>\n",
              "    </tr>\n",
              "    <tr>\n",
              "      <th>75</th>\n",
              "      <td>1</td>\n",
              "      <td>0</td>\n",
              "    </tr>\n",
              "    <tr>\n",
              "      <th>181</th>\n",
              "      <td>1</td>\n",
              "      <td>1</td>\n",
              "    </tr>\n",
              "    <tr>\n",
              "      <th>368</th>\n",
              "      <td>1</td>\n",
              "      <td>1</td>\n",
              "    </tr>\n",
              "    <tr>\n",
              "      <th>132</th>\n",
              "      <td>1</td>\n",
              "      <td>0</td>\n",
              "    </tr>\n",
              "    <tr>\n",
              "      <th>227</th>\n",
              "      <td>1</td>\n",
              "      <td>1</td>\n",
              "    </tr>\n",
              "    <tr>\n",
              "      <th>449</th>\n",
              "      <td>0</td>\n",
              "      <td>0</td>\n",
              "    </tr>\n",
              "    <tr>\n",
              "      <th>309</th>\n",
              "      <td>1</td>\n",
              "      <td>0</td>\n",
              "    </tr>\n",
              "    <tr>\n",
              "      <th>510</th>\n",
              "      <td>1</td>\n",
              "      <td>1</td>\n",
              "    </tr>\n",
              "    <tr>\n",
              "      <th>26</th>\n",
              "      <td>1</td>\n",
              "      <td>1</td>\n",
              "    </tr>\n",
              "    <tr>\n",
              "      <th>173</th>\n",
              "      <td>0</td>\n",
              "      <td>0</td>\n",
              "    </tr>\n",
              "    <tr>\n",
              "      <th>288</th>\n",
              "      <td>1</td>\n",
              "      <td>1</td>\n",
              "    </tr>\n",
              "    <tr>\n",
              "      <th>86</th>\n",
              "      <td>1</td>\n",
              "      <td>1</td>\n",
              "    </tr>\n",
              "    <tr>\n",
              "      <th>95</th>\n",
              "      <td>1</td>\n",
              "      <td>1</td>\n",
              "    </tr>\n",
              "    <tr>\n",
              "      <th>393</th>\n",
              "      <td>1</td>\n",
              "      <td>1</td>\n",
              "    </tr>\n",
              "    <tr>\n",
              "      <th>135</th>\n",
              "      <td>0</td>\n",
              "      <td>0</td>\n",
              "    </tr>\n",
              "    <tr>\n",
              "      <th>40</th>\n",
              "      <td>1</td>\n",
              "      <td>1</td>\n",
              "    </tr>\n",
              "    <tr>\n",
              "      <th>197</th>\n",
              "      <td>1</td>\n",
              "      <td>1</td>\n",
              "    </tr>\n",
              "    <tr>\n",
              "      <th>219</th>\n",
              "      <td>1</td>\n",
              "      <td>1</td>\n",
              "    </tr>\n",
              "  </tbody>\n",
              "</table>\n",
              "</div>"
            ],
            "text/plain": [
              "     Predictions  Actual Values\n",
              "241            1              1\n",
              "267            1              1\n",
              "230            1              1\n",
              "108            1              1\n",
              "57             1              1\n",
              "412            1              1\n",
              "246            0              0\n",
              "390            1              1\n",
              "401            1              1\n",
              "42             1              1\n",
              "351            1              1\n",
              "94             1              0\n",
              "305            1              1\n",
              "566            0              0\n",
              "274            1              1\n",
              "238            1              1\n",
              "585            1              1\n",
              "141            1              1\n",
              "270            1              1\n",
              "464            1              1\n",
              "129            1              1\n",
              "245            1              1\n",
              "361            0              0\n",
              "472            1              1\n",
              "411            1              0\n",
              "222            1              1\n",
              "133            1              0\n",
              "229            1              1\n",
              "511            0              0\n",
              "360            1              1\n",
              "532            0              0\n",
              "307            1              1\n",
              "75             1              0\n",
              "181            1              1\n",
              "368            1              1\n",
              "132            1              0\n",
              "227            1              1\n",
              "449            0              0\n",
              "309            1              0\n",
              "510            1              1\n",
              "26             1              1\n",
              "173            0              0\n",
              "288            1              1\n",
              "86             1              1\n",
              "95             1              1\n",
              "393            1              1\n",
              "135            0              0\n",
              "40             1              1\n",
              "197            1              1\n",
              "219            1              1"
            ]
          },
          "execution_count": 731,
          "metadata": {},
          "output_type": "execute_result"
        }
      ],
      "source": [
        "Prediction_accuracy = pd.DataFrame({'Predictions': mod.predict(X_test), 'Actual Values': Y_test})\n",
        "Prediction_accuracy.head(50)"
      ]
    },
    {
      "cell_type": "code",
      "execution_count": null,
      "id": "7788ce6e",
      "metadata": {
        "id": "7788ce6e"
      },
      "outputs": [],
      "source": []
    },
    {
      "cell_type": "code",
      "execution_count": null,
      "id": "36ea57a7",
      "metadata": {
        "id": "36ea57a7"
      },
      "outputs": [],
      "source": []
    }
  ],
  "metadata": {
    "kernelspec": {
      "display_name": "Python 3 (ipykernel)",
      "language": "python",
      "name": "python3"
    },
    "language_info": {
      "codemirror_mode": {
        "name": "ipython",
        "version": 3
      },
      "file_extension": ".py",
      "mimetype": "text/x-python",
      "name": "python",
      "nbconvert_exporter": "python",
      "pygments_lexer": "ipython3",
      "version": "3.9.12"
    },
    "colab": {
      "provenance": []
    }
  },
  "nbformat": 4,
  "nbformat_minor": 5
}